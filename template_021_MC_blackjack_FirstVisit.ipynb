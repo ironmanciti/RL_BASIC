{
 "cells": [
  {
   "cell_type": "markdown",
   "id": "7217dace",
   "metadata": {},
   "source": [
    "# 021_MC_blackjack_FirstVisit\n",
    "## Suntton p.92 First-Visit MC predictions, for estimating V ~ v_pi\n",
    "<img src=\"https://miro.medium.com/max/1400/1*ILNp-qVAAohsOE2_rpWE2A.png\" width=600/>\n",
    "\n",
    "### card 조합에 따른 State Value estimate\n",
    "\n",
    "First-Visit MC Algorithm 을 이용하여 Blackjack game 의 모든 State Value 계산\n",
    "\n",
    "- Input : 평가 대상인 policy 𝜋\n",
    "\n",
    "- Random value 로 V 생성하고, 모든 state 에 대한 return 을 저장할 empty Returns[S] list 생성\n",
    "\n",
    "- Policy 를 이용하여 episode 생성\n",
    "\n",
    "- 에피소드 각 state 마다 first state 부터 이전 state (𝑆_(𝑡−1)) 까지의 return 을 더한다.\n",
    "\n",
    "- 합한 return 을 평균하여 value 평가를 한다."
   ]
  }
 ],
 "metadata": {
  "kernelspec": {
   "display_name": "Python 3",
   "language": "python",
   "name": "python3"
  },
  "language_info": {
   "codemirror_mode": {
    "name": "ipython",
    "version": 3
   },
   "file_extension": ".py",
   "mimetype": "text/x-python",
   "name": "python",
   "nbconvert_exporter": "python",
   "pygments_lexer": "ipython3",
   "version": "3.9.7"
  }
 },
 "nbformat": 4,
 "nbformat_minor": 5
}
