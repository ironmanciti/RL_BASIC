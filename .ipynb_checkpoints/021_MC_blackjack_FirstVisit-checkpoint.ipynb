{
 "cells": [
  {
   "attachments": {},
   "cell_type": "markdown",
   "id": "7217dace",
   "metadata": {},
   "source": [
    "# 021_MC_blackjack_FirstVisit\n",
    "## Suntton p.92 First-Visit MC predictions, for estimating V ~ v_pi\n",
    "<img src=\"https://miro.medium.com/max/1400/1*ILNp-qVAAohsOE2_rpWE2A.png\" width=600/>\n",
    "\n",
    "### card 조합에 따른 State Value estimate\n",
    "\n",
    "First-Visit MC Algorithm 을 이용하여 Blackjack game 의 모든 State Value 계산\n",
    "\n",
    "- Input : 평가 대상인 policy 𝜋\n",
    "\n",
    "- Random value 로 V 생성하고, 모든 state 에 대한 return 을 저장할 empty Returns[S] list 생성\n",
    "\n",
    "- Policy 를 이용하여 episode 생성\n",
    "\n",
    "- 에피소드 각 state 마다 first state 부터 이전 state (𝑆_(𝑡−1)) 까지의 return 을 더한다.\n",
    "\n",
    "- 합한 return 을 평균하여 value 평가를 한다."
   ]
  },
  {
   "cell_type": "code",
   "execution_count": 4,
   "id": "4e807881",
   "metadata": {},
   "outputs": [],
   "source": [
    "import gym \n",
    "import numpy as np\n",
    "import matplotlib.pyplot as plt\n",
    "from collections import defaultdict\n",
    "\n",
    "stick_threshold = 19\n",
    "win_cnt = 0\n",
    "lose_cnt = 0\n",
    "draw_cnt = 0\n",
    "num_episodes = 100_000\n",
    "GAMMA = 1  # no discount\n",
    "\n",
    "env = gym.make(\"Blackjack-v1\")"
   ]
  },
  {
   "cell_type": "code",
   "execution_count": 5,
   "id": "a36baa6a",
   "metadata": {},
   "outputs": [
    {
     "name": "stdout",
     "output_type": "stream",
     "text": [
      "episode 0 completed...\n",
      "episode 5000 completed...\n",
      "episode 10000 completed...\n",
      "episode 15000 completed...\n",
      "episode 20000 completed...\n",
      "episode 25000 completed...\n",
      "episode 30000 completed...\n",
      "episode 35000 completed...\n",
      "episode 40000 completed...\n",
      "episode 45000 completed...\n",
      "episode 50000 completed...\n",
      "episode 55000 completed...\n",
      "episode 60000 completed...\n",
      "episode 65000 completed...\n",
      "episode 70000 completed...\n",
      "episode 75000 completed...\n",
      "episode 80000 completed...\n",
      "episode 85000 completed...\n",
      "episode 90000 completed...\n",
      "episode 95000 completed...\n"
     ]
    }
   ],
   "source": [
    "# Input: a policy pi to be evaluated\n",
    "def pi(state):\n",
    "    # state : (player card sum, dealer open card, usable_ace 보유) ex) (6, 1, False)\n",
    "    # player card 가 stick_threshold 이상이면 무조건 stick 하고\n",
    "    # else 이면 hit 하는 전략\n",
    "    #0:stick, 1:hit\n",
    "    return 0 if state[0] >= stick_threshold else 1  \n",
    "\n",
    "# Initialize V(s)\n",
    "# Returns(s) <- empty list for all s\n",
    "V = defaultdict(float)\n",
    "Returns = defaultdict(list)\n",
    "\n",
    "# Loop forever(for each episode)\n",
    "for i in range(num_episodes):\n",
    "    \n",
    "    #Generate an episode following pi: S0,A0,R1,S1,A1,R2,..ST-1,AT-1,RT\n",
    "    episode = []\n",
    "    s = env.reset() # s: (sum_hand(player), dealer open card, usable_ace 보유)\n",
    "    while True:\n",
    "        a = pi(s)  # 정책 pi 를 따름\n",
    "        s_, r, done, _ = env.step(a) \n",
    "        episode.append((s, a, r))\n",
    "        if done:\n",
    "            if r == 1:\n",
    "                win_cnt += 1\n",
    "            elif r == -1:\n",
    "                lose_cnt += 1\n",
    "            else:\n",
    "                draw_cnt += 1\n",
    "            break\n",
    "        s = s_\n",
    "        \n",
    "    #G <- 0\n",
    "    G = 0\n",
    "    #Loop for each step of spisode: t=T-1,T-2,...,0\n",
    "    for s, a, r in episode[::-1]:\n",
    "        #G <- gamma*G + R_(t+1)\n",
    "        G = GAMMA * G + r  \n",
    "        visited_states = []\n",
    "        #Unless S_t appears in S_0, S_1,...S_(t-1):          \n",
    "        if s not in visited_states:\n",
    "            #Append G to Returns(S_t)\n",
    "            Returns[s].append(G)\n",
    "            #V(S_t) <- average(Returns(S_t))\n",
    "            V[s] = np.mean(Returns[s])\n",
    "            visited_states.append(s)    \n",
    "            \n",
    "    if i % 5000 == 0:\n",
    "        print(f\"episode {i} completed...\") "
   ]
  },
  {
   "cell_type": "code",
   "execution_count": 6,
   "id": "39404f95",
   "metadata": {},
   "outputs": [
    {
     "name": "stdout",
     "output_type": "stream",
     "text": [
      "stick threshold = 19\n",
      "win ratio = 36.68%\n",
      "lose ratio = 56.11%\n",
      "draw ratio = 7.21%\n"
     ]
    }
   ],
   "source": [
    "print('stick threshold = {}'.format(stick_threshold))\n",
    "print(\"win ratio = {:.2f}%\".format(win_cnt/num_episodes*100))\n",
    "print(\"lose ratio = {:.2f}%\".format(lose_cnt/num_episodes*100))\n",
    "print(\"draw ratio = {:.2f}%\".format(draw_cnt/num_episodes*100))"
   ]
  },
  {
   "cell_type": "code",
   "execution_count": 10,
   "id": "6ad99dfe",
   "metadata": {},
   "outputs": [
    {
     "name": "stdout",
     "output_type": "stream",
     "text": [
      "player가 손에 21를 들고 dealer가 3를 보여주고 있을 때\n",
      "\tstate (21, 3, True)의 가치 = 0.99\n",
      "player가 손에 14를 들고 dealer가 1를 보여주고 있을 때\n",
      "\tstate (14, 1, False)의 가치 = -0.61\n"
     ]
    }
   ],
   "source": [
    "sample_state = (21, 3, True)\n",
    "print(f\"player가 손에 {sample_state[0]}를 들고 dealer가 {sample_state[1]}를 보여주고 있을 때\")\n",
    "print(\"\\tstate {}의 가치 = {:.2f}\".format(sample_state, V[sample_state]))\n",
    "\n",
    "sample_state = (14, 1, False)\n",
    "print(f\"player가 손에 {sample_state[0]}를 들고 dealer가 {sample_state[1]}를 보여주고 있을 때\")\n",
    "print(\"\\tstate {}의 가치 = {:.2f}\".format(sample_state, V[sample_state]))"
   ]
  },
  {
   "cell_type": "code",
   "execution_count": null,
   "id": "df849da5",
   "metadata": {},
   "outputs": [],
   "source": []
  }
 ],
 "metadata": {
  "kernelspec": {
   "display_name": "Python 3",
   "language": "python",
   "name": "python3"
  },
  "language_info": {
   "codemirror_mode": {
    "name": "ipython",
    "version": 3
   },
   "file_extension": ".py",
   "mimetype": "text/x-python",
   "name": "python",
   "nbconvert_exporter": "python",
   "pygments_lexer": "ipython3",
   "version": "3.9.7"
  }
 },
 "nbformat": 4,
 "nbformat_minor": 5
}
