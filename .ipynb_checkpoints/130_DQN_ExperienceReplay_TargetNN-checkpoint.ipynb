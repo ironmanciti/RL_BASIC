{
 "cells": [
  {
   "cell_type": "markdown",
   "id": "53008013",
   "metadata": {
    "id": "c3e89aca-6c52-4b20-b1a3-9279ef0fd99b"
   },
   "source": [
    "# 130. Deep Q-Network (DQN) \n",
    "\n",
    "## Deep Q-learning Target NN and DDQN - Deep Mind\n",
    "#### Playing Atari with Deep Reinforcement Learning - 2015.2\n",
    "\n",
    "<img src=\"https://miro.medium.com/max/1400/1*Xq6RioWPiUo3VppN_tb0OQ.png\" width=500 />\n",
    "\n"
   ]
  },
  {
   "cell_type": "markdown",
   "id": "51b152ff",
   "metadata": {
    "id": "fd834f1b-51c4-4910-a4d6-3b212e1a2a5a"
   },
   "source": [
    "## Deep Q-Network (DQN)"
   ]
  },
  {
   "cell_type": "code",
   "execution_count": 1,
   "id": "0d4e3a8d",
   "metadata": {
    "colab": {
     "base_uri": "https://localhost:8080/"
    },
    "id": "k1aOb09toPb5",
    "outputId": "0ef84e73-027f-4856-ac8f-2bacf45e78cc"
   },
   "outputs": [
    {
     "name": "stdout",
     "output_type": "stream",
     "text": [
      "\u001b[?25l\r",
      "\u001b[K     |▊                               | 10 kB 28.2 MB/s eta 0:00:01\r",
      "\u001b[K     |█▌                              | 20 kB 8.7 MB/s eta 0:00:01\r",
      "\u001b[K     |██▏                             | 30 kB 6.3 MB/s eta 0:00:01\r",
      "\u001b[K     |███                             | 40 kB 5.9 MB/s eta 0:00:01\r",
      "\u001b[K     |███▋                            | 51 kB 2.7 MB/s eta 0:00:01\r",
      "\u001b[K     |████▍                           | 61 kB 3.2 MB/s eta 0:00:01\r",
      "\u001b[K     |█████▏                          | 71 kB 3.4 MB/s eta 0:00:01\r",
      "\u001b[K     |█████▉                          | 81 kB 3.6 MB/s eta 0:00:01\r",
      "\u001b[K     |██████▋                         | 92 kB 4.0 MB/s eta 0:00:01\r",
      "\u001b[K     |███████▎                        | 102 kB 3.2 MB/s eta 0:00:01\r",
      "\u001b[K     |████████                        | 112 kB 3.2 MB/s eta 0:00:01\r",
      "\u001b[K     |████████▊                       | 122 kB 3.2 MB/s eta 0:00:01\r",
      "\u001b[K     |█████████▌                      | 133 kB 3.2 MB/s eta 0:00:01\r",
      "\u001b[K     |██████████▎                     | 143 kB 3.2 MB/s eta 0:00:01\r",
      "\u001b[K     |███████████                     | 153 kB 3.2 MB/s eta 0:00:01\r",
      "\u001b[K     |███████████▊                    | 163 kB 3.2 MB/s eta 0:00:01\r",
      "\u001b[K     |████████████▍                   | 174 kB 3.2 MB/s eta 0:00:01\r",
      "\u001b[K     |█████████████▏                  | 184 kB 3.2 MB/s eta 0:00:01\r",
      "\u001b[K     |█████████████▉                  | 194 kB 3.2 MB/s eta 0:00:01\r",
      "\u001b[K     |██████████████▋                 | 204 kB 3.2 MB/s eta 0:00:01\r",
      "\u001b[K     |███████████████▍                | 215 kB 3.2 MB/s eta 0:00:01\r",
      "\u001b[K     |████████████████                | 225 kB 3.2 MB/s eta 0:00:01\r",
      "\u001b[K     |████████████████▉               | 235 kB 3.2 MB/s eta 0:00:01\r",
      "\u001b[K     |█████████████████▌              | 245 kB 3.2 MB/s eta 0:00:01\r",
      "\u001b[K     |██████████████████▎             | 256 kB 3.2 MB/s eta 0:00:01\r",
      "\u001b[K     |███████████████████             | 266 kB 3.2 MB/s eta 0:00:01\r",
      "\u001b[K     |███████████████████▊            | 276 kB 3.2 MB/s eta 0:00:01\r",
      "\u001b[K     |████████████████████▌           | 286 kB 3.2 MB/s eta 0:00:01\r",
      "\u001b[K     |█████████████████████▏          | 296 kB 3.2 MB/s eta 0:00:01\r",
      "\u001b[K     |██████████████████████          | 307 kB 3.2 MB/s eta 0:00:01\r",
      "\u001b[K     |██████████████████████▋         | 317 kB 3.2 MB/s eta 0:00:01\r",
      "\u001b[K     |███████████████████████▍        | 327 kB 3.2 MB/s eta 0:00:01\r",
      "\u001b[K     |████████████████████████        | 337 kB 3.2 MB/s eta 0:00:01\r",
      "\u001b[K     |████████████████████████▉       | 348 kB 3.2 MB/s eta 0:00:01\r",
      "\u001b[K     |█████████████████████████▋      | 358 kB 3.2 MB/s eta 0:00:01\r",
      "\u001b[K     |██████████████████████████▎     | 368 kB 3.2 MB/s eta 0:00:01\r",
      "\u001b[K     |███████████████████████████     | 378 kB 3.2 MB/s eta 0:00:01\r",
      "\u001b[K     |███████████████████████████▊    | 389 kB 3.2 MB/s eta 0:00:01\r",
      "\u001b[K     |████████████████████████████▌   | 399 kB 3.2 MB/s eta 0:00:01\r",
      "\u001b[K     |█████████████████████████████▏  | 409 kB 3.2 MB/s eta 0:00:01\r",
      "\u001b[K     |██████████████████████████████  | 419 kB 3.2 MB/s eta 0:00:01\r",
      "\u001b[K     |██████████████████████████████▊ | 430 kB 3.2 MB/s eta 0:00:01\r",
      "\u001b[K     |███████████████████████████████▍| 440 kB 3.2 MB/s eta 0:00:01\r",
      "\u001b[K     |████████████████████████████████| 448 kB 3.2 MB/s \n",
      "\u001b[?25h"
     ]
    }
   ],
   "source": [
    "# 2D physics library\n",
    "!pip3 install -q box2d-py\n",
    "\n",
    "# # install dependencies needed for recording videos\n",
    "!apt-get install -y xvfb x11-utils > tmp\n",
    "!pip install -q pyvirtualdisplay==0.2.*"
   ]
  },
  {
   "cell_type": "code",
   "execution_count": 2,
   "id": "87ba52dd",
   "metadata": {
    "colab": {
     "base_uri": "https://localhost:8080/"
    },
    "id": "22518486-3c2f-47fe-92b3-1502875eacfe",
    "outputId": "5eb74c10-a186-4653-98d3-c510d23e50bc"
   },
   "outputs": [
    {
     "data": {
      "text/plain": [
       "device(type='cuda', index=0)"
      ]
     },
     "execution_count": 2,
     "metadata": {},
     "output_type": "execute_result"
    }
   ],
   "source": [
    "from IPython import display\n",
    "import matplotlib.pyplot as plt\n",
    "import gym\n",
    "from IPython.display import HTML\n",
    "from pyvirtualdisplay import Display\n",
    "from gym.wrappers.monitoring.video_recorder import VideoRecorder\n",
    "from base64 import b64encode\n",
    "\n",
    "import random\n",
    "import torch\n",
    "import torch.nn as nn\n",
    "import torch.nn.functional as F\n",
    "import torch.optim as optim\n",
    "\n",
    "import numpy as np\n",
    "from collections import deque, namedtuple\n",
    "\n",
    "device = torch.device(\"cuda:0\" if torch.cuda.is_available() else \"cpu\")\n",
    "device"
   ]
  },
  {
   "cell_type": "markdown",
   "id": "ea8312f5",
   "metadata": {
    "id": "f75f934c-6921-43aa-8389-6df4b993eca4"
   },
   "source": [
    "환경을 초기화합니다."
   ]
  },
  {
   "cell_type": "code",
   "execution_count": 3,
   "id": "88e309e3",
   "metadata": {
    "colab": {
     "base_uri": "https://localhost:8080/"
    },
    "id": "594828b6-da33-481d-ab42-041e8c17ffea",
    "outputId": "03ae8d10-a9a5-4b35-d8cd-d2bb91ffbe96"
   },
   "outputs": [
    {
     "name": "stdout",
     "output_type": "stream",
     "text": [
      "State dimension:  2\n",
      "Number of actions:  3\n"
     ]
    }
   ],
   "source": [
    "env_name = 'MountainCar-v0' # 'LunarLander-v2' #'CartPole-v1' #'MountainCar-v0'\n",
    "env = gym.make(env_name)\n",
    "\n",
    "env.seed(0)\n",
    "num_states = env.observation_space.shape[0]\n",
    "num_actions = env.action_space.n\n",
    "print('State dimension: ', num_states)\n",
    "print('Number of actions: ', num_actions)\n",
    "\n",
    "# Define some hyperparameters\n",
    "if env_name == 'CartPole-v1':\n",
    "    BUFFER_SIZE = 100_000  # replay buffer size\n",
    "    BATCH_SIZE = 64         # minibatch size\n",
    "    GAMMA = 0.99            # discount factor\n",
    "    LR = 0.0005               # learning rate \n",
    "    UPDATE_EVERY = 10        # how often to update the network\n",
    "    WIN_SCORE = 500\n",
    "\n",
    "if env_name == 'LunarLander-v2':\n",
    "    BUFFER_SIZE = 100_000  # replay buffer size\n",
    "    BATCH_SIZE = 64         # minibatch size\n",
    "    GAMMA = 0.99            # discount factor\n",
    "    LR = 0.0005               # learning rate \n",
    "    UPDATE_EVERY = 10        # how often to update the network\n",
    "    WIN_SCORE = 200\n",
    "\n",
    "if env_name == 'MountainCar-v0':\n",
    "    BUFFER_SIZE = 100_000  # replay buffer size\n",
    "    BATCH_SIZE = 64         # minibatch size\n",
    "    GAMMA = 0.99            # discount factor\n",
    "    LR = 0.01               # learning rate \n",
    "    UPDATE_EVERY = 5        # how often to update the network\n",
    "    WIN_SCORE = 200"
   ]
  },
  {
   "cell_type": "markdown",
   "id": "fe3dc611",
   "metadata": {
    "id": "03735bdc-c07e-4c87-b208-cce894bb8e43"
   },
   "source": [
    "### Neural Network Architecture 정의"
   ]
  },
  {
   "cell_type": "code",
   "execution_count": 4,
   "id": "d3dd9b5d",
   "metadata": {
    "id": "ae834607-433e-4ed5-8b23-8de7b53230a8"
   },
   "outputs": [],
   "source": [
    "class QNetwork(nn.Module):\n",
    "    \"\"\"Actor (Policy) Model.\"\"\"\n",
    "\n",
    "    def __init__(self, state_size, action_size, seed):\n",
    "        \"\"\"Initialize parameters and build model.\n",
    "        Params\n",
    "        ======\n",
    "            state_size (int): Dimension of each state\n",
    "            action_size (int): Dimension of each action\n",
    "            seed (int): Random seed\n",
    "        \"\"\"\n",
    "        super(QNetwork, self).__init__()\n",
    "        self.seed = torch.manual_seed(seed)\n",
    "        self.fc1 = nn.Linear(state_size, 64)\n",
    "        self.fc2 = nn.Linear(64, 64)\n",
    "        self.fc3 = nn.Linear(64, action_size)\n",
    "        \n",
    "    def forward(self, state):\n",
    "        \"\"\"Build a network that maps state -> action values.\"\"\"\n",
    "        x = self.fc1(state)\n",
    "        x = F.relu(x)\n",
    "        x = self.fc2(x)\n",
    "        x = F.relu(x)\n",
    "        return self.fc3(x)"
   ]
  },
  {
   "cell_type": "markdown",
   "id": "75e7dff5",
   "metadata": {
    "id": "1d861efe-200c-4690-9698-722abbf0b77c"
   },
   "source": [
    "### Define Agent "
   ]
  },
  {
   "cell_type": "code",
   "execution_count": 5,
   "id": "671f1443",
   "metadata": {
    "id": "0530f456-2bfd-4061-ad62-f14846a9a284"
   },
   "outputs": [],
   "source": [
    "class Agent():\n",
    "\n",
    "    def __init__(self, state_size, action_size, seed):\n",
    "        \"\"\"\n",
    "        Params\n",
    "        ======\n",
    "            state_size (int): dimension of each state\n",
    "            action_size (int): dimension of each action\n",
    "            seed (int): random seed\n",
    "        \"\"\"\n",
    "        self.state_size = state_size\n",
    "        self.action_size = action_size\n",
    "        self.seed = random.seed(seed)\n",
    "\n",
    "        # Q-Network\n",
    "        self.qnetwork_local = QNetwork(state_size, action_size, seed).to(device)\n",
    "        self.qnetwork_target = QNetwork(state_size, action_size, seed).to(device)\n",
    "        self.optimizer = optim.Adam(self.qnetwork_local.parameters(), lr=LR)\n",
    "\n",
    "        # Replay memory\n",
    "        self.memory = ReplayBuffer(action_size, BUFFER_SIZE, BATCH_SIZE, seed)\n",
    "        # 시간 단계 초기화(UPDATE_EVERY 단계 업데이트용)\n",
    "        self.t_step = 0\n",
    "    \n",
    "    def step(self, state, action, reward, next_state, done):\n",
    "        #리플레이 메모리에 experience 저장\n",
    "        self.memory.add(state, action, reward, next_state, done)\n",
    "        \n",
    "        # Learn every UPDATE_EVERY time steps.\n",
    "        self.t_step = (self.t_step + 1) % UPDATE_EVERY\n",
    "        if self.t_step == 0:\n",
    "            # If enough samples are available in memory, get random subset and learn\n",
    "            if len(self.memory) > BATCH_SIZE:\n",
    "                experiences = self.memory.sample()\n",
    "                self.learn(experiences, GAMMA)\n",
    "\n",
    "    def act(self, state, eps=0.):\n",
    "        \"\"\"Returns actions for given state as per current policy.\n",
    "        \n",
    "        Params\n",
    "        ======\n",
    "            state (array_like): current state\n",
    "            eps (float): epsilon, for epsilon-greedy action selection\n",
    "        \"\"\"\n",
    "        state = torch.from_numpy(state).float().unsqueeze(0).to(device)\n",
    "        self.qnetwork_local.eval()\n",
    "        with torch.no_grad():\n",
    "            action_values = self.qnetwork_local(state)\n",
    "        self.qnetwork_local.train()\n",
    "\n",
    "        # Epsilon-greedy action selection\n",
    "        if random.random() > eps:\n",
    "            return np.argmax(action_values.cpu().data.numpy())\n",
    "        else:\n",
    "            return random.choice(np.arange(self.action_size))\n",
    "\n",
    "    def learn(self, experiences, gamma):\n",
    "        \"\"\"Update value parameters using given batch of experience tuples.\n",
    "\n",
    "        Params\n",
    "        ======\n",
    "            experiences (Tuple[torch.Variable]): tuple of (s, a, r, s', done) tuples \n",
    "            gamma (float): discount factor\n",
    "        \"\"\"\n",
    "        # Obtain random minibatch of tuples from D\n",
    "        states, actions, rewards, next_states, dones = experiences\n",
    "\n",
    "        ## Compute and minimize the loss\n",
    "        ### Extract next maximum estimated value from target network\n",
    "        q_targets_next = self.qnetwork_target(next_states).detach().max(1)[0].unsqueeze(1)\n",
    "        ### Calculate target value from bellman equation\n",
    "        q_targets = rewards + gamma * q_targets_next * (1 - dones)\n",
    "        ### Calculate expected value from local network\n",
    "        q_expected = self.qnetwork_local(states).gather(1, actions)\n",
    "        \n",
    "        ### Loss calculation (we used Mean squared error)\n",
    "        loss = F.mse_loss(q_expected, q_targets)\n",
    "        self.optimizer.zero_grad()\n",
    "        loss.backward()\n",
    "        self.optimizer.step()\n",
    "\n",
    "        # ------------------- update target network ------------------- #\n",
    "        self.qnetwork_target.load_state_dict(self.qnetwork_local.state_dict())                  "
   ]
  },
  {
   "cell_type": "markdown",
   "id": "f38cf3d6",
   "metadata": {
    "id": "4eb5db66-ecb3-4bf4-aee1-3e18003c17b0"
   },
   "source": [
    "### Define Replay Buffer"
   ]
  },
  {
   "cell_type": "code",
   "execution_count": 6,
   "id": "4048244d",
   "metadata": {
    "id": "f74bb08e-0b95-42db-9fc8-d609514d55af"
   },
   "outputs": [],
   "source": [
    "class ReplayBuffer:\n",
    "    \"\"\"Fixed-size buffer to store experience tuples.\"\"\"\n",
    "\n",
    "    def __init__(self, action_size, buffer_size, batch_size, seed):\n",
    "        \"\"\"Initialize a ReplayBuffer object.\n",
    "\n",
    "        Params\n",
    "        ======\n",
    "            action_size (int): dimension of each action\n",
    "            buffer_size (int): maximum size of buffer\n",
    "            batch_size (int): size of each training batch\n",
    "            seed (int): random seed\n",
    "        \"\"\"\n",
    "        self.action_size = action_size\n",
    "        self.memory = deque(maxlen=buffer_size)  \n",
    "        self.batch_size = batch_size\n",
    "        self.experience = namedtuple(\"Experience\", \n",
    "                                     field_names=[\"state\", \"action\", \"reward\", \"next_state\", \"done\"])\n",
    "        self.seed = random.seed(seed)\n",
    "    \n",
    "    def add(self, state, action, reward, next_state, done):\n",
    "        \"\"\"Add a new experience to memory.\"\"\"\n",
    "        e = self.experience(state, action, reward, next_state, done)\n",
    "        self.memory.append(e)\n",
    "    \n",
    "    def sample(self):\n",
    "        \"\"\"Randomly sample a batch of experiences from memory.\"\"\"\n",
    "        experiences = random.sample(self.memory, k=self.batch_size)\n",
    "\n",
    "        states = torch.from_numpy(\n",
    "                        np.vstack([e.state for e in experiences if e is not None])).float().to(device)\n",
    "        actions = torch.from_numpy(\n",
    "                        np.vstack([e.action for e in experiences if e is not None])).long().to(device)\n",
    "        rewards = torch.from_numpy(\n",
    "                        np.vstack([e.reward for e in experiences if e is not None])).float().to(device)\n",
    "        next_states = torch.from_numpy(\n",
    "                        np.vstack([e.next_state for e in experiences if e is not None])).float().to(device)\n",
    "        dones = torch.from_numpy(\n",
    "                        np.vstack([e.done for e in experiences if e is not None]).astype(np.uint8)).float().to(device)\n",
    "        return (states, actions, rewards, next_states, dones)\n",
    "\n",
    "    def __len__(self):\n",
    "        \"\"\"Return the current size of internal memory.\"\"\"\n",
    "        return len(self.memory)"
   ]
  },
  {
   "cell_type": "markdown",
   "id": "5ce916c1",
   "metadata": {
    "id": "6bd61b8d-b63e-444f-9cb7-6295df46995d"
   },
   "source": [
    "### Training Process"
   ]
  },
  {
   "cell_type": "code",
   "execution_count": 7,
   "id": "b524942a",
   "metadata": {
    "colab": {
     "base_uri": "https://localhost:8080/"
    },
    "id": "c907ab57-ed48-4824-b27c-8c7d707d6919",
    "outputId": "4a2bfbed-32f5-4fac-c310-55293e051add"
   },
   "outputs": [
    {
     "name": "stdout",
     "output_type": "stream",
     "text": [
      "Episode 100\tAverage Score: -200.00\n",
      "Episode 200\tAverage Score: -200.00\n",
      "Episode 300\tAverage Score: -200.00\n",
      "Episode 400\tAverage Score: -197.48\n",
      "Episode 500\tAverage Score: -195.78\n",
      "Episode 600\tAverage Score: -189.38\n",
      "Episode 700\tAverage Score: -180.15\n",
      "Episode 800\tAverage Score: -173.83\n",
      "Episode 900\tAverage Score: -187.22\n",
      "Episode 1000\tAverage Score: -183.89\n",
      "\n",
      "Complete after 1000 episodes!\tAverage Score: -183.89\n"
     ]
    }
   ],
   "source": [
    "def dqn(n_episodes=1000, max_t=1000, eps_start=1.0, eps_end=0.01, eps_decay=0.995):\n",
    "    \"\"\"Deep Q-Learning.\n",
    "    \n",
    "    Params\n",
    "    ======\n",
    "        n_episodes (int): 최대 훈련 에피소드 수\n",
    "        max_t (int): 에피소드당 최대 timestep 수\n",
    "        eps_start (float): starting value of epsilon, for epsilon-greedy action selection\n",
    "        eps_end (float): minimum value of epsilon\n",
    "        eps_decay (float): multiplicative factor (per episode) for decreasing epsilon\n",
    "    \"\"\"\n",
    "    scores = []                        # list containing scores from each episode\n",
    "    scores_window = deque(maxlen=100)  # last 100 scores\n",
    "    eps = eps_start                    # initialize epsilon\n",
    "    for i_episode in range(1, n_episodes+1):\n",
    "        state = env.reset()\n",
    "        score = 0\n",
    "        for t in range(max_t):\n",
    "            action = agent.act(state, eps)\n",
    "            next_state, reward, done, _ = env.step(action)\n",
    "            agent.step(state, action, reward, next_state, done)\n",
    "            state = next_state\n",
    "            score += reward\n",
    "            if done:\n",
    "                break \n",
    "        scores_window.append(score)       # save most recent score\n",
    "        scores.append(score)              # save most recent score\n",
    "        eps = max(eps_end, eps_decay*eps) # decrease epsilon\n",
    "        print('\\rEpisode {}\\tAverage Score: {:.2f}'.format(i_episode, np.mean(scores_window)), end=\"\")\n",
    "        if i_episode % 100 == 0:\n",
    "            print('\\rEpisode {}\\tAverage Score: {:.2f}'.format(i_episode, np.mean(scores_window)))\n",
    "        if np.mean(scores_window)>=WIN_SCORE or i_episode == n_episodes:\n",
    "            print('\\nComplete after {:d} episodes!\\tAverage Score: {:.2f}'.format(\n",
    "                                                i_episode, np.mean(scores_window)))\n",
    "            torch.save(agent.qnetwork_local.state_dict(), 'checkpoint.pth')\n",
    "            break\n",
    "    return scores\n",
    "\n",
    "agent = Agent(state_size=num_states, action_size=num_actions, seed=0)\n",
    "scores = dqn()"
   ]
  },
  {
   "cell_type": "markdown",
   "id": "079163cd",
   "metadata": {
    "id": "1ba6726a-977a-4345-8897-021302bfc262"
   },
   "source": [
    "### Plot the learning progress"
   ]
  },
  {
   "cell_type": "code",
   "execution_count": 8,
   "id": "7e41ac32",
   "metadata": {
    "colab": {
     "base_uri": "https://localhost:8080/",
     "height": 279
    },
    "id": "d2d491c9-a5dc-4c32-a95d-796f85c60c83",
    "outputId": "e83afe01-5e5e-4102-fa72-cd0b71a5fd5b"
   },
   "outputs": [
    {
     "data": {
      "image/png": "[encoded data removed]",
      "text/plain": [
       "<Figure size 432x288 with 1 Axes>"
      ]
     },
     "metadata": {
      "needs_background": "light"
     },
     "output_type": "display_data"
    }
   ],
   "source": [
    "# plot the scores\n",
    "fig = plt.figure()\n",
    "ax = fig.add_subplot(111)\n",
    "plt.plot(np.arange(len(scores)), scores)\n",
    "plt.ylabel('Score')\n",
    "plt.xlabel('Episode #')\n",
    "plt.show()"
   ]
  },
  {
   "cell_type": "markdown",
   "id": "3355d41c",
   "metadata": {
    "id": "ebb450a9-c530-4f10-b629-53a2d69860c2"
   },
   "source": [
    "### Animate it with Video"
   ]
  },
  {
   "cell_type": "code",
   "execution_count": 9,
   "id": "69d01a1e",
   "metadata": {
    "id": "N_77FUu9tGCv"
   },
   "outputs": [],
   "source": [
    "display = Display(visible=False, size=(1400, 900))\n",
    "_ = display.start()\n",
    "\n",
    "def render_mp4(videopath: str) -> str:\n",
    "  \"\"\"\n",
    "  Gets a string containing a b4-encoded version of the MP4 video\n",
    "  at the specified path.\n",
    "  \"\"\"\n",
    "  mp4 = open(videopath, 'rb').read()\n",
    "  base64_encoded_mp4 = b64encode(mp4).decode()\n",
    "  return f'<video width=400 controls><source src=\"data:video/mp4;' \\\n",
    "         f'base64,{base64_encoded_mp4}\" type=\"video/mp4\"></video>'"
   ]
  },
  {
   "cell_type": "code",
   "execution_count": 14,
   "id": "378660a9",
   "metadata": {
    "id": "dCsNWQakJVJK"
   },
   "outputs": [],
   "source": [
    "file = \"rendering-notrain.mp4\"\n",
    "video = VideoRecorder(env, file)\n",
    "\n",
    "# 시각화\n",
    "state = env.reset()\n",
    "for _ in range(500):\n",
    "    env.render()\n",
    "    video.capture_frame()\n",
    "    action = env.action_space.sample()\n",
    "    state, reward, done, _ = env.step(action)\n",
    "\n",
    "env.close()\n",
    "video.close()"
   ]
  },
  {
   "cell_type": "code",
   "execution_count": 10,
   "id": "22749885",
   "metadata": {
    "colab": {
     "base_uri": "https://localhost:8080/"
    },
    "id": "vkPYTiTvtaBh",
    "outputId": "8d78bb95-da74-42b4-c4d9-1fd8bc95108a"
   },
   "outputs": [
    {
     "data": {
      "text/plain": [
       "<All keys matched successfully>"
      ]
     },
     "execution_count": 10,
     "metadata": {},
     "output_type": "execute_result"
    }
   ],
   "source": [
    "agent.qnetwork_local.load_state_dict(torch.load('checkpoint.pth'))"
   ]
  },
  {
   "cell_type": "code",
   "execution_count": 15,
   "id": "0784e77c",
   "metadata": {
    "id": "x2ALN_96thkU"
   },
   "outputs": [],
   "source": [
    "file = \"rendering-train.mp4\"\n",
    "video = VideoRecorder(env, file)\n",
    "\n",
    "# 시각화\n",
    "state = env.reset()\n",
    "for _ in range(500):\n",
    "    env.render()\n",
    "    video.capture_frame()\n",
    "    action = agent.act(state)\n",
    "    state, reward, done, _ = env.step(action)\n",
    "\n",
    "env.close()\n",
    "video.close()"
   ]
  },
  {
   "cell_type": "code",
   "execution_count": 17,
   "id": "dea50039",
   "metadata": {
    "colab": {
     "base_uri": "https://localhost:8080/",
     "height": 287
    },
    "id": "Ra7GvP0ctxv0",
    "outputId": "92940e6b-398b-4385-bab8-11248aa1deff"
   },
   "outputs": [
    {
     "data": {
      "text/html": [
       "<video width=400 controls><source src=\"data:video/mp4;base64,AAAAIGZ0eXBpc29tAAACAGlzb21pc28yYXZjMW1wNDEAAAAIZnJlZQAAo9htZGF0AAACrwYF//+r3EXpvebZSLeWLNgg2SPu73gyNjQgLSBjb3JlIDE1MiByMjg1NCBlOWE1OTAzIC0gSC4yNjQvTVBFRy00IEFWQyBjb2RlYyAtIENvcHlsZWZ0IDIwMDMtMjAxNyAtIGh0dHA6Ly93d3cudmlkZW9sYW4ub3JnL3gyNjQuaHRtbCAtIG9wdGlvbnM6IGNhYmFjPTEgcmVmPTMgZGVibG9jaz0xOjA6MCBhbmFseXNlPTB4MzoweDExMyBtZT1oZXggc3VibWU9NyBwc3k9MSBwc3lfcmQ9MS4wMDowLjAwIG1peGVkX3JlZj0xIG1lX3JhbmdlPTE2IGNocm9tYV9tZT0xIHRyZWxsaXM9MSA4eDhkY3Q9MSBjcW09MCBkZWFkem9uZT0yMSwxMSBmYXN0X3Bza2lwPTEgY2hyb21hX3FwX29mZnNldD0tMiB0aHJlYWRzPTEyIGxvb2thaGVhZF90aHJlYWRzPTIgc2xpY2VkX3RocmVhZHM9MCBucj0wIGRlY2ltYXRlPTEgaW50ZXJsYWNlZD0wIGJsdXJheV9jb21wYXQ9MCBjb25zdHJhaW5lZF9pbnRyYT0wIGJmcmFtZXM9MyBiX3B5cmFtaWQ9MiBiX2FkYXB0PTEgYl9iaWFzPTAgZGlyZWN0PTEgd2VpZ2h0Yj0xIG9wZW5fZ29wPTAgd2VpZ2h0cD0yIGtleWludD0yNTAga2V5aW50X21pbj0yNSBzY2VuZWN1dD00MCBpbnRyYV9yZWZyZXNoPTAgcmNfbG9va2FoZWFkPTQwIHJjPWNyZiBtYnRyZWU9MSBjcmY9MjMuMCBxY29tcD0wLjYwIHFwbWluPTAgcXBtYXg9NjkgcXBzdGVwPTQgaXBfcmF0aW89MS40MCBhcT0xOjEuMDAAgAAAEMdliIQAN//+9vD+BTY7mNCXEc3onTMfvxW4ujQ3vc4AAAMAAAMAAAjQi8FtY7AtjPgAACWQLfQvoBgADd3auVxz1CajEPUkyBOIeYtadKLwM9g+vtMuhgKeohpNN6O8XniZzRZT+6cre9ppjvGpUDxZHEEv4bqR+4eJiU3kYbUJOttZCzbfERTyikVusEAXqmv2yFM9kFA/+fwCkfSYIUbcFHGyWAxvhiTD33NGffistmVC5Qyvjm4SJtMGlJUgxWohmrSOwr/WGF9xsADXTr3yVC8eYKj7eBh6mr0RAFSUFNojij+RvlrbSFKQoJrHPfQPA3LHODcqsFwf1p9R4IaiUEE1wYa6nZfngiXl0WfG4QXQZ69LFj+WFT2p/s4nwtQkWHAO356tueolY2JMr6eoK6m2iUorgyOQ27o15xZcu55Xv1uzUf9UtlaH+JPgjutV50iHbb8YFgcFFgOOodJNaAbTCELzVF1N9wDPBvNBMuyCMdfKPG9pihd821EzJxaAaF5engz72jeXx7lmaMLXp3/lmA5dY0q3vUqkU9Oof+mUQ7+8UwByTauqsWEiNDX7ZTLbUgMyq/p0qH8P/ebuxnsGQxdMj+8i7PNszA2PtJCdZu8LrNxyS/0SnjGVwAAAAwATnfve2bH1PwHrUxZS93hlDyN4Bh4zpwB99XuHDY5r7JnrDE0zOHohEYyEVrxwFNkwpU/UDeE8SixKHWmzkAA58H9BZ2Di9s0Doh3Ytx/4tEU/GekNDrn3sZI635wV/DJfkHVkIT0zjlZspz9lOd+2dzQ7lkksNAmc/0x8jHHmhoPV0O+ns6zrfhtRI8LFVfZm/quO3AMCvzC4BxquxnJNze6IAMAEOWGkAjvpZrolGz48/2HdNkCjiA3S95kmOlbsRhbCgWDvH9EkTvqo6U/gptEX6F5xS5RYY3pVe1SOwI/pL71oaqnb7GYdKAIw7gPyrXhn4EIdmuE8BAfiBr9hpHar98SfZSMV/98qMMckhbmdPn9VVMXnbV6eR8g8AATkcdWaxnfjiISEvKFlC9hHZiz+z/CFyAmwmJshA1dQKcA5xIhBSqAVSO2Y5ZdynFRjJnBA4AUZV2ZSbD8gPCcj+nxrRJZoR0PhNdBye04ZXeq1S7P7GzA3LKU+MoVZOVf3HaG05/5EOEoQW7J9ZhYlJlAY02BMFTgfJ0VmGfn2UaK0oPlW1cycBM4rqIw2gZnvuAUJiukt4ZsdOI3Iz13o8PN/TnV/9Hpj8MaegQXobbmyzG666vinptMf3kbiOyBHjvZ72pZiB8Gq842jQPNHnKO7/M66oQg0F7b2yASWXSEp4hw06A/VaeNplJupB4X616nmPHuWLxPt6tWsNSNyufHtkO/VTfdNFIFhdfEHX6UCDywQE3cIPbgAAV1Z9IPXgMGAQygYdPY0Xnkc/5ID/TAQz2HvHTlbYH1C42XfZJQuFXnAVKF6f/vzca9uZ1LdyzVso2V3yx14QqpgPawE3bvPP2j2O5+PgBgE/jQ99+4v4BLUOHUaxpQ5Otb9eoHD6II1IFcCsdUt2cfiiqVe1gGEXxU5pzAaBofv66gN+pVAbvMCFxQ/ChoZQLXa0aE5U6sLFQzLKTtazLGNejM8vbyjopOXL4oBzVpCWEiNpM3+cXmI1OBtajQAACnhIdD+3+h9A5jzg7x42EsrOqe74Sj+a/cHZJfrld2esalmuv59otwmgm52scQRe61kEWRu3Molh5Sn55FZPxT5ngecs+tD6nnsQVR1HnW6kpVCBRZ+OryLcFjQeZnU/tB5OV4gkeTemCetHljIDbmbp6typpcDoEhfSGRb0xOWJj/xPg6lhVtuYPh/CayAvuKlWVPIfKqBThJ7W/Bmp+ZwsM14dgn9VyV4qZkIAvVMDHhOoqK0i5t5pbHXL9WwPi9RsXOdRIIezyqA36AnwDEoedTR/+K/p7AX2ip5o4kqMZSM+p+jZyyehmXYJXnZLL9jhEPfTVs6RQzeX8zjBDqCkpD/Ij9V4kwBKLGMOnkLTKudbousvlfKBFAVRzSy16jh5daIv6GHpLZjssYNR3eXgT8IDED1gmFWAUNpntM9jdKtQplX160UFbM7IWis08cC1dIz2JtWZXPBbCsgqN6VigxMz38dQdrDwQOD2TpoDJKvRxrCiHOUofBVwlKvCMoe7/HnLXD89YSDbAgSpfEA0qW6XJ+bSEAbnbQ+8mkrFTvMcOaN1tsPKQDHKv9Wp/7T7OzbiQVuDu4EuxJZewp2CCGfTDtDj9XIXElTG2P+/sFUN3NT4dAkuQ74TPYhG7oYIARlV9fwZFnndINV68pwNZu5gFqmd+ApZPjpRYReF6+QzPqvg39hVKcrMtTx8D1odwXewpIt3fyvkiAwSRR2MRzNbXVEPT/AAnUhwUONnGFejXq+KCtKPtm3IIZACMod80gv1+xm1pS1feUC7r7mQcRUnU2mL0o9K9rgcj0IziK2R34bJDoX02SzVeb/yPt9b8Mi+GMEK+AShPSVh5sTxFNjRXdgECTVKUXm/dnALeoVV7tdrnSwV8flHw5zujQET052H8DmaIEtrqaykBgKq6gTM9LOsQDhut3ttc96eQFXXW/pqplJnpSc+xq1Us+DF/twwGr/lOCMyf73xQ+FfGzM9okg/UXz4doQSWhJ9g1ZLu65aAudgX+nM8ODnoE68hiuoR7pkiUg9FRJkUQ6sI9VtrhGMYGeZ1oomQJ1f3TcOBQaYw2Jxn9HqHgnVfD39x+tjnAHi3e+UmEBbtRg1/nDLWlLi8GTAwjq9u0W/eQMdeDpOMkva1Q243Z/sVyC92jwphcKRolo/V9CAI8ZMD1OUNw6UisLZ59YaUAB2+1UXery1oqrhijbCoZ2AJqnXw/OPMX37Hi78lkj3qBYYGSZu6Vpz+0bJ5RFbM6K9fYuCWhvEqQeqBwJmtrGfuZmdwXp7RN2OQRQv+9BYOJ83Enx/lhIGk8+UZwiMHWUu6lyuPOMb9lNUDcoi+JURPDE5vWfX/g7C0W0h+OF7uzVO4rT13GUe92F77KkPzO1jEadtQH4/NY616HbG/UNOMuWfP638yMbj9oq/IbQ+CNyisYZi1rHyY3DbXdjgBfmbtF5OWrKZWhdGwxKtQpeH2RYqh2jc2Khfc/NRlhnYo5t3896jzkAeTTMk/kdmbC9Yxsw+5m8w92y5E8KMlxGfFdavm2SJ+0SmJ9bb31ZXjYgJY04y3oMmUBWqeeXBguMQtMN0E05+co6jXsqZk1AdDc/f275NB9XwMBssNUwtOgRTUHnckk5CgPsRGgdbPjrT3/LzZF6V+RY7oW4pfwoZN2mIzZ15C2wYZD/ZWqeBPooTtu3XAE28aGImQZDXsJ+0TKMlslGZwPDRryStcaqgswuOnf87xQFTkYid4e0+r6YHAzd0XmB3DZuEbOxCaBXfofimDrzOv+u19UbYZWxeegCbyEPjGoy/xm2ldz+oxqHKGTT/8pNvTF3Dl8h0osR2Tezvi0BBld57p+2E3//e2/76NVTgGuCLENJZOSpVreaP3UhsYQTmBIiFGL8SddhnBXMf6WkO6Wj/OzIwGWqfj/vN/kOFUt3jUn6m4HaT+iuBP9G6kHReXSUewWgevgn5f6RwABp7wuXcUsGUP1EhZLPycufFnTlA71XsNku0WmIZGtH++cPN25Do3Jt/ZtVyULNeH2pQlGoj0sOE5Jn55WIKGhzn+R5AWIa08Zx+zIQPexhelUsRWaDsudxiVso0Qfqz0em0qn8yJBIT/MVs/6sUAi/9CKQ9ol3OKF+lbU1sIigWgKiEJnUyjMP+2kdnzKbEeAtJUXaxoSaoWGUzbmJQR1aGOz/x/4ihgVAYnxHLf4TAMBNZ+RMGxNGcL2yAUzg3iq7gYfD5wABFAvHmxcZB16O1ME46UIYc0q9CjGuLv4HpGucXBkxMP9+TIIiJg5nwmDlTSN3SCw6S8CgLZ5icBxa+XZ5GXM8GGfmdE9ooEM1ur7xvr1t8y3fPXwZ6gW4LfxHZrrd2lfcABFktPlpLYO5DuzRPAwpmdh6qyx+/DYYTXTIdOVfUyEyKN0m/MjKjgXgx9A8eym35k2ed79lkf4pxeFmiJ3QBASXNd8T50y1E2AY8YwbeBLUbizLFRKE/RAxkoJSJrCr4Rl38179cC9kdAzFro9EAPLz0Rx90l7iJ6ft5oABh+gW2jkExV69lm5YTBwjpEWgAXgxm+B4uH/nLQlYrK2L7q22JB0HFr1erQBMbCfUK4Mnza+IbdMj4anrCSEPSFjx6iLLLGNP6kImnFbq9LMf9IBlfMWVMi0QaNMXXg4nh8gSa+fQP1iTz/+jfYtJJp5zuCKEUMkXDc8Jb1aQ8FiZpYUf0wNoJs81PpY2xFtBwlfUew+sm53va8IKoBF+uHoEj5O/IYuk9UJ8ZBpezGFr1braSfKadWOOIFC2sbvXydmtgPrKppHqWUIErHfEIvP9VWWn0wPJSXFac/g7KOQB8bTIeX71g0tgtr1s3KzBFcjaN1XJKoiPctjKpyQKgVn/koIObfD3vJl0XocSPtHyEnnudRa5KAkvjViDvd80U1BAIvMFBbEMapcAAFgB17nSdKh4oN9/7XTMiC0KisLTT27uSqcEYYSEQdbkvzOWskGmExSEp8/CB/jxtWgQzqyYmmNzAiVS0o8aMt1n4VigqL3ToD98ZJrIKIrc45Pst/UKYXvAeNC/gjwNswmIxiDW23Gk31IpToNprr8+KCO+zMSjMwQcWnA5aotxxKw0vWpkJddPxQDY+pB3HBKVYldFelwz/WVL+N//29D3xhPGKfu9AHsrn8pxsdGU0Vy72Km57B2UqvzJkzVMxYCHBbof+u4vKra3tUDJqU2tD6tq1L5NtsUkjYMItOB4WRXIkr88uwjOPQpOIJDij03+WiT2utOtLt73EJPEcYYKXz37kDEE8hU0HVYyrNfzgpeLMhCP886ty9rkz3BiwzQLPmNYjWDNAiQAT62XpIqEWI/bdLVB5WiZ+tZfoJCNOjL08Op3Sf41NeULzuAZ+Te+jeUsgOTqSeZZbvmwx68MOS/9qOWOsejEcFaFDyQ8ae+kxa6OkuNi4swwVtS6M4E5VVglgKCKmk5Abrs4gaQQxUvcL+cO/WEAAFB2nUqEwTleCJFE8Z4JVfWeyi17Yqk7ZXlj59ukBwdQ5tjeXPG30lYpxc3j+DvBdLtKPzx4jhRZkV6WXeawl4I0/VJkdlI9cc/BAZLoOwxS0lJS7HjFfIznuiYzqidYJZZzJkEPKSFwUhJPuc4mDnPUNAtmy+y4jTa3h1pRa3yxrYhcaPsC05e9q2bs5XhF6pwD/uYTBlWHmNR9leFZCL7fA/GrI0p0PTBND6zAUZhSSmEwLWTo1uCHKIlq2JH4i6IiXGLiMfiMruLGY2sK684E5mGF2yN3lg8CavQbhP7R3grMap5SmGLEg5F1uVBHDb87PFAuDeK809PVCb9nPFgnGMTrURRXe3G9evgCxfyQhgEzHokrdYWmmHwW88m5W3ZesTry44rLr7S83EugFX1BFRrdrZKN104ORiT8IsIMqYgTgQv3Ukt8FwWGo59uqaFInNbaUp27U7lEcuS1Fvs6dBMMbM85GvXfx4eVVVQ2pluooqA5PfhKtbfjSrPjQ1SgA7uny7KKDYMVJ82+oTidPu++kdcENI7WJ/oTiU6K4/d5Lj5YDvgnJuzS/q2LghNAAAAYEQAAAlNBmiRsQz/+nhAEVllO55eLoAv8VFxLT8+xkpDi4aiNHlIfPVK3Japmac2r3C5WTlFGvvTxkzoZjyGXK82GbWSZ+7OFLiE1ra6WSlO6U9pNSVsRpXOqq9S4OGgO6vI2Ye7bJdJRAiPGXeYuv2PoFzpyfU0Y1gCvspy68sTeBA5+JDtkJ7/TuW39wW2pnoF3WOzy7HvtbrXh4wmQzOAvgU8DmiC8bhDiPU0WAqgEsvWVc//fKMUB3VfkSKMz51TqRASQ3XIvYDHvRUwCZGPvTrY/UahTYaMxGDLPzX+G7p7k/XfmbKDrXyuCf8nDS6ktRq6jmn8KYFmeFbILoaxre6oteY5mUxDITQrwcdekf9T+TM569a05LfvYicVibzrdiEOWCZ6276tN0kNPurcWK4WCbZ3rUhpkf8aiOOeKIFbXLGKwEZlv29Eiv9nDfejfXqovxFCaumH93YyXWVtrKPrBI5JKDADPcv5nr2XQLVFhaWowlZ1+BJtkGhs5CpAT65aYMUXmAAUjU1s/XCHi8nAFFDXlumxJ01fedWGuIoEORtvv0N/vEi6WH2sY2rVmKeWnQrnKj43fprzRvHeMFv2dapPSorm3q+6Fnda2i04A5Rvk4bDlhsUKda8/kXKrhD4/wGBhCohnOeXseAW+GiGyYm2fJq+tlyZMDI2ZqMi29SOKZTE7ilyVfeSlXV6/6RO5cOI5UJQLYZxaNRoFc82nVFvSx7S63Zk+4HSt3FIEhExeBqPJ2eI80/bSP6JevC/IocGqtC3w9or1vebEW5UuNyorAAAA2UGeQniFfwAfyD49FeRAz9qRqkSedpejvxfOO5cbOZhqbayO95OZgOv1QcLkNcOvgp/roaX4jWjKzwSEwA+xXvIAOz8lDzPGhzGkeVsCTC7j/OMvrkOddGdz97mGZqW/JqU+e3zcbbwLstpguLI3Sj8BXkcopgVIVrwTfJ+EFKRoWRWWmPTnAU4rUoZjGFQN71iIMlEJsX0sJWrSOcTwVHmDUZW+sBadKUao3ly+gEXU6p0irWLptqHVF2UzEqQowX5CXL2sLCTt6hEkGGcZbtflwcldx3NfFJUAAACSAZ5hdEJ/ABFWk9vkvsLdwvYxgwZGXgw6D521vGfLnPULiJD4j1XQJ8nuGqRbrQdWE9VstbMighkXsq1WMDZfz+MABdR3SXEVuqb0rfTKcm3c7+OgZam2hfluHc5ZyynmAcY9umi7PEQHXvphT8fYIFC/MBNmlGIeXEPJKTVre2gAD6+kXOozUqsiGvAI6g3k4twAAACIAZ5jakJ/AAZx4CZ3nRrvA+NiCo/bB95W7FhA+b12ABz76z1Wk7wKm1CcgWqARKbT1EBly7/5hHl5NoiwUsDHQ9cA1esN3tS0DP3ENDjeoPVakX3m7NOIRRgR+LHmB4fS0rtkZWAJMWpntxk5o8ZkaLKR+IkpI+0cGkbmJQYlqfhpw7hSPNgvdQAAAM1BmmVJqEFomUwIZ//+nhAAqPu/fHdP4saGwjQAgKJW4Ag7yOJywrZpBZ0TrUArS5Nxmw6qxQCKWtoucFdjrNatBsobrqxQdhl3yVBIiG4/R1BXEodlkpgi6MI7XCKki9TQzG5/6rsiZl/e9v2OG+KxgVoFWRFyEHxh0HCSWEoY47ZDKFZ2d8AjDiRf0dXmtQxxUeh1drDdVkDtZxmbnuKee8WEztV53oEwXyXrkzebCNtDXX+7UkK3eTksmDlPEguoPfA0N3MgLwydqDGhAAAA90Gah0nhClJlMFESw3/+p4QAAAMAAE2+RZ3+sBiqFzPIwkAFR1rNeFhJ3mniSLH6e8oPXXPHLZrC3gtY3dXo/sH82KwQ3kdLadjCwK3DdMZSkWvCh9dPkyO0TlMb8fy+8auEpFw/0EUU9aMVEa3ymUUff9ttox66f6MUu337sbTnQpZ27sY7m/kJRZqv7eIjHWimX4l045EFz0R/k9bbh3QrWc7Ujd1WfKeJ/hrsffxxrshfsCiiHR6CEQ4Rz135iCjmyRBzMccZ+JihUkb8x/H1X029tfLwOQlLxVmr9PrMfywew6QH17Er/f+BhpytXUd9lW5O5mkAAACDAZ6makJ/AAADAABPq4w3BpBQh1ga8saAN9sA8cKe1ABz1s1khgX1i+vp0MdIsT9/+LUIcY1TSzUrpCXLTKxpqhwjiSbSAwe5gLVGr/tDKmJ0mW0dDSgT0CFFb1k0WEHnDj8Y9o2vTokgMKKyFK3SX7nomz5vfM3rFhL6AUo503/HuMEAAAD8QZqpSeEOiZTBRMN//qeEAAADAABLum9pgnm2l6sx9O/MFb4AFLJpa3Mv5MES8vV/TW1GyWPP5gLbvXhgA+3fM5t8yX66A9xaEpg6PyF8EWmgOlTz9ApuOezCrY3+h0qv+tlo2kJYGAgdL4seCcpa8htgFgHD9Lt0nENB3jK0qi4itdWBKn4IuWkWvPhWz7b4v9Z1JOygYIAJr5Hr0LYNIjx9vqojyjqgrgO18N2k4iU0pC0+wlfeI4vxtsYnzs4CsTaWS5fOjAF0tWoQsyRQr0ZWTx/HqocLssp3nkFBjcfoBfKWO+kbDE6uJzE8Nthd7I9sTTozppnQIEEWAAAAfAGeyGpCfwAAAwAAT5kJl/J+CQ3lsHvTiUw9ehOfRr9QALdvdvMAvOjy2nWvP/Oo01c+7HTbx/Iff74SBNnioz6kyHMvbkyLpZmcLPq/qflkoB6uzVdJErsjPLHvsmbdV+W6YZ//hmrOYIbBtZWbDjXSlnV+J7Px/gFWzmIAAAECQZrLSeEPJlMFPDf//qeEAAADAAAdoG2HnaQAZAaFx8UpVxn91u+hxel/mqvM9GVHXRKBdKHapTBr43/qA7b10n6bp5+W6YPHYJYvRFiBV+qrC+aJrpCx8u8MActxrfwIrJNLS/wAaQjD4b0/AsIDFDzlu+yFarKH6TSMrPWaeiV5zQA0/y8ZSaQAKV/Cuwa36KHtdgFakSXwTEppt0tVK6vjzTxp5jNzyAF6TpVhf1FIuryPPE5fENJxqo/Z3tLjIVj/cTCfiQ1sf6fy2Verk7j0eSIUEvrXnOIPWpHpYLfAlFFyBXaGVqu5falYiyrwBGu8ZNyKBfQ1J4UfYn9tHZM1AAAAhgGe6mpCfwAAAwAAHxZ0OSYAajOsPyKoS0ABtODQESdCFn4OR+w9akVpsLVkJaV2EgZCBAx+56Q+lwPZwer9HrdBoshTNxrAuTB0vCi72c8K/aOdZzD+aPNX5qMrVDcuXNbAioJztFx+/JCshz3R0ljFBmGpEsKEHtJsVEzrw3QT9gIK/WCUAAABbUGa70nhDyZTAhn//p4QAAADAAE9r3omQroAB2h9wtHhOg8Muob7umYOy3ijQNezIYYCvc1tl//9mqZMr8Px4v6JHHfoLGiw8QAqcECcZzIp/RFV2jODmDEMpQtU2tjj6JmwCrqgm6jINtMoBdcZC4XePRY+BdQnZhcMbuHsRHhN4dm8NJq9Qh6lN76MXQMKX+1NELLi092wkb0WEPu3A+c0wlgvGmrK1bOS2HBn7HZZRr+dn/01t79jomJW/8p7UUvvwxn3SHRvyulQnpK3HF5EEgl/grqg7oLW8VqbJnPalneNttxo9XIl2m2TZJsmiZYKYslN6Jliy2ilo8OZ8QS+SVhjwU8u/XpFG9NY/cbkxO5VfThOOew8U/dN5xHp2HVdYztOavP8WeBPzPoCjOE5AAA0YXPmyX36xoa34rCHaEFyuCB+6N4x0ghsahxiLYA3PTtdrhEAWPSW/SJiGBfsol8KwcLQ4mxBKrN2AAAAzkGfDUURPCv/AAADAABBdcPXvQIvE4n8AIQ/cnczGMNDGtT66njhev13yJEus9ex06LdcX0sHLRN/InDREv4gbnLpnbp/rDnmNLIkIS5hAcDw+SQRhIb5rbsLo8dURwEVYtLJogPekwNg3PxB7e8GJYxL0kbwPSwG3V6BeIcNvCClFsJJQtXRHNhQTD82STdAtwSckSZ4g7taAjZ8kL9d82fIQrJBDdv/9mrzHMnXWQwYgD7YDWYrehP0x8XI5UfD6KPc/V6SBSQraPOgiGBAAAAnwGfLHRCfwAAAwAAU9uSHBrgw8ST5z5LIwEbvvO0AA6fCUD+0p1p0MzZHdo/qy9f8mwjxEcO7MrTNOJlvmGWEjZOapzpeD05a4WJaY9Vm+VBvEPXlluaDB37+hdIxw0uo1n3/59AoquQgLLXqJ3deUlcfnpRfDxd0pK4kv35CN2dSZJNa4CxSf2RcB15G+gG34GoDZMwdceYSumFD4RHgQAAAJ0Bny5qQn8AAAMAAFZqU/Lm8AJiOMTWvp5+706BsjfX4r+XKMDJ5XxTrvn5UANJaaWEzIlSo8fzNsGZTqjMWQ1YUI+5DdeaOZxG12G9LPo4f5zRc4f//cZiS/N6IIVCmF8e2+xn29Ee/pDfjMJAy3/3WJpWU/OYZnHXvPmUhURrAvizdmDSLXmEDNce18a0Ies9wSXu5KEJDK+fENhBAAABKUGbMUmoQWiZTBTwz/6eEAAAAwABSGrYmhBy4agmABDb2Pp7VfMQz+ayGaONRwzFjStjKSUHJh3p5qQGW1VQaZBb4VSkNYhry49LNOUAS4+hm+nkHlZ9RtbaI0c0vtMRPEr8NmqsSt83tn+haP8H0vDuGCLm0Ferq3/gtlLe/PoNsYcKRyfRf4bAO6gv3f1kgcghbYqDzbKeKO4FUyNkV+uHdUTM8Af1wYSOTmsicoZguPOMJcgA1ztvwyefebyDIo7swb/hQCT7qPdVTLedzah6P/ihl0ocNwC/GrGfOhkrLJVlZvREq8Wp+h1GzwD3FNp4SUrW+D2DI4N4jpazPmgDXKhSI/6Swcbh+GTibh7lnAYpiV2KdMdls0UUVteO7oDVfvT2ttpakAAAAKIBn1BqQn8AAAMAAFitL9nXqFpVUqSRP+r4AOb+sA6jTaGjFZSFxgWsLTP6ZBM+NYNZ1WhTnCXBPbxdNEEGeinNldARURzINFlM1YlUVXanxxmx41KvOnqAo1AhEswBLxUBzQ9OzNncVfa1HMMetZfsqC8Fr2IbnwPU4CPy8xBW83u/P568K+I0tpFDI8pylWb4Evw1doKq9tPVhaBl20tQwYAAAAEnQZtTSeEKUmUwUsM//p4QAAADAANevdkxhLYADs/ip7y2IIjZA1rYaFVdve/UwbTX61tlXsrJ8+R2YmlNlq9hzDffw0sf0Q6Tv6vVBlp6h6g5+SoYIacsvoT4KwzT8mOY/pnj1NOqeW/4/ju4NBWlPrPBmnth7h0VG29Bfs38KXhOL+ykhXbnEnRa/Pi693lEyCOWZkiqki6WOql6MPXazhKj/evyC0MuZc47A6etbVtArC27bOLi2h7oDnL+If6XM/mMbs743t51clATNyYEstO/m40qs8paLq6fETWL8RCdsFByCVBpDNPZmM+5e+m4oggkGS/UmjgAyG99gQzwNHb35oBwdcdEpROn1qusqhQOBK0SSviPCPEK2mNLr6SBNmv49dF1SwAAALYBn3JqQn8AAAMAAOfsNtsF4AbptnD4zyg1EssAuQJkF4RXF6Y1YqE9itrVuLHnvYpmR7SHiLcF/pPnfYlyWtVwlYXmy7rd/WGZUu/mhOV/CB1HYCAyRxg7gSysEXUCPjVuO7jfDNxgMTbxwwNqo+CUxrdMWWMoHxQG0f7cgoVw7a0quYkLw4CLQwAQQ31fn6befOdEvSySZj6dn2k93sBdFT59ye6LrnsKTdi+bpzilWq8VEhS9wAAATlBm3VJ4Q6JlMFEwz/+nhAAAAMAA3K9/7PuqgAhh7CMZji0fxHc6R57AvYvWnfD7T4JPIT+5JSm+tw1yNNGs7OKD6fXxKTpZpMDggGLZ9/wG1e8jj/PdfxxmZgXFJpajpV/6oCDB8b2B/o3fa87dEHg/w04GDuRT72VbeF0qpVsgNHp8nVR0rJZHpft1EqsiRIW/ILV2uX9DHitwYw5+hTxpXnmioTFqDDhdF6JFwPOv2A0QV+8zIRdqhEuChgxQW5D3j0GnLbI4l6jaI+VAFGSeqXDL8wANkmkk4XtJ5oy/hX0NM9rox0HMlfKdkpWZefEJKeUKWDwKV4EFuJGKt+lqPiwE3sfcpv1xzse2NHwn6G3/HG5XFN9k72HESabpm/Ae6oX/51JsJ5/E6/IPki8Hyj+bWnxBfmIAAAAlgGflGpCfwAAAwACfW/SGGny1P+wHZo1wAc0Vv1QQV/bXC4fmhfpQj839Zy0jhNOXhlRDpgCbwXkRvO7Ps7weEhAPuPuGTxrnnKycm390noTl9hb2XKh6n3/5jhLvGq6hW8HVP63quWYerSbSg9RMYSz4WJDPXypxlhn/h9tRL1Bk5tcvvgXF2l8l7yYZ+Gxxp3BL3++qQAAAQtBm5ZJ4Q8mUwIb//6nhAAAAwAR7pvahrLC2bND0YAEsoB8uSAuasLphz194aJlR7vPEOWzYKYZ2L7MGSrCqFAbIqVZyjKEFY8tTPDI/xUcbRFWrDv2uPkkYCwDH+139J/k4gGHJY8SnCTV8avd8itWpL26SXbXEYUQ9Uwy2+Ppmx/IZm03ftxaf4AZFLJPvgzePBMV5Nb9XsUTkrOG1SvG2nwN5kNW7+29u7udg+y7dhHsFlTjbrgkLQ7d78Q+FsOmpIrPdZKdkbw5R5N3uKzktvU1Fb1EfqD0gUvKJ4pf7b4tlxHG8FkjE6BXDiC7nCMOWwFsrH4eAVvh2IkKrAEphxKLzMyy2pt6CNQAAAFWQZu5SeEPJlMCG//+p4QAAAMABnRNY+Lr4t+v0+gC6DtdAAhxEzlaSYbNq8lx/HNED0kuVlc2bFdDSNSSeZI8tpbQpxUgVsocbQ8b/MQCxAo3EP735q+lrgqqXBUffGAwbBvf2fcKOAHbvT1O5M0/bZMbxGirMBEq0Cp4AgVTu0D//69n9ZbqRgXyNMiucZ8WLLNWQ5IdDdM5pcUppsiALCLMDNZFXrD8j1EQwf3/u9md6NVy7rre+m0XAAGUmlk90RCbCAAto4KiDs+u41Pg6FXl/x/YhisFlVR1G+5g98E/fmVxfX8TCdJb8owrhdPaBbJn2js5imkapQiMHQx1OknHMxM/OGk6NnKZ1HyhP5PM596B5titcLIRtIDLXEQmz6YOpT0BTzOZWniujD47FlRI3FM64lfOg8uf+Kz40FK9/XK7RVYQilzyjT+mB8J2Ad04KFz5AAAAtkGf10URPCv/AAADAAVCv41LcBILNTxn6uLQAZQryKAFbDPHfyo4ZzOaNJSahCnsNXS7ssbHEeL1fP25vYL9WBHYVf8GfDLOuS/n2bUe7yEGFWBN3z6K+cq3iyrMrwjilg7sp30nDBV901xApCHU/+hA5haCzf3PqTmvqWBTC/qrbY/LB6YOYNIkddFAAJ0nwzG+8+kJTdbpBNzglak77s/rmCzYQY17DyKizlJ3XXwa3m3UE55TAAAAqgGf+GpCfwAAAwAGweKcg+CUWM3/jtEfUAHMyviJaClSR+rXGViQds2X83tLRpfv40ulu/NgM+E3xeoWFmkxUHxCJb+YdKKC7T1Z7w10vWP93AolCOAtfiElLVEdFL9b7kcsXb7SqKx84DKuEN17Coyl5Xgu+CXW04aYEYmQjOhzl9qtYkJJo55kalKoE9/MuJdNPkLjpCmoe8TSn9o7LLKbT3stC9qTtEngAAABEUGb/EmoQWiZTAhv//6nhAAAAwAGnAoPh+FfpLgEABO3mplf2GkJpIWX06kND4f6b0DjxGunh2dE8ebZUDtx4pf+m1R69YFwDNgvOvgP46wFBD3g47WB68slLmoA2uxMrtD6xxqVOokfGf+IQz6gNSxwiith+hXqyJ+xR8B6+ujevLgLkLkqRKCIlY9Q6kowCYmcHhcz+weboXPcV3xCbwZFklA0k90w6PKoPgPUDRsdjUm8qpJyzkH+maNEinV18p2PHa35ydKhDI97wRm1BF1gAwpgtbZstybGUD48D6A5XZFj7mezrvbYsVkdssgfNnNel0atjjpxOiZ7DLljeWJpf/HXX9F/PAQZq3Nq8Wc1TQAAAJ9BnhpFESwr/wAAAwAFZruVVxJSZznMNFufm72B9xxSeKcgAvXVBPVQ4NNAgNZqo7i/aTFLqrNF9iQ8GuQDwNOCIY4tfMXi9f/6DX8RAARR2PKNBoY4o96zAqfTlUzb4DjzR23S+4T6Flv8PAZJ1F+d12j7KD6t1NknZbhXGaDuZzx+IIYhnOlGL1rF9Jwu0KtMYdYWX0+gGoQ3it9+MuwAAAB/AZ47akJ/AAADAAbnwXx4jAONYf/fxmrngMQ/WxAA6pT05KXyfqSmmv5zwkXDLC5ex1Qeyjb005KAH4KgbF6B21skLp6VTOdv0DQp4YjxdxdHTF8AWO5DtwtHXthamegvlQE6NywUpDm+XyHFZcCiYFG8/fz6qQvNbnTvt4ZurQAAARNBmiBJqEFsmUwIb//+p4QAAAMAEdHvQScYJALVEqmhxvSLWzHTHjYBCmgmELYBXPDd5YUgm4zbK/oJM7fWE1AUZZ84Ooi02Ed0b27R2Db7cPeDk7BX9We691HF3FDhaEXHnqDZPaXmYhhyV59TRH1pwhOvfxfxeG0dAMFmIvI559QiZFfMTv8hGBiddNN9EJwDSUjPF0i4CEfvhbyleZ+GP2jU1TZKwGc9r4JKuFrLayVRBptUjCJu2DZVpajeRgjrtSdkRFa6MJ7aQV5SBF3/pohd498NQQV8UrMWrK4pe31ZOeCqA90FLvUNHCSr3AYuTVP95p2jZw6uqhkT+YRZVuOgYTYvFjtTEDq3ve//HNfjgQAAAJ9Bnl5FFSwr/wAAAwAOgyFCWy3CISGhNf3dFeQ233KACGDyTgy+7ibKCjNX9pJBhO0AqcLSwZ++RKRd4XvxNVzbBi9sEE0eaPZUj0QZ66GXC7DdfBTHM4/XaaxAM9XmoOi9HhZ+MMxrhHxfr/RD26ISiSAYFt7aP4dwPpzaeuj6XQ7HWDgjZfESsbDlLkpRAt7godZlHHB/8tBtKIjTnzYAAAB3AZ59dEJ/AAADABJVfvQ4yWDvX1jkQp5UEnjNNOrY9dwytXl0/coAEOt0CYVZSL0o9bkpJ4Pm9sP15EDiP0WFzL69jiD6FKbOipb4Nw+C16i6Hz5u/5X4/kGyw4V5zGDt9DwFmuBWYT7gppKTDunZXVvclYveAIAAAACGAZ5/akJ/AAADABLdjlMzv13kgAc/NWZeKVC8WZvgtBOIlI9HPa4i0TCKrpgMP2NePwsJuxPcM0ji5l9dUmL0+ve4U7DzpOWLnpLB/T2nWIQbDn6/hZlQghxu/REvxWrLE5vSQLO+R18qVwO4MXE0TCCO+7XVSgjqyf88g9TR8o40UidYhA0AAADUQZpkSahBbJlMCG///qeEAAADABHaO+c6CQA49vP2/xOPvGbjPy9aieiKqZKhyALkM/wO2Vf9XCzUhvPe9Z5Jx7rO20gMZ2N9gEUXBATOFMxF22OUAtdqrQZxablNhwH2dNDl8TRWv7my7mWhWyWEE1vXa5VHkm4VAiHMH3cVQEyhh12Ok2bSRdgjxlOnZ6zdXvSdvB308V71XE9xR6dA7Nec72xJsOeW9UwHqNBasz+ksEFxoCDMYGgv/6b3HpNDCNDmlAeCzSL7UOdT1y+gdalsLKAAAACCQZ6CRRUsK/8AAAMADnj7MYgBLbrcxanejgiBPKO9WCrV8EHv055VH8fOwKwEklSMNokZ8mYcDaRw0D7pdGrTzUlguPI0bv1QZ9ww+M0b8Y39c4xCWflVXUWYSPGdOmEakwzWPT0yelq/xqxeq2G9tVZ+54pXZmb7yOHD5mJHXXHPwQAAAE8BnqF0Qn8AAAMAEtgouIABEHlvrCFdwZeU3/zZXb9E0V2h9/p/bq3LZHuxq1r7R6Gq+OGiNujRdzq/yqnfLGhcY5fOEJF7zyFDgEuEFtqgAAAAigGeo2pCfwAAAwASmvhl8BlsqQACIAkoSAblMl8xeZK9/FDaK20GSs61mL9FBPS/DD+df3j355qI4Zj7EN7v7YQDhHKWnJMlT630RWy5fcGdtR0SIIL+QrfT5NPPxnuF3v3yofLwQVJbbRrG0DaJgh7g4kTB6S5JotRZA/3Zn10fJSmGhnSJvQ8QGQAAAMZBmqhJqEFsmUwIZ//+nhAAAAMARbpvR6I7dixOAC1ChxI4cDrk2nk0UV6WkudPCTe4wYaZWCQNIunDGgztMaloIZXFApKsYYfJ9vvTiLQ5J0GhvbXcu3G2KZhWNw2uEDCJtqV68wJpsCyiEZyQb4OmSIsiL1b7sdPsp/KEUoHDw+mowbKAH8eDt9NtwQWYna4W3FI6TaGbeFBvdoq+Q14V7Nm/NZNCfaOhzt/h35AROXihtkbSBIY/oiMq7Q7ZjJW9E7P1U0EAAACWQZ7GRRUsK/8AAAMAJb6xrptBIJ/xXSAVGqYJL/nQZSd0VNwAbRN5MSJhRG67oIPaTWD+ny9ZaOPvQ5BnYx8IC2kRHxgY9+WBpqRrIfFRPeqNqdH6wDZshsWGpxqEItjcr0S+sgrcILBSl1aoEnqb+jR+J0EPVOua5u4vZsgNRUuPCwoMlRXZp+lwD2diNxlhqRFyuT/hAAAAfAGe5XRCfwAAAwAS0aAcbrwAhTx72siqozn6fSoAXSIGNm/uyzcQ5BrmrF1mHBazko0olZPuU63PqBU/UA0iLP2Go1fRW4CGKQXbZhEUvH8WcvDN7AkAMv3mFH84VjHLnSP9VL4J+ksBiCrCWusj/YOSNOmYqM7R23urbsEAAACFAZ7nakJ/AAADABLaw6uvYXrnmUlELjQAHOCdO5u/TmOsrLMaJ/RMTmZNXeo7Oc8yYzkiaqM25tXOWyiN5I8r7S9DsYyXxzBZB9hpdLXlwxeeuxjyVM5Z7Fqq/nLLbcSmVGKExyNdLD9oG9gGdEF7XK3rEv3gw+ZbMCM4rziOjStVkgxCDAAAARlBmutJqEFsmUwIX//+jLAAAAMAQn4nPCdTj/h31gBYda4Yy3Q+qgAkfIReDsaGx2G+HjR1YE/g0GlpBigb3TlXrL1APIfOEHkX4JJc4Hx8zBsSYLuoVowSSRBgb03H39EWD0McsjSAiLlELey7JxDZqFHwCDZNPYUkLlCv5kjkoyq0tkXyuNnG1oQv8ZNj+8gIFVBxEqBXJ4i5DYM+7YywYP1Z9wvOuXuhW8Kr6DGsSCFRDFubJEAX3XNfdjawXGHu9PQ8loXRCOL9eyeoNydSbsAjjgrWxi2OHQBihEww45wQxWsRSI5zop9SL8/bTEzPqNEjv8fLNJF3B4VAm0CIDYLkNxnxWe9bM6Uw018ENGDKA2THviC4LwAAAKtBnwlFFSwr/wAAAwAlwZmnIDIaHx0Az5rJapC7lAA0btiI3FJgzW/tmFqp+0hp7Xh3xNysja+XNpUnbKe1/7GQ+FdBvzy/JwSvwQypF3hEnkD9paLCW/glaWltH7ajRuKGeoFeid+GudXUfMTNW2d/X4nnF5M37aWu26l/eq39tdfKFlfAERZbgj1O60GFeb7DW+vUC2ZnCl8FDS9lCvgCx1pYYtIvRN5CwmUAAACjAZ8qakJ/AAADABHYqJtoEhTFdQAhTy36sGr8tjW9Jxpx72t7WEQcUCAtQ+VRWj1lGqo8C+Q1vRVjqxP3GwTyM3nHkC+h5XihYWxAetLh5azLFZxlWrjGdT5n1/0ls28QBdyIYF4G5QZJ710R5F/MCtrjmcWUypiAmAKcRN67NsB9JFAjCbV3PR9xGKx299O8EmckTbRCJ8ttzgLFHwWtg5VjQAAAASJBmyxJqEFsmUwIX//+jLAAAAMACY9MDucv08SnOivgAHVDxMumO2Bwqpik/BtA2SWmFu2Hipl3g4Dzr0YFyNoWNW1nwF5w356yh+ukM8XWeD8feEqaOYy6MWG4s5QojmT2iET98IJlorsNGHaE7f6xXT2gBV9gC6VexnPoLr5qZNlAMQZ3XkCQ6mSRCmHy152OCU6CWJgQ6VPBabD55Ut6OiBpKMub7ECDVgdmjqNCUYbbYNDanryWFFoq+lSalgH356uWGIr37ifTJVm0UcATga5130kzrcSksAys+SmdnFLqmvkzT3zNrgYjxEBlt6mQwka5z1EYwHzFF5I5Ik+mk0/T32d4wtElSL36mA5zWmKlXVPfARIIOVqFiRYWt+5QnwAAAO5Bm01J4QpSZTAhf/6MsAAAAwAJT03prvqSP2fqsswM/GFkR/EAHKibkMOOX4ywkdHzKIJND8T+2iubTFzVcWtfQXcmO6cfLvuNIJe/1Fle9cS4JqbwCbbO7T29khnE6tP/p/37RN/+CigiPncT04pP00hOy67VGAb+uvsv0d9xmx68Fg5MOUccqJ0ooRNgXuD6958MKpEAELIE+7PKOt12ERnTQmUD/9rfzGoensJA6BmqqP6On91HipNzg2HCQVpGIFP+MXVJn4rY3MYOrX5qhx7SW7rmocQRVFBFQReRCk4r4Q7mo1RHMDoyFnXxAAAA8kGbbknhDomUwIZ//p4QAAADAAN3wnOatZOOUd6nuloAJEpu7u2pyqtAtQurmLntg5ZUnA3nBH2bEEEvUGran43ZkRushpaXeSoRduhiKzdr4bTwvVytfGotnZnL9KebQkb1hB5yTubRUdauwszdfKZEwGHgsVG2Sd97//63UrBwH65CDUVnZPo4svskemkycYVZLmzXan5boaiupkAQpYVFbprMw4Hw/vj3j/wkBBJ5hlvUf1Q6SZPzENGpqHCSlwt+pDdq2wILbHJ+tRkSnFbt6/ZWRVkUogbPQyChWOuDTcBd0DwDfeC5mqGkboJ4ybcpAAABBkGbj0nhDyZTAhn//p4QAAADAANfPsflDWknhWC9hq1OAGwIq9IUKSeBZzQVV8+vrkS1fhGfmDixmT391uXXALjGCvvbJFO9ImDdDi141zZDmxqWuwnAfxe5kx4AsFiVqZdt6QeAw0Ol8bmdZgfJk9j384fLFbtQkQZ1/b7ZY/aPGqfU+FmkYcrtE7QbeDjJHNOSWuxCltatSO/UjJ8nNJGZnFsa5e2BPdLs/8MLhnmqr21eNJ3pH7mC8GFguuIlQzJP8Zedv0tnXSBipIOVHFXRQAoDcVfmNNX4qtzsPV/k0QcIjTLI0okKPPS0TD//BvtzrVt5Vu+MQyM7Vk8gc956K/Q+DmcAAAEiQZuwSeEPJlMCGf/+nhAAAAMAA2PCdJKRsF3qZSROBQDY8ABdnTtM5b9dTh4rjBZiZx2VF0ozrQFOBoLd/YMJTWQwlI0hgzA/toDxX8SncG/THUiDDmRPonePr+d8rY2CFUVxN+fmeZzsbyyVSGykVYj56y72cFA6Xm1dRcHm8pZbKfWNOwbGvntOQQdgDvvFCwBSyf4t69BxJyid/fgiDBxoyLb1JHkIMt7jjLiC9ruyaSp2hBYdJWm2umooDB1LYrCdjggJNLmCGSaUEYSkRpo+9qSMcFPq0UKjzxoyJhDKiU/6jwT24pbdMDJ4ObTRo5of/lpfytU906bYVW4ntDTJyEi4sQYyUh8QwEUC2IIqKEDMuNoYXfg+Hqa4dh+v3SAAAAELQZvRSeEPJlMCG//+p4QAAAMAAFGxPMe39kAFnGC2v5RIlU4jATD7gKncuuTlwSTk5u5ixmnnPvZMzgBx46NNig93X0ZAHwZONW8M7mXSn7ov0aAmifDatqWwUugblua8B3vC0VibzVQQR9JTqiiYwTqpmceEMLP1ZYNHmhvJVbLTIJuHqEDT0F5j/UrFx3E7j/J06X8eThE/UqpaVLeltmNoyf2faG53tXztjvCACR2ad4NbulqnwizkRhEIENrDDzunB1otguoZUibR2X1gmnAj0Gn9JsusOf25E7stDFNgUukcFp51ujwgGi8TubhKFxxdFFAFZu2QbJXDgMYQMXOJtVJMqSuTSXyuAAABAkGb80nhDyZTBRE8N//+p4QAAAMAAFI94S+1AgXYjM/EMejSU1sgb/1X89LMwAWLcf23RvCs7NeqFgBWpcyW1H7w7EQk1xi3+4g+kbjGNfeZirPiZLLM9brrdJwhBCXoSg8euZ3QIiKcYQMCoBVQXeQzIP3H/MqrxbWRgiwfsvLFieH7ChIGG8zl8zPg9EBBCyIcRp3B0zUoWSNMWVxvZhAzh3NI/n/KtwFFtbpyqju8wBVgPbx4YGuTxFi4rYbDv2zgK2i6sNgOmBtJ5P9SM/v8YqF5UHFvj1OYMIEWU8b4s78s9D4wzK1/15IwTZ3GgOHYJAduMGLA0NyUSDr3q/BafwAAAL0BnhJqQn8AAAMAAFelZeRVxP7npQK9oATsEaeinMzFqjJDTxNqaEB0elx7SiYB49F7YYId2nwopJQ6WF+Bhq/sWbtVnwgDedkBP/fCA1+/qPZCtGBygTrUwIiLg8YT2ueAieRWeTrREB14yvr2/xgXMTtE6ryRWRvfhEIGFqo0UR0PDPNnHRvukfJEmOU0hWJcjmL+S7hcjC2aWDdqzLDHAoy9kFaFoDoX2JbmaDB1ucQtgWAev5NOeq1nX0AAAAGUQZoXSeEPJlMCGf/+nhAAAAMAAueL0ABYfXgtI1jhsnccaCNsOf99COsuDjpMDdpTYGTKQXMIoq0j/5nTsw4L9gMi197mU6yGv19IHikuuq9t0W7//P3KzJxFgyHJwmRQYSbuEF7dt853X1XupT2uXFO1/DrWdn4+6NmxQBv8oWRL3gkjA6Srpu7vP9jdwv2EXH0PpkYrBr3AAEAngBwXWOlgyVtW4HY8ZbRiFJVmTiOWa/esTXAOjgKfRyrXGIlxyORYJZraSV4QOcgCOaytkDk8BV1oAwAkoiRxpRNCXzmbKQqZJY9PdOdAhYhVRzOvi+3l/2Sm2RVul6UTQH3f0TzE2Hf3rQqlqNMfKHcGxmoC00vXSZIRUGZfWFOcRx4aNm9WNUIUwi9Tf4/I02IyAsn+NcEgA97OrCfF957gWCKlfAPAbP54PP8QYyKxBqmrGyyHNnrx1LhssUD57n7xpr83JIgdZo5232dQCNXgOj3VNmLyfuk76mWfU1Ii3m9JtHm9NHseiZRz3/e0VZmA1BHGj/AAAAElQZ41RRE8K/8AAAMAAJrruVHTA5Re4pVFBoJACWrTYOPITbxRKPRNbw0+GnBfw0RQ5jLj1Uxr8iXYszu2cSoc86ZthlZdpZiSSV+dRX5yLu7QtYz26lzQN7eaG2SzFTkwai+9Kr92DNN9RnNxeNIWS9fME4RvEmQtAdVaQxk6NSgjLj1HPjE86FFMsixNw3P/5GiBHs16KtX5d0WWkP/B7ba8ffCGG6agttDGTeqWhxt/cbjSp378K/uH9Lxmmwp0tMyDWz7BPNAVCsP+FWkXlSJ9a9USPhWoTq9fOU6BXb45d+4UIfTyGFlINpP4SNVl6l3tp6PAzKYQFki4g3OpyV5qsoOAsVc//3gz7TVkwpVhG1pI4Jn5NgNFtAHXBaqm8N7HdmEAAAC3AZ5UdEJ/AAADAABXpWrT98Y1Is46vdocm1EAIfm4CwmM88G5SHgVu+eqwhQ4Ad2g6Th/S8HicnIE1SPRugOn6TUaosjX1S6Zz8tkjtPMhoGZHFRUUjzMq5DJSUb/ZjRJIRlDQhsKI0ZAdgK6WvLaUkQHbfGNA5MvOuZSqkGqjCeq/EQ+Q+AbsKYk8rcnqK2PNlaYjhJAPRICMrm4FFPygqvxli8DxVsfaWVdV1BhhZuH6B54X1qYAAAA4QGeVmpCfwAAAwAAyTwEzvgMt2u4qvs09EnKCVeEAHN/SliiOfRUzSTirDZJZFC4o9VKQPj97dLUAF8ppPjWOHrxx/3K5n9/dyoWCvcjEP5gQitkhL8NO/ns9k/p0uU9NEXTKiGs3+EvGxf7OnGdF3Fao6GrFGG1ddq7GB9vVLC2YSnCXBrTjYcrXcTykFuR74UK0/Kh6+NEgmuh4EzEakLU9viwhdNw4C0AwBHgGZgQlMniWX3GAadimWSPrO8+hHtpLg2CeLwp6/mwIw4qlr//093QUBp97UoCeU6tmqzuEwAAAS5BmlhJqEFomUwIZ//+nhAAAAMABz7OP6ySeom4coAP5DoWtW5t50H7+B4iW6OsVlcbF1Gw/narz01tAdNnszr/XDVEkf5W1n6PoWepzepIcv0ecJ16gkUAKQf8oMHX5pVIPtcWx/98vKrojjJcv2UPycsfJpEIRG0IBNxT8TAPO68JeEj4cn6Ctwd+MPfhpXRqkxMetpWTrbn2x6Bm4T+jzhQSyep88knJYJyu/BJW6ntMH4LhoaGOM1iorctQNxdinO7TP2MAcLhSV5iPJEYcDYVQg2dJEwgphHUKKAG1omTb+eKZlHTsTuAJfgi1YFvr6xikTqlM0LkyEVHxqKmfuw2u37wLKvI1mJWedXAuhsHcFxypflUsMcFI6xZtcAq7EqnWwOmFQ0OPFcgfWQAAAXRBmnpJ4QpSZTBREsM//p4QAAADABLuPOELrV3CWABddc0mB7Qbd5lPeGQulE9E3+KyQtraz1j0ReULUgd5/Es6SxJD7ai0xyaUKzQSowEe3f08VFVJwbr2xyLiRIZeBJgC/HfvotOT2Gi9lH4o9hDhbIupX7tm7/Df2T92CYr6xD+fPiJvPeg//VdTHEDaQr4tkkdpSo9L1/q4TsttbV7+qmkIknOeTtfYlYLGuB+G9t2cXlsHyuVylLvfv51NcAxzTO3kbvGTQrmg+FIuN6+GHO5NmfCN4F9VUDryRcEizelQPf+S3xhyFgfaw1htW7EktzvBFNrd3NnW01ISgK4ArB1VkG3UgQb/V26ZPjvt/jiRnG2v52KoKvrSX0euWrzkZJAhrXdP/vrBopO4CoCkx3BnOqUaSVBHIJsVjfygO5bGPKFKDUQJI8j1vNOKvcViIjqtjC8A2FzX1h7YevqEJqeXXjcpR2UDOOHw96ybuGC55YAAAADHAZ6ZakJ/AAADAAUe3WmN+crlodBAA7GV+jQWuZmU3m/gzqslSP5yHiDMtqf/2h7sb7NLx7Gs8e5ob27tQ1rjAQ8hGT0LmCMd61O4IQa6K5pq8Z20kcInIKR2k/t5thX/iLuKW/AIXqLtPSrIO7dhg9nEp/+T/zzIUTILvh/mW/172WdJcUSmNNuTfQhB5Q7fu0I+biykP5TSijGzMm4zas6mfEJ70qiyAhli3wJsrDl/0Gp5yxU5qlUC/ryuX4gyBVgiqtDnYQAAAaJBmp1J4Q6JlMCGf/6eEAAAAwFR338Em+sAEPxVun6mlypiRiTgAG7Tu7fiQpdwYNCdLEp1f2r3ev5WeEJw6aOVu8Il07Q3u79ijjLmLms32oN52BzaqUdDiTT/NweTaTtOXIQCznz/6IyNIRY8k5le1t5jkmEKs5igcbrVh+rZMsBcih5yDc14itvymB9WimlXu5zJMcJ5CPpINMfg/BIW0qd0SfNBUA93w+MxrMHLbDYpVPc4F4NBnAWcivkCw87ySNqRNqfVWvARxXjdKlJopVvlPFFwY4CDdloiod/D/xlYAzvRDPnmb4QM3QaAQpAETkDfFe4RDWODftQieMh+NIRL4nbS2z0+BonfWxCKN0PGyFVhFwC/XUCahfZqGa6h1ajh+yghT9z9mQnBDZGx8zAuD1f5RHrk2N56zCx7UlbwqWcuUyUTHZAYcOc33Z3lW1ty8Ae8Pl6obdu+9Z4UMu4bVH6Upv/DBKi0oZMu4clXEySX1/3vv4QlDepCZNscxl17AKNqSVo6ceTgtG3wPUSkfyJe+yvnS8xuztSAHlmwAAAA10Geu0UVPCv/AAADAEV13L/tfj4/j5iKlUrioZSTf37BXlwAdZ8VXcsnoUcoAaaAJ8dbvWmeA2plCod+ZVv5xvMz7cUBmJS+fU63O/D/0bzN8hsYUn6Khn2cDOC7NXK8dK/2Cmz79QxMkowdeug9hvsmDRiAJjIYMLb8y89pnaLbX/K4bk92xVMmmH/KZzO8lMXFPk5RIEZdWBbIJ2z9DQRqnkfA/gLdSUvH/2AkZH2y0jQfxPukmj896+bH4aTjmKO87izggShpq5eG/CRdBFuc3mLBqDt9AAAAvAGe3GpCfwAAAwBa7daYMWjq+RBuAmHtABCMjxEQUI9NBRi/WA16rbUe3PCuJaMYDRHEP9zbaUSuKQzmSnmo/udsfUgDrBgs8gnloSYMQSbYK03OBw2Y91R+caFvOFosjew4Cay+WoVGkLKJX3+GlG1grkefNXd+o87xk6BIc8My+aCC8e7AE/Phj5mEl5jy7T64/ESEq5ag9DYOK5r8ADK0tpNqVw1yXvFFPGbNvlQE5vGL9HJQaefnEC+xAAABAkGa3kmoQWiZTAhn//6eEAAAAwNfohC0BBoAB2cDXhIrsq9bJXbUggKOfatzBi1BmTOKlFd1a61nWF5sRv9ErKm38TtoHfvIngpPamZoQNWK+ZlaEhWi/BqoqN05I+L+tsStZ3LwLDzJ3o9NlzLnLpdq7QlM0RrV7PY6yh8zd+AxKx8ZTb1X79LQ1Tfnakui0jWAtz0sScuEhpiKsk5X3FwZvi7XBMi3vdGkcMeG8aB90FjvKBCh574PZT3J2frAHW7t51U77HT0FhpA5YeXN+wEVCYsb1OF1aFqrtRekzBuQ2pXnbNqdNr86VtcZoTK/qyurty/+UOLbTBSqm0cOwAKPAAAAOpBmv9J4QpSZTAhn/6eEAAACKktrAAh+lwtG7Qe0QstDB0LHRpAlYtli48i6QC8a/9CHNoFGp3r5tmWa5vvKJDzOKULmuYg5Vltn9kM/y8DiAuDl9oDyLOHewLUvZjb3ZyhzC7pdXS0DZVlxGPWqxu2PcUVmCYl1o69DaCweqbLvqgA9CB0UmPkh4tJvqVv+0SvYY/UmwKf/+OvO/L5JkgoG3dnpfd1jpvfYBAA+U949Yf43JOttT01185whjRMVWdusX5ABBQo9V7bkKhm3vgudwTb5BNjelL3Ot/WjnldsqNElRw/UqnAh4AAAAESQZsASeEOiZTAhn/+nhAAAAisidLkaBK1cpgAHJE98E5okoj8urX2o9iyiwb2ZDFvtEKgxy4QPV6gvKX1DM3PX46hI2jQze5nmk0ztysdxloeEF0Nofa9ksDl65tVTpxb8PkQjYrwY3yW8pu/7S0UVKH/aB385GRDNJAvArvhweVGw48Fmtypa6Y6o7IJjonpl4lMI0AcsNmW/9NjeVkwgb/mCD0YR885pOx3WPLSN27MX67yrf0fYEjh+pJ7y23MpapU6ZFrL6lOelucv+kcM027fDRAYcvNQo9bthR2kLlHoCyEa5xv5jt8+XCpyq49BxDDUp2ajvZgPff+C2cr/mbP4UL4pvH1BSCpjzkR2qANSQAAAUhBmyJJ4Q8mUwURPDP//p4QAAA7mufjulud2ADaj6eyfHpHzDg5yketvtN5FddVjuzphIzCg/BxUEs3yEC3jdHKgyy4pYYPCbfYb1Hp+muSCaCtioOQztxP0lmveO8VRftCEXopQzUfs6Cggb7vAq0WYl7ZstXBG5A6aIs2HdI8jtnDFDDDMj1J18JWQv15upWCuDVQNl9Ufb/2wto9wm0v8k1NEjOJNME932UChdVNuMb3wsBz7LNjcHqulEUM8R5Ei5naYl5CTox1dGLn47Bi/hjbbPHiBc42pA0TViDmooSneaaWFtpk2vcnxVkGttQjrRmM1AAqgzkNxxrHf/h6YGHjCdDUwD+qdccdz89LqPIihBnjO/HxrULkCTzbmoKADtO/4W/sVGaCPEyhcu/ZLzTfwJ+QX4kwN7zOoFlzOz4BU2DsGAj4AAAAkAGfQWpCfwAAD+PAUwkCOp64ygwSpKJVje0hDFV6Z83qxkdigA5oq/B95FOZWK2WfI6fPagsZQ3m9iNB3t8bjX8xIEbVRpzc8+NNWrmCZDqVWSkJOnSpTZNTANiIj5vIGly8f0r+cJEuP7ZxBsGpykjilF99ISZU1qMnsjBJ/kxX8AQ6/8MS9Jo1wn41h50HpQAAAXFBm0RJ4Q8mUwU8M//+nhAAAZPXPyRCHUAJZJWXGFPkze+QJMJhTmUeD0U9aGaS64G8DwxYexNC1Vuvy0+97eRkms49DZm7EP/5ufNvE54dDiEXhYfdeE8AJX0TPtZ9aUK8gkBOWFeKNgMGMncJz0DqWozWNSv/A3fxhLVqJ6JY1j57nuRlUXMLPAYGQEGE9TEjiAttbR7oD7W0QcnBPelyK3zSzJhy9A5oRwHChLCzpgRLT+P7Xcu8DFs2zBdWkVUgGvIuhaXusIgVnF3dfczJiNXg096QcFADXQmbnkRKy65uEhyCf3QGXogs+s9iaga0xLwD9zB7q2UOdaoCZ/pJVjX435Ibk7uzuCqANtp51B1lZxLjwiokQQgiP4oFnhmRLo7uUt7RqNFPFXJ9UKiuCAFXFliZK8Iq77VDMqNgto6hYjABGttoaHUxj0b9JCE+1HceQ6tczVFo9UQx7qQIg+VdbenkKPGTCs0tGy8wJOAAAACuAZ9jakJ/AABungKMyP4L0HuMIAC62nhKcrxBg8As+uqG1LsJshzybx6VfZ49e4ml5ewTUNetZW4LZOdxLxYf1ELg+jeUGFGAT4lLp23sBHhgbcbuPWvbYvTBtvVxlG6RQkVFoUelXrcwjPSKgCBk/L5D//64yyqyJptCR9TzL0Zx4/X50xPSBdBfUpWfMdS4+oI+03NsBAc2NDSZVm4E3zNpI5casT4g1SD+dDBhAAABBUGbZUnhDyZTAhv//qeEAABmzWgZkb1krHdZ41IAL695nK++k1Lzpm2ObNfD19Vm8QEU2ZYaFUk6iO+MzgiGqenG/NquALymLn8kiPfR9o+rfQ2N6Q7NdRbvtd2/kp0B+U8Um/Ksfdt3NHhQ+xHMUhPkEdjJeKDqSDyJ9CEBBWGPl9dj7++x2ltruKPFg1amIlpCS76t3csArEIGIRJvu4/rwWeZYNdA3c7uPh7/vzR1KbjF32J9O8QS44KESgYKBVaxHxWfGxb5Zij7S/RU6G9K/R1geF/bYTMhjr02GCVE9cJIKvxM8iWxNgTyQRhdQfxWGeH2EXqfH12/XlMnxM4vdACPgQAAAZ1Bm4hJ4Q8mUwIZ//6eEAAK1vv4GgiAFh7hPw5tGmIB4IG4eXT64TlrDJTRJxTYnof8aQBtf2F6wMkv2N0DWoSpJX674pcbq52r5bHKA9geAFd1UxyNQTyneew0I1EP3Qx4xO/6/2NWpzRO87dpdTZhMPuMHNXKLG+6Twxfka82RSSQ2IhN+IHtbgpcSDcctlIxz2WJkq4z0O7vEreNdHzWhwZP/MJqM6n4oheq6nuU/Eu1ZhGjc8kAOs43TgXlJcL4aLVuTmU1fg+dlWTdxgBdUAnq85fpRTtIq2LAa5G/lB/IQQEEXaTl5kbJ9IC4gdAw18rEduFSkIOUIrLJsG8waqJnrKU9QlPR1HXvHRDCGy2EqkttCQQMdqjOwM6YgIaX6dECZX/pZYWJK6xQ51tSLnKYo7CKYsLlngO3tRYjT7ZcX1dTKXP45DFGtFcDQUWDxF0IjAKNWw0Db2K7+gQHPveCF3U4Gw/tD46fpwcIYQTT17cpnAXkcoQLug/hUOvJmCK6aQlQwMXAoST//n87NLVfH08z4VDRHgAdcQAAAMZBn6ZFETwr/wACO67lSAf8e0DCa7JWqWUW4MqxIHsAHU6fqUkblhJeRhbEJWatxrBdaZTcEFO3L/yp0di2s5kgXq2fD9A8hi+hd40AmrVGxDYSCr8Kp0fjtzJAls/QXb1ToOwUzD2TOTPiZZTt/ixH0OqhQXjYhsO4zZghAOGYeweg3WbgPiRKnZCk19TzbW4CqGKB13ZxghFgQbXXnu5E4Nz9tSEKuaWSSsj//6greE4YtnmXYlnDp0cgSWI8jLFTJKffhd0AAACxAZ/HakJ/AALojklgkCLrjUnviaGmsDtRQAbvRAcKMYpopd3ZvzzHGpjZ8t+k6nTD76G3tj/0PB9qkkrTHlzJ2fvbxdMooXPOYWRwOltjf7jrKoXnNi/KP34w82Tvmbd0a5LC8l6Wlz7kKc51NeCX6hagAccgQptn0ugRKVLMnHTDfYvDNd4ua8vmqFLUv9wxBrVLjlXD8PnbhZ6CUR3/iQNjTZD8uijQDPEJJ//X2y7gAAAA6kGbykmoQWiZTBTwz/6eEAAblfT0PbDLvnuKr1QUAF8yxhEdn7XDLZhUM5WA/JiFFZub/CzlHkmzVMvs1Ko2K3tjIWGEnw52tZDEdhTrwoCO1KM6iIc4/d/8rN1/BQHHtFMDJdHPIO8+kb1OUzUgBzc7VX8v9tjGnct3p2C+g0ekvRPrFdWDBrC6XQIvmSoeFWRmqvKec5EFWMzNnftF+Lq6P2KtmmANXb7SzGLwG7g981LayJHhbleVP4KLtukv5ruO3TE31hL/4VgsjYf8BLVH2fuNK94W8OGrFW3znyKR9L76PKVXsABJwAAAAJ0Bn+lqQn8AB23gKYSIIT7gX0eAAAXpR/WUgBU9aTKQkRWIx6Jua07DmCPbHPbNyf9r7ZY8wRp+IpOV/+EGSdzkN2icueqeaNUL5sjNg7OvkCvGo5Qjg2+jqoZlqHj2rDAI7c2MDfe3HdqCrxByhaxpx0+HbJHTJUAl8KKYFEwWU3TnpAKoPnrGgbio5LWmzdIvHNbP8wsDXWhpbiXtAAABZ0Gb7knhClJlMCF//oywAEgHuQAOPX+UGPz43ojPKymMt+2o2PA2SGxuXNnYgUgsyj8k5DTf0o/t1PquzKfhAOY526g+EATGKvNWOG+kX9TmM/zO38ZN3YzCJBjDAKmDouvu8iWCzib5i6hH2HKUDz78E20E/egq9dDlQBlKlXI7Q1W749ILWi7TWZWYQZ1R3tN+VH99zsQvm1lYUYkwmSyhpMEIAiJXmVhoftG1yT/3uEkdmusjh/RUTYLcAAinLYxpQr+sF4JlQFoap8D+U8b+TyDi+1BxaiRnoLisKNoTDA0Edx6ujF8Vy+0FDvuLT/gqP+CG/AN7FuuyVYBAX1C2aQ5pCEkJ95sAZQzQjpzgPkSR8rU2l0e3K9hp0dRWAQtcuToWY4yqpv6+u7KU5Hak1u0VfgBbgTXUvfNA0Hq8ZoEan9qe+uiiGEu5YpireemcT6abQTgQqmvtVVCeRTrinG/LAC4gAAAA1EGeDEU0TCv/AA7XMnGARS/I9J48ACWRaSwEufv5dtYx2dCrfj0h4QbKnBYUrcqXsOm00UnGmecp6/ONv4QA/tYLli7sUSKDXm3zQ9MdwlbaNA8NbBO4wl6TSbe7UrjnZ3kFmG5nabKyePq74agNOP9A2YOnyaojfPyH+20516YCiAsg5Vau8SN49BjxM1R0k9fAoc+I7y9f/+2KRmvXtwa+ROOnhDbr6esxsudemBc8eKKgqaOOE1GZ/BdqTqwavsRsNL7sVPy0FGM6Zt8KrsFLfYUEAAAAnQGeK3RCfwATX2e0lAot5trozh9P4rxiCBiaAAh+c3id5Hgs66Jf7FJ9PrmRUCPpwuo7nIwaqzk/g3SrdbS3GXrZQGJFIRoqlwyrQjy1f+ZSQ9jaygw9zw0rTIBLvCk523XwDZnOBU1L9MMlXSq/NJR1fzI9I1uh8k9W4LWIPd/5VBkxL+s08KUSkqTrcoZx7fzscO3PxsvSRWwVCHkAAAChAZ4takJ/ABNTUrsNesYI6l472BOWQ+fABzWuDRaJLZWeNRtHasnMw5hmjACEEq6mQaKMUUkNqnliudGXC9gy2iYPE9hxF2Z790y34q7Xw17QHH+rsWgbJWAEKnlfs2Gzy8g0NljpbTjIkrqo74g3uU6XGEyag2gHqHOzCvAXLT+cFUJBX/+QH7sewxuRVkespfnnSHMXzuTJbT6qahEBEvEAAADzQZovSahBaJlMCF///oywALcRCYJ2s0ARIaUJktFaCZRltr/6n4ZK8SIYFyxCx+qVldbc2LbdCg0cdqEsPhPBV1rvUyuXbBnUwMECWLWMNqJjdAjKQIX1Lldlh32tPbWOkfaeWASyJT9lfjt44U95q7Mvt1T/dqhrKJKx4eoYuEVsS2bZb6e39G5hTy3BON2NQGzgHd7u/VMsmeeSkKV7xavAwKhZinuh1KGqZzELY0Ml/BptXBmEBMJyb/JdKKHgQwTXnI3CVA5qoZ/XhNmbnC1YAtDLtGdwSC4jW6JyMsdj2A2OYBR4qz+zW13GMOBNRsG9AAAA1EGaUEnhClJlMCF//oywALxzLkxkUWfjXsMpgA2g0oTJS5PycjDFtytwDDpNXO3Wa4+S7Lu9IZJAdPfc/ztqS+YfFj895n1FnWnM/2Kcp5JxT0YUlNqze65NdwXutWroSNpkZX22e5mIA1TZMHDTalSj7bnHJarEwspMTMmpd57aJEdLvksjXjzJUph//8O318dFM3xZ+dMrU8dsL66JLmSW8EkkgsIGoayuflj9t8FnhCsWQMgk/JTkBeb2XW/sm5tCGpm9VpNDEadYlqFH1XQwAAI+AAABBUGacUnhDomUwIZ//p4QALVXIHlaqACIPXgtIAnRr7fe6oGJ4k5AB2H8mGVxE5RNActNsp2pq7GhV1/OoX0aHV9FSJpT5hMMH/bLhJWXqKHhvWI0CAUorcq6k3AOONMGkP7V3jOoG+lSc5RLavip1apeicnGTwJdUlvV2dVQKxF7HQUcPCD2FPRuDvsZOS6qRI9qPhAl7nsYqOiCr2qP/zZdbG7sxeToV8v+KbESnw4TOIXck4Nmu1S6KgvWR7D51Om1ShH9uyTvEYkE1g+d8dxud9Y8/Y2km9vV5OcVrFLuZ7JTIKKpXOl21PS3rNHp4b5RsFLSP/yDKEuzL99UqMfoAAB3QAAAAMZBmpJJ4Q8mUwIZ//6eEAC68y5zHl2B5FrhIPs2b3Ykg0n6hABUNL4QWRilm3YBlUIbhNe5na7cpm/UdcWLZ/PKiBx3jXEc6bshLolzrIHXmGWLmooPvB7DOhATnZu3KfGveThIAVRXjUmw/B5Z/NDXS2XF66GEsYGkgOSAZSq9byb2gd6rSgW72gIxLXs+b+lE9OMwSRJzClie0uJWNbRrbD1KD/eTnsla0ZMEDEDZLJf6Bcc6LJWuC+AzD7yMFF/2MXgAAYEAAAC+QZqzSeEPJlMCGf/+nhAAugLE9C+JIoTdiccVzoo9vIxJN2igAX16jaQPw0VHe2Aolnr6WPpBpZpLcy+Cu6a7kiBigb3KP3FRf7pF+M6x3VN90AK0yPdy6C6bBEIarEKFO8JHuMj2UF1+9XxY+OdlY3QC98C9YEzSwQbgei1e/L5zQxKu0uMVFs5FcnIigo1YtzuzmLRmyU6XMhmLSXDER1pUiidiTv+MuaI4zkVdUbS6AItwYE9KlvBEAAA1IAAAAPNBmtRJ4Q8mUwIb//6nhAB2gXpySZAIQ5UDLrAkC2obDAPc+pXwSKbumou2LykQgo7YZsOVBaT9T+LadPMtUX/YXhYP6du15fy7fY7qmHVjg2dlOgjRTVQy629nMyAYcfV35ZhU61yNfVhtHw9ZZEVG/XCSmfXMvVoyoZQu81s5QkRsdw7mHUbxYY1R+ewjdHtTcCi5s2a5Ma29oz5z7I2IxEPH6qzt/IQy34Lpy+nKKgHhzBjXTTi6NJdm2/ZdvVnCjR1+00X/PjDq2ac6WJkbOukTNEHzmXBsITpPDVQDQB19kAyakjAYEE+yufz0MAAA3oAAAAEPQZr2SeEPJlMFETw3//6nhAB2gu6Znp1fsIk3SAAaJzhCcUNjrAEk6ffcurDPSgE9DtZ5XMgT+eXs7icX5E4fPyhvRjodO2mNNn2t/E6sGBYovvywjAc62FSTIsfnwWJAYgCXpIaxRXNI/FHTEdLiopxmkvpuPV1GDTsWlaFoaFAO0JxGD86PhbDF6JIP0KB3AEmBIyCC/F54LowVmskbCJG0EhBEPdt4SGbKoVL1UQnF///Gq0VSL7W8KibnccV8UhwMdW1vYuWykxTlPkVuMdWyK5uBTDXVy7F+P/8UQ/3PMuoTutQujwRlkF2Nl3Q3+rwtK5Hai+WblE1eakaWoHZuMM3dGKuxGzzPoAAFJQAAAKgBnxVqQn8AfF1YuHwARB29LD5muE++aptLp8/5HkhZZHjEv1QVB9vxlUpZ9gJQIrxzx6GjDCcRflSiG4u573RPoDNUGAjbZIz2dlYDf+dlDqj//a5mntTnm8Rijg1UcaTFeT+hyJRaR9cFC+OassgPumGo1xppjxsEtYTJe2qZfIZFWnpNNLlfkAiAut+VCSzVtsrz8yXQEtnf99PZ6AFz/uUNov/uMdcAAAEzQZsaSeEPJlMCG//+p4QAdoHpScIgyAD+ZAHOkHsDagbYk+Hbd7XquusmfTcOttZNiO9yTQSYOZHVlBVTzXt+qdw23GNBHBc5kcXPwUkEU4Z97iKttYKfUQQYN/KJC0hljGKhpsr+HuX+mhYDv2JD3Jlzh6vrstGL4+beQ2P8M/9r4JWHiafGhSblVOg1FHCXCz7Sqg0djkzJJrZBik+YQZQ9OcaULr2tuBkkvI94HThNHO4wCIdiqcvuFwKi8B+O0aI2/SS5N6ajrVJSc4rnpNSgA38fiOQBE5lpoC9rt9pZ1DzJDfLKiIc9aRQ2ln3qOfdEjhNYRuLiKgVR5H2WTOYNPFhcClMHkIwauLPXsor0YYov9Pl4X3cHO6OFi8nYpXYBQ4Dp7azvF7D1+06AAAD2gQAAAO5BnzhFETwr/wBgwseYnHFnv49E8AIP1MEp7qqQMcoyRc2zv6rEzSLWiVGyHHvO2J+NtJdZkazpwvH9LjxPwRPHXVMQHbi1vdacXRM9KKafS5k78cEV/zxZ85VOJ9SwcLOGsbow8/dsBPpYCMgA8aa8MaD10qGW+7baeMtOPGirpnAKZRDXJ88lvnYsyPLVZPDAst90U1SChFTz7h7A1YzHLgIGIm1fD5Oc65V9WCn69l9i9rE7ZG/Dd3o34scpdM4HLoZw7M3Zfeqpc5ggUwHlpjC3TfnmdFbhr1tuEco+NUnozLAe31nJd3J3APuBAAAAlAGfV3RCfwB6173QTW+cqNoOWQgAhGR4gqeSpRDcdYVVwP1YsJg9HxwEaBmaIi38D0UXZ68IM/z8TqPSPtregdFBKlrt6kPc9VpvfcAU0+gyi/zBrDQQOWct2mPjIhzupXFudvOkG38GiM3iIQcaRcZLlthjQvPrJC26umsq8fIBNx08823jpUrrZcAdPl2HbPFQJOAAAACvAZ9ZakJ/AHumqIdnBz0oABOg8HUZgKJB47IdE66orZOfOJVXcY7M+lk7w0KWdhFWl1uqLK5v4xyANdhwOLz5nzk5nLr9im3i5R6duPuKM1uAQdY0QrWjX5zbwNIOTLdo+l/vAI8oUckbwZQBfOJ2AZgTUDvbIOUoqBlCzRGwVM5pb52fhAFYPF6ITEe8feJ/k9/Yrf+Z1wcIrWrzMzpRWcDEq5eUOmAO7+QMy4xyHwAAATdBm1xJqEFomUwU8N/+p4QAdzhPJBdFSPaWl3L4AAh+tZpBfebZPizUbNH/T67tUlbt+vwAW4hUPE4O2basSz7qWnhAVZLX/43rFAOBEbc9QYwijelBdZL2vKJPpMW34ts7Iu5t68yjyrWqsWlIWLvUmISz/a4SxZAnrK3sjsWl/PBbGnQDI6lnwZdTmN56CqUgBixl6gi+NP85QbYZgx8Js/h7KmoWBOcxy+jdQ6MVHu5O40p1qrCy9xIhtzLCmYVOU3Kn/bbZra76PjWR50aWbihmRkOUE7ZwGf5AvWedB0E39CzRb0ZTDNPtzRghfUBBRKCLSgiGoia0yJBPpDdbvEWkKbNRdSPDtIE0DbrmQqZpP2UPmBe93d1qJZBPnrNw9N/L3fURB0x1zyAk+Kez4zmgAACLgAAAAKcBn3tqQn8AfD/j3fSHL3pwiXAA7IldExHO/W2K+VTKNTtgtdL4NB4j1s1tSP2fdOIWtknxDdRjjq8QPl8i47Ala7gKAcFlCJSEKKePb8D62KOMyfMzB00a0IsWQWioUcqzBGsLPTPll20+ctFhJ1y2r7/D1OVDInEfcd1Le8BKZaLOTSoMShOM1BvuzdrcAfdLgyB/cTPizNI+xw+prAAixFIRHCp49QAAAQNBm39J4QpSZTAhv/6nhAB0fZTVPhNZiYARB///hH5h4Ht3ZFkJhOk9PO4IlXMYx5SFRrlx0GOs/kFgM66icAp8b5ju//kFD5TMRpT1vgvFVTnAzfdAQNg/44pl0Y5HhKRfERByQ92sECd/5V4rU8TId0BYyaJIgSPfxqTwOGeOE2hzCoQfIJChJon8bxlAriIOHT8Kz5pHz5vr1yF80LI6T6oZxKTBvslPn2n+63szQ9v+u4peSqCg86iTwymm7LfInWoZMW3fx6gmmCJpeHRhyrUibTrPPb3MujH5Av+jqu9jGQtIzsTnmwQSJWMKsb8Hbd++SPYZs8oN7TBHsiAAALaBAAAAqUGfnUU0TCv/APKBtL9aGjdVqdrO8x0wwnVuMHQAXzOGsGubulaqClRxEmxi8gHX5Q3dtvdI1LWulVHdVehxY97gTkHg0lNMNXfgRQvdpTe/qaXDicIsl68nX8a72JT+j7Ol11usjL1iPb+HWNBrzPXkH84Ts5TD05DYeJ+doymXbyjRrpDnb72spfOJ9/ZwnkJ47HqePInmpdxicpJNNvaWLEUbR7QMh/gAAACFAZ++akJ/AHmAAopjUPaoAC+l+LJFMpa4B2D/7Zo2blQIbL+z7BhS9zHv13FOKilyVzcOsRwKRCXQvZapk7VzPsCKzwTQ7uUyQ0qYfmGTRQvCAlmHAy0mgZAuM4kBKOojLZct7sUcvFRpTecG6UR2LobGzPu+a5KDjaogLnLToQBnJ1X6egAAANVBm6FJqEFomUwU8N/+p4QAcb2Uy6Hls8nACdv//8JD0Rnj3eco8YfyQpxDbI4y3M3M8Ab/2wzJtLlL8JfBNpl0V1lR5HyYUJYdVb+CsjqdGAJ/dIAhWUlEc3ClNXX88SrU8sx93rgCYOSnf7FWoj2IXOR0DTC7clLbFDg0YNF89BP+ZEeVi/IyX2ouh9QD1k/aEn7lf4eG+jAe6DOL3z6q/8J1/E9fSpD7L2ktUIfHA8TxAirxyqOeMpn5iVB2cFr0ogT4uwjZ6l0wR6ybgcX6zAAAI2EAAACFAZ/AakJ/AHa/yGk5Kmsywnfx4AC9QXv+4DJcY+mfE7XfBU+0Ssn1sCo5t4T9W08lnvnWpJDTu4SgKXxjn9FICNiwBuZJCZuh6xfbURJqruQLSYveVi85EjE9wcGNJlQWQNhOwZRGn2Gn0NHqD1VDg/vNWujGmNlywb/AALXh0kuLYBygfAAAAJtBm8JJ4QpSZTAhv/6nhABuhQiWmGBGLFAFAngI3yLhLNjHnndtJXgBLaN9ZY82um8inu55aoVgfqA4G6DJ54bDa6y+MV/xC1N6epIk4RA+WOUd/1zleZigDaDCIrIqiB/kEdJ18UaagE/TnJGPxb9otTloWEo26RHHsfZWCwJgAQ98pqwxzJEwKuq+SJ2kUGbRG+PFDM+ngAADAwAAAMhBm+ZJ4Q6JlMCG//6nhABrzT1j7BaSTemSAI+QjOV/fv2bA9krLg37Cl0Jwnl4qXZ6Z9wxRWO4TPhXHigifT9IpUTZJHStMB5EK68L6wGuNGN1gxT4x2x6Yrh2XnEraiV8iKNLiGdmP1WQiyHuVN2Lns1DoXnaWdesm0JBUPR1lZlDLp3kr5HlGUFBMFIGlSH6cOyb17dXAmX44PPbATaSPIygYFS0LTb/DAvPjjcAZTGCoo2ceF1o7UYuEH1mtb0/MfkoAABgQAAAACNBngRFETwr/wBYmn5CC5oVHCiWldGMqniplH1iborbNbpCkwAAABYBniN0Qn8AcTZlaVDgCKV0AAmjW8/BAAAAEQGeJWpCfwAQ4XfoAAZx0Z6lAAAAGUGaKkmoQWiZTAhv//6nhAAP2wCsaAAAF7EAAAAeQZ5IRREsK/8AIsGYs0z+5GnFnTzLuJN/mpO0UA/IAAAADwGeZ3RCfwAAAwAAAwDegAAAAA8BnmlqQn8AAAMAAAMA3oEAAAAYQZpuSahBbJlMCG///qeEAAADAAADANSAAAAAHUGejEUVLCv/ACLBmTH3QNpMKsW/s6/kcHpPMAekAAAADwGeq3RCfwAAAwAAAwDegQAAAA8Bnq1qQn8AAAMAAAMA3oEAAAAYQZqySahBbJlMCG///qeEAAADAAADANSBAAAAHUGe0EUVLCv/ACLBmTH3QNpMKsW/s6/kcHpPMAekAAAADwGe73RCfwAAAwAAAwDegAAAAA8BnvFqQn8AAAMAAAMA3oEAAAAYQZr2SahBbJlMCG///qeEAAADAAADANSAAAAAHUGfFEUVLCv/ACLBmTH3QNpMKsW/s6/kcHpPMAekAAAADwGfM3RCfwAAAwAAAwDegQAAAA8BnzVqQn8AAAMAAAMA3oAAAAAYQZs6SahBbJlMCG///qeEAAADAAADANSBAAAAHUGfWEUVLCv/ACLBmTH3QNpMKsW/s6/kcHpPMAelAAAADwGfd3RCfwAAAwAAAwDegAAAAA8Bn3lqQn8AAAMAAAMA3oEAAAAYQZt+SahBbJlMCG///qeEAAADAAADANSAAAAAHUGfnEUVLCv/ACLBmTH3QNpMKsW/s6/kcHpPMAelAAAADwGfu3RCfwAAAwAAAwDegQAAAA8Bn71qQn8AAAMAAAMA3oAAAAAYQZuiSahBbJlMCG///qeEAAADAAADANSAAAAAHUGfwEUVLCv/ACLBmTH3QNpMKsW/s6/kcHpPMAelAAAADwGf/3RCfwAAAwAAAwDegAAAAA8Bn+FqQn8AAAMAAAMA3oEAAAAYQZvmSahBbJlMCG///qeEAAADAAADANSAAAAAHUGeBEUVLCv/ACLBmTH3QNpMKsW/s6/kcHpPMAelAAAADwGeI3RCfwAAAwAAAwDegQAAAA8BniVqQn8AAAMAAAMA3oEAAAAYQZoqSahBbJlMCG///qeEAAADAAADANSBAAAAHUGeSEUVLCv/ACLBmTH3QNpMKsW/s6/kcHpPMAekAAAADwGeZ3RCfwAAAwAAAwDegAAAAA8BnmlqQn8AAAMAAAMA3oEAAAAYQZpuSahBbJlMCG///qeEAAADAAADANSAAAAAHUGejEUVLCv/ACLBmTH3QNpMKsW/s6/kcHpPMAekAAAADwGeq3RCfwAAAwAAAwDegQAAAA8Bnq1qQn8AAAMAAAMA3oEAAAAYQZqySahBbJlMCG///qeEAAADAAADANSBAAAAHUGe0EUVLCv/ACLBmTH3QNpMKsW/s6/kcHpPMAekAAAADwGe73RCfwAAAwAAAwDegAAAAA8BnvFqQn8AAAMAAAMA3oEAAAAYQZr2SahBbJlMCG///qeEAAADAAADANSAAAAAHUGfFEUVLCv/ACLBmTH3QNpMKsW/s6/kcHpPMAekAAAADwGfM3RCfwAAAwAAAwDegQAAAA8BnzVqQn8AAAMAAAMA3oAAAAAYQZs6SahBbJlMCG///qeEAAADAAADANSBAAAAHUGfWEUVLCv/ACLBmTH3QNpMKsW/s6/kcHpPMAelAAAADwGfd3RCfwAAAwAAAwDegAAAAA8Bn3lqQn8AAAMAAAMA3oEAAAAYQZt+SahBbJlMCG///qeEAAADAAADANSAAAAAHUGfnEUVLCv/ACLBmTH3QNpMKsW/s6/kcHpPMAelAAAADwGfu3RCfwAAAwAAAwDegQAAAA8Bn71qQn8AAAMAAAMA3oAAAAAYQZuiSahBbJlMCG///qeEAAADAAADANSAAAAAHUGfwEUVLCv/ACLBmTH3QNpMKsW/s6/kcHpPMAelAAAADwGf/3RCfwAAAwAAAwDegAAAAA8Bn+FqQn8AAAMAAAMA3oEAAAAYQZvmSahBbJlMCG///qeEAAADAAADANSAAAAAHUGeBEUVLCv/ACLBmTH3QNpMKsW/s6/kcHpPMAelAAAADwGeI3RCfwAAAwAAAwDegQAAAA8BniVqQn8AAAMAAAMA3oEAAAAYQZoqSahBbJlMCG///qeEAAADAAADANSBAAAAHUGeSEUVLCv/ACLBmTH3QNpMKsW/s6/kcHpPMAekAAAADwGeZ3RCfwAAAwAAAwDegAAAAA8BnmlqQn8AAAMAAAMA3oEAAAAYQZpuSahBbJlMCG///qeEAAADAAADANSAAAAAHUGejEUVLCv/ACLBmTH3QNpMKsW/s6/kcHpPMAekAAAADwGeq3RCfwAAAwAAAwDegQAAAA8Bnq1qQn8AAAMAAAMA3oEAAAAYQZqySahBbJlMCG///qeEAAADAAADANSBAAAAHUGe0EUVLCv/ACLBmTH3QNpMKsW/s6/kcHpPMAekAAAADwGe73RCfwAAAwAAAwDegAAAAA8BnvFqQn8AAAMAAAMA3oEAAAAYQZr2SahBbJlMCG///qeEAAADAAADANSAAAAAHUGfFEUVLCv/ACLBmTH3QNpMKsW/s6/kcHpPMAekAAAADwGfM3RCfwAAAwAAAwDegQAAAA8BnzVqQn8AAAMAAAMA3oAAAAAYQZs6SahBbJlMCG///qeEAAADAAADANSBAAAAHUGfWEUVLCv/ACLBmTH3QNpMKsW/s6/kcHpPMAelAAAADwGfd3RCfwAAAwAAAwDegAAAAA8Bn3lqQn8AAAMAAAMA3oEAAAAYQZt+SahBbJlMCG///qeEAAADAAADANSAAAAAHUGfnEUVLCv/ACLBmTH3QNpMKsW/s6/kcHpPMAelAAAADwGfu3RCfwAAAwAAAwDegQAAAA8Bn71qQn8AAAMAAAMA3oAAAAAYQZuiSahBbJlMCG///qeEAAADAAADANSAAAAAHUGfwEUVLCv/ACLBmTH3QNpMKsW/s6/kcHpPMAelAAAADwGf/3RCfwAAAwAAAwDegAAAAA8Bn+FqQn8AAAMAAAMA3oEAAAAYQZvmSahBbJlMCG///qeEAAADAAADANSAAAAAHUGeBEUVLCv/ACLBmTH3QNpMKsW/s6/kcHpPMAelAAAADwGeI3RCfwAAAwAAAwDegQAAAA8BniVqQn8AAAMAAAMA3oEAAAAYQZoqSahBbJlMCG///qeEAAADAAADANSBAAAAHUGeSEUVLCv/ACLBmTH3QNpMKsW/s6/kcHpPMAekAAAADwGeZ3RCfwAAAwAAAwDegAAAAA8BnmlqQn8AAAMAAAMA3oEAAAAYQZpuSahBbJlMCG///qeEAAADAAADANSAAAAAHUGejEUVLCv/ACLBmTH3QNpMKsW/s6/kcHpPMAekAAAADwGeq3RCfwAAAwAAAwDegQAAAA8Bnq1qQn8AAAMAAAMA3oEAAAAYQZqySahBbJlMCG///qeEAAADAAADANSBAAAAHUGe0EUVLCv/ACLBmTH3QNpMKsW/s6/kcHpPMAekAAAADwGe73RCfwAAAwAAAwDegAAAAA8BnvFqQn8AAAMAAAMA3oEAAAAYQZr2SahBbJlMCG///qeEAAADAAADANSAAAAAHUGfFEUVLCv/ACLBmTH3QNpMKsW/s6/kcHpPMAekAAAADwGfM3RCfwAAAwAAAwDegQAAAA8BnzVqQn8AAAMAAAMA3oAAAAAYQZs6SahBbJlMCG///qeEAAADAAADANSBAAAAHUGfWEUVLCv/ACLBmTH3QNpMKsW/s6/kcHpPMAelAAAADwGfd3RCfwAAAwAAAwDegAAAAA8Bn3lqQn8AAAMAAAMA3oEAAAAYQZt+SahBbJlMCG///qeEAAADAAADANSAAAAAHUGfnEUVLCv/ACLBmTH3QNpMKsW/s6/kcHpPMAelAAAADwGfu3RCfwAAAwAAAwDegQAAAA8Bn71qQn8AAAMAAAMA3oAAAAAYQZuiSahBbJlMCG///qeEAAADAAADANSAAAAAHUGfwEUVLCv/ACLBmTH3QNpMKsW/s6/kcHpPMAelAAAADwGf/3RCfwAAAwAAAwDegAAAAA8Bn+FqQn8AAAMAAAMA3oEAAAAYQZvmSahBbJlMCG///qeEAAADAAADANSAAAAAHUGeBEUVLCv/ACLBmTH3QNpMKsW/s6/kcHpPMAelAAAADwGeI3RCfwAAAwAAAwDegQAAAA8BniVqQn8AAAMAAAMA3oEAAAAYQZoqSahBbJlMCG///qeEAAADAAADANSBAAAAHUGeSEUVLCv/ACLBmTH3QNpMKsW/s6/kcHpPMAekAAAADwGeZ3RCfwAAAwAAAwDegAAAAA8BnmlqQn8AAAMAAAMA3oEAAAAYQZpuSahBbJlMCG///qeEAAADAAADANSAAAAAHUGejEUVLCv/ACLBmTH3QNpMKsW/s6/kcHpPMAekAAAADwGeq3RCfwAAAwAAAwDegQAAAA8Bnq1qQn8AAAMAAAMA3oEAAAAYQZqySahBbJlMCG///qeEAAADAAADANSBAAAAHUGe0EUVLCv/ACLBmTH3QNpMKsW/s6/kcHpPMAekAAAADwGe73RCfwAAAwAAAwDegAAAAA8BnvFqQn8AAAMAAAMA3oEAAAAYQZr2SahBbJlMCG///qeEAAADAAADANSAAAAAHUGfFEUVLCv/ACLBmTH3QNpMKsW/s6/kcHpPMAekAAAADwGfM3RCfwAAAwAAAwDegQAAAA8BnzVqQn8AAAMAAAMA3oAAAAAXQZs5SahBbJlMCE///fEAAAMAAAMAHpEAAAAUQZ9XRRUsJ/8AAAMAAL9e9d+vUa8AAAAPAZ94akJ/AAADAAADAN6AAAASSmWIggAEP/73gb8yy18iuslx+ed9LKzPPOQ8cl2JrrjQAAADAAADABodjzoD6GX58GJEBMqcNeIagAABBik1MrJF6yIDerMqL/RHf/rDjknB0luCixPSVPK1gHv7RFbAtEaJ2HYm+iiXdQW8QFBhr6mAaWE5B7bVf/p7SQR3qExknaAI88Klw7i/Z7zT5MTPmcpyw0C3OSOQ7mtSqgjB1Kk8noaCsFdK0XLQMkWg6xiysP5B+KlCgs1MsxQfux5J3jC86gZPgxQSfIQoAAHh5vOxsFdtF8m6rHPuzW7tgquimWav1fUoYbfLHMqmpAPJlwABdk+1pBh5I1YxAAn2KBGVxkOpm9NLvU1RBiRZRncZjj+Z83MiCp1qwwdQXzmdMA8rDv+hQJH273QE9Zd2yPQgkrWH/M6sJhKFkQDEDccXyD8JgSSHv62YvcetTUO5uf+qaT8mY4AUKzgae/I0eH5JSFzO4kgHftYQ8scSTlBGVBuabWwyrxrc4wb7E2fkhq9YWtVa2GNxPxItdyUmYPorFDg1FwXVhzPda52hSJj0mT5OB//mMZ0kULAQnyqrtzSfaB8rF3ObNHNQdyoXBr9+zXys+/jwQaWZUPbCbUZMsn5gB7jtCRkuLSZOgPgc0KzyXbOf26gCAVKkArarbkmB0KFXb2vdadg5CDHkPsgNsvyJD0ouY5PKe0DI1tDFcyNPQ1OxK2WGqDhimV2hXmQsSzBHG7/PiWmdmk3/dn48y3Kji+RKPTUccLCAE8udF91q32s15NFeo9NO/lnNzSbEVZbssivpDbrZ2g9KNPjbPIbmhdtyjWrvkPwRHzm76Lh6JUcWgD15um2YJdPkiFzaeLtJkpgNmBgN9Ihn4yoFoEdRaXvPCiEfsQ+jQzPs6TDebFyKzK+DCoHtUQCNrXNbmWtecR9lyN8Sqw6rWVKbP//fAgf014mZwuTE2YYGoV9cZK+SZ+PFz5jEZfSigmnCrj2C298JlrtIQZred8UWXDmDZEbG/mN5LKTWIh3QA66wx52bE3ae7hL0mAt8/cWZquY1qxktITfTIfbA8un0WudC0rVjcskNm2dNkVUyT1/WVClpdgZrjhrtY6P52h5rcKMDnT/FX1qKmuKULdqt1/Su2pIDeNyxMI9DnpnwcmfYWWLqTh059Azkn5RLgBbNR8zMtd5zXYDIffCZGxgevqPlac4H6x8twLUTjFelPjBypSJZwp6gahkPQUfMcIDsSbgZvV7eajtvFBQM2BPtAZ+/gwJasyOxNwwmGaiLj2O+mUj3DtS39aBq4reVYo9s4k30CxgxbilX0D0hw+1ujfb/NZ2MdJldl9YKLbG2WOh5xqRcvHj3tQLGsL0L7FdkwJi6KOTZnDFABtiIAAADAEVMoR5Z+CO4lnvBsH6zyeuwDoKg21GdO9pxdARuueELLYSGl+aSs4G6rAmCW+Oh2Gx1On+wvFp+hieqDskJJ08Cxq1ucFUTQhpP8Ib98ka+G32zTVP0u21K/w6TZA2fzsTI6iX21QWu9AAKQPFJLiU9hWAOe3DnzoGQpcueN8xai/J7mXe7snqsUb0fAUplzcNwB9M+KCSuemgNneKBLSU+1Rj3D1EQu4QNtWf+Eo9dtL3Jn+K4JC2rd9vV98DklERoufzYjiReSlQ5ALNIfHcZkANxliM5ZYBzVYtc33k4NOt7fVxWyWGIe7rbR0MxGoLTjZj2BWN3HNcpOURHrlnKWmq8lZmkuY/uA/KSHsIuj6IxOn1XBGgswgwZsytNCEHWVbuhDP9HfUUGZAFby54IVACX2eq8w5ry3HBdt17lMyM7OgcdlUrY7Jsb8Hh5O2TNjwvNKOQZFtzl7KlEMBzD6MPFMyp9vvn2zW33YOMGBcoAKAHMLrniit7bapZ78qf3YtveSInrfYvc/H+A/JFLWna9AXZHvs44AQ4DpI8j7OzUFE9iSoeLHEZ+VvVxg/C2DEgjBXhYQ24SzJSxKM4SoBeRkSzQibSyWBIi+IFsMVUXt7c4P7eyg415FWMaiZ4CBP9AFtdSDTAWChpv3c/mDVcKx2uQDVFUKOrO3eoA3LWC/X/Lf6/r+xJF0QyRkwFHVlZ1T3fCvBA16L/+gZhCKCAmh+0ggEINjo1og2GsdlNW4Fq3yHjNwNJJbRoINrnEBd/8FiiJ7bPqe0LX+FRVIQILDnXq5ZIbIE5AVVyaW03gZB2HclWhLhsOxEGVu3HQ/0XO+J0BYaPe8XyrvGJXPyP686z7pJMiIWn1NuFQVPOrYuntho+MasWDP6s9m75dWb/X5mIWreIFbvGwr2i3YJuKKrjnHiDWKxXVCnzMUn25cMcReCXbJStqFow7BBswLXg4y0jNUb15bHVuAPMb38vQhFmAt5KJsIkrOrG4j6rs8VYEm7p43cYFA4551xp1pPlBrgpksbMOsdEoWR+RSHAOlRlxYb/9bnekMkeeBpzALBxun0pP5C88WZfPGbdafjvA2LlZbfTFn6b0mXir7YyTlALfod8Yfw9O4zLwLXEtYz5qCcyoQMyznkRDf0iF7K4VEtOR5sSWMq36CPJ/Q/1UwmxY+WIS0ekWBvbmeqpEfyIrYy/5lNGYDZ+PLKP7tvrA8Aaz3vf4CdXV1OXwEIRvRA66D7KghDa6yfPNas4oABzg+vCP71Rg/YbzNXIfAH9XdgMZLtcbGr6xYi/KzUl5JFoWymMDfmfyHff3MtinFd2mggQGgMJnzKvu2exu+RQ2g1BrdUAiXaGE9CGhyIZWlh4Nxndr5tM1z3Dz5uE2ttlEIIP4cA5WeN9RGlBVyfZXZi5k7b+dE5UHdVu7TnrQzgxuGbbsMVX1615B/eercNlM+VjCd/WA7yD3TpzwOqa1H8nkXJnIIlRlBlJJWjxa0DgfZqdICYrtW8n5rRnG6cvfcBj01QZx1TjKBmbxeTVqd13VI6AAHzG25w192nPiTzh9Sxq2rJ+DHtcgMGP3nwKHTsgqJaBl8ybiMxxAF76D+5q8F8OA/YvFXzIR3/l+OQ+F9/7vzTn8EUIcsuAko7jLhNodtPzVMsNcbLSXWYiQJd4saYOPBJMUPVSHiSdeMyz++O2pqrBScaKPTW7/FwA2oqyTYQRDPHy0BagQI4wYutFYq2TBSfUcUrZKWkmNEmfvNdO7OoaM83azWgqCH3uTN+cguvayrBG5Mv4RHnab+G6/KXygXSAeHHG65jGBONyfFtVRD0bDaXOO2+UJNp6K8QtyKjtsBKwGUjXuvU4NFWdcZ29iVIwC/hb1KE/P3UDPqJ1PKIQwuGhNA+SlqmcDRDXuEjPZ7NPurSE5Ru0765w1SPE3AYsiuos5G/v+D8i9W8/1uCjI4/bxPOi6ogTrd9cFFgoI7VSWZ5b5fd+2OYZJs5nncSQAAEkp+nHzO9YIKUoAM6HzGEWAmjRMAx7t5t1+dS+Zy1XEi4t14hprW5WK97Nwux2f4o+hakDVd+sHc+PLxo4QfXEv4Q3a9Ez5W8vldDFnPQT6sgO96gIdA6Hv2p5bea8GnI7vOqkUQOL/GNs5mXC3szN1tMUrKsn0lmN21ZSQqZxBG9EU4RdQjS4udvBzl0TcEV64A1P+NQzSSDhj/sCP/9Y2ttkbs+6CSWVLeksPj/toK1QX/Z//AIZP0XlprfNJo/fGSEvhPMjAmV1QY8wHnKtWXmLZw4vNeNNSEZsGgDBhyBUaR4Magpqsw07p0hpahRz1sZcQcRy+Fgo5PIoqW8yvGQo2sRzK6ixcxtEfNU0T6UAnmL61AIJBs3rYIv9FpFqFIKpbWaHXM/WBhfBjnAAMSb80CwMmnLaHMlNOitxkAiCpa4H9jVz7RRIxCmmdK7YWtLZURqQ0eDcuHGWqi86FhXOfnil01d7J5amJR2cWqm8lD/ri3jUGsHNhaqrD4OF3eebMsbY7LxYL0GcJbkUCW4nIMk5Si2XMGvgej1wBCYUvetfvT2zMgDn85RFzjfmUtc/9SLOO+8sN+5gZxco5/vd27/DJTK+E8cUfDLF6X1+RyRuSzQinp0ff3XpWBdA+ptxRbCdDWanNnhaE4YKXdCfxxNxDxi/I5mIzay/gcVxohtWgUZa/vyz8yyBENfsq0d4xeEv5EUi0+cqpHI3CayyTzY66B7ePlOJ6Vtxz0ftuDgFWq5Pm6VOFZH1mL+44miHRuqm2G6cqFhXH+UzaPcLm1/jfgzxqykXZ3iJKe4dV7tZQ+PlYrzsnLyiW3LGLtk9s9wN7+6ffRZmBFAAUJk463h11C3f/syEDOf/ssfQGSaUuCXyKje/Wp/keMZi+f+ZlHC7gAbUnuIDJPOa5uIq0V8dxDZkp6XTAk9VSKeYX3OUk0/8ebXdyeNqsWZ9BpE3+qudVlIGdzjCtqbVFdnefaVkdE80uBr+erJ5iKuUijw4jIlvDEJC4diIEm5lspjrmaG2Xn+3AC/+O6oEDRU15rSqeZmmkZwYOQDd49iOzA1MitNqouXN383aiTyKsXGbtzMT4PmfFfYJsn6Eq6qwsFzl7cgbyefC8c5JvZFO4PszH8e2MtLDAA46KDzY7lPmrdCfnwXaGKSY8cx2cXns2toekDz92vPSLfntiAxuRiAfP+GblUPqJ+9JOulLlCjDVPpgzqWvl2oAsY78NgTnf757X0r0j3DnvieVSKFYNkqlRLZZVIi34gxW3yfqmep2j7Ba8HxNBdb4q/SwPGr9KnPt1bP02PKGw9BxOjW09e99GkK/TT+3UNrHRp3DNbpjVhd7nQO2PZTbh1nwN5vFWG8bCNsGmMY7bbl7q33Go/SVciZcMFFFyxanZyU0XEeWDyuHsTH//9ErT/0D3QH61ScFqpsOnqNYWVe5rUznjne/4Tyay2tlJpNKEvW22Jdq4OkUHyuOsVNXBQfG9EwaY1CmE4ZVOC4Fwhxv1NCkd0Kkak4CmvYkY/i/k9IgrGBGperxnM2EuMVFhpr1jPyByoOOT9hx3IeBHd0pJdZmwMYcu5DUtUum3nnbfw9bcoQ+1JHiQsRPziV3WBxFJyI26fT57MIFcGj7Da4Nzc5ycjpc73qzREApWhcvZ15r2S4TVdp3QGqmQHhL+KCHZU2MGeL+1HgjYLGU0UTzFOzu6OH8H4bL1sOstSS5Os9zDDDgJpA/GGpxqEtdZl0gq5Hku4WFoE6EI0lSjfWh0CIqLhAixXqlO9k5wEOTOJFa7gNNY9QRb99mmwRL4PfTg3bwKIgkVX5p9KVPzsw5lRDA/NZ/P4d8+zVpzoBBZjTfx6iJQCZ3acRQGFdtb1JKvyT84TYVK7fnVgVNccMKVeuOlFKuGH1hlY4pRYlGp4FfcsxprYqMsAnPOUQxGIB+mj7+KwFe/WF/GqVJFvQn4mAIEwzolyiAIleAnDspY6/KAUePODQHsYk010LMCKZF6nbBfyoI+W9e79W0MdNNnOcZ0Cpjoq+L8pDQdg9tUyIH8HRqel1cYLNoN1Zveq1os16DKREuTw4VxriPpaX7at5XT/VCK4o2MlWfrF+gaSoshIMAdFZL9QXAudefnhv4RUiOEQOHjV/ZBYyJ9GbRCGqd2MkZvAG0LI6f2GqWca+Rqafzhy2M6G1sHT/PwO9XRPnKqtl5Z+kCWfpGBIfSDAKGZfx7mn4ugp5GaQV367ooe5RtZPkuuD64MGlyZJPMSyVMEVDJeyMn5/ol9QYNCA+HJwSxGhBpdxGsg8tIuWk1jdEP+LHmmYm3bM19ZccfC5Y9+Mc6zfbquK0eLP5ZAl32jrfMafnWNbdSUHYMrgQdJOHLNzOGnjTrDxSvDRWdcyEr5Ki0hMp1+AEdK0ZI+L21QYioAMdcvtBJtXAmw3CpcGWPHKqqtWK+emt/v6kyyjLxJD6VuLoCqFYG0G0e1NlNpTtHNT/gB7t0cYJt/DEszi/xjsTGhu3AvAHul1TbhsTDXcGWr82XbS5VSzngpUV6PDHZtDFRzlhSWVcQnSenjjpMsPjAFnkzTzXzN/mVN4sKHU2c/FCuxlDETdo+dRDdmopcqS4qKxpJEPWKPVNqHUx+BfESP9v2Sw7GjgBLCCRzAHXz0Pibwnd9OltG5n1JuT9nev3SEkW5XicGyeMCX4V/plBtGCnPImX3CkfAND1i0HBNNhpnbQPseTaRzBeXOCXupqPlFcVy5N6hlUzh6SH5h9f6UYjivCSmBCj6jc7h4reQdOnSXtqSzt+ZcpfwAQKzJrwJnbH+j3b8Bwj+Ktn/PK71wdK/X4Oz+9sI7MSc3vyvKxA2pAAABK0GaJGxDf/6nhAAQ1UtwFDuS7q7/RS21qHNew5b9flN0jkc3Gkrc/g6A0Tz+NaLia0fLTRJgtRNpaqpJtRKTeQxthq+UODm/wuzV0JKUUBQ0nKBLbiUeEWs7Zaq6Dse8smoGj0B7giCcSlcqYC0WIeWHtw/QPyrww0i0/AO/J05/4nZNCUAoQCvvodxaD4OnnAYlygl33zG9WBqMi3hlILnSop9aDlzS4/tJiRpso1Y8+fEKpYg0GeAyfqlMEIatiRRZFEv/p9ciwws8PCri67s8KAF68a9OASJj5yoN6uyUehD4ILV2g4BFmsCJs+XzgmLSox3AmDnB+msEpjV+sdpzGbNi3op4nM9+dsAgtaRNYsSpxRD+p/t+dOb4y9CBcta4R0zcgtij/5YQAAAAMkGeQniFfwAN0P+FuTRmAEWZ11JkSxU5s8cTadPpKzlGQXSS+HJhaimxpBRwuLn8YYGfAAAALwGeYXRCfwAR1pPLpbNCoF9oKoWLFqERW/fQ9lpQ2D9L+OUVqCfDbjNial7ZMIHRAAAAFQGeY2pCfwAABa7hLhySgpvi7VgvIAAAAB9BmmhJqEFomUwIb//+p4QAAAVkFDSXZTrCx67j2B/gAAAAGUGehkURLCv/AAAIsIGAV/n0XBs0Kss+AxsAAAAVAZ6ldEJ/AAAFrRqNJ0YmRA1zyG9AAAAAEAGep2pCfwAAAwAgu33gLaEAAAAYQZqsSahBbJlMCG///qeEAAADAAADANSAAAAAFEGeykUVLCv/AAAIsIF6GIuceBFxAAAAEAGe6XRCfwAAAwAgrUaAN6EAAAAQAZ7rakJ/AAADACC7feAtoQAAABhBmvBJqEFsmUwIb//+p4QAAAMAAAMA1IEAAAAUQZ8ORRUsK/8AAAiwgXoYi5x4EXAAAAAQAZ8tdEJ/AAADACCtRoA3oAAAABABny9qQn8AAAMAILt94C2hAAAAGEGbNEmoQWyZTAhv//6nhAAAAwAAAwDUgAAAABRBn1JFFSwr/wAACLCBehiLnHgRcAAAABABn3F0Qn8AAAMAIK1GgDehAAAAEAGfc2pCfwAAAwAgu33gLaEAAAAYQZt4SahBbJlMCG///qeEAAADAAADANSBAAAAFEGflkUVLCv/AAAIsIF6GIuceBFwAAAAEAGftXRCfwAAAwAgrUaAN6AAAAAQAZ+3akJ/AAADACC7feAtoQAAABhBm7xJqEFsmUwIb//+p4QAAAMAAAMA1IAAAAAUQZ/aRRUsK/8AAAiwgXoYi5x4EXAAAAAQAZ/5dEJ/AAADACCtRoA3oQAAABABn/tqQn8AAAMAILt94C2gAAAAGEGb4EmoQWyZTAhv//6nhAAAAwAAAwDUgQAAABRBnh5FFSwr/wAACLCBehiLnHgRcQAAABABnj10Qn8AAAMAIK1GgDegAAAAEAGeP2pCfwAAAwAgu33gLaEAAAAYQZokSahBbJlMCG///qeEAAADAAADANSAAAAAFEGeQkUVLCv/AAAIsIF6GIuceBFxAAAAEAGeYXRCfwAAAwAgrUaAN6EAAAAQAZ5jakJ/AAADACC7feAtoAAAABhBmmhJqEFsmUwIb//+p4QAAAMAAAMA1IAAAAAUQZ6GRRUsK/8AAAiwgXoYi5x4EXEAAAAQAZ6ldEJ/AAADACCtRoA3oAAAABABnqdqQn8AAAMAILt94C2hAAAAGEGarEmoQWyZTAhv//6nhAAAAwAAAwDUgAAAABRBnspFFSwr/wAACLCBehiLnHgRcQAAABABnul0Qn8AAAMAIK1GgDehAAAAEAGe62pCfwAAAwAgu33gLaEAAAAYQZrwSahBbJlMCG///qeEAAADAAADANSBAAAAFEGfDkUVLCv/AAAIsIF6GIuceBFwAAAAEAGfLXRCfwAAAwAgrUaAN6AAAAAQAZ8vakJ/AAADACC7feAtoQAAABhBmzRJqEFsmUwIb//+p4QAAAMAAAMA1IAAAAAUQZ9SRRUsK/8AAAiwgXoYi5x4EXAAAAAQAZ9xdEJ/AAADACCtRoA3oQAAABABn3NqQn8AAAMAILt94C2hAAAAGEGbeEmoQWyZTAhv//6nhAAAAwAAAwDUgQAAABRBn5ZFFSwr/wAACLCBehiLnHgRcAAAABABn7V0Qn8AAAMAIK1GgDegAAAAEAGft2pCfwAAAwAgu33gLaEAAAAYQZu8SahBbJlMCG///qeEAAADAAADANSAAAAAFEGf2kUVLCv/AAAIsIF6GIuceBFwAAAAEAGf+XRCfwAAAwAgrUaAN6EAAAAQAZ/7akJ/AAADACC7feAtoAAAABhBm+BJqEFsmUwIb//+p4QAAAMAAAMA1IEAAAAUQZ4eRRUsK/8AAAiwgXoYi5x4EXEAAAAQAZ49dEJ/AAADACCtRoA3oAAAABABnj9qQn8AAAMAILt94C2hAAAAGEGaJEmoQWyZTAhv//6nhAAAAwAAAwDUgAAAABRBnkJFFSwr/wAACLCBehiLnHgRcQAAABABnmF0Qn8AAAMAIK1GgDehAAAAEAGeY2pCfwAAAwAgu33gLaAAAAAYQZpoSahBbJlMCG///qeEAAADAAADANSAAAAAFEGehkUVLCv/AAAIsIF6GIuceBFxAAAAEAGepXRCfwAAAwAgrUaAN6AAAAAQAZ6nakJ/AAADACC7feAtoQAAABhBmqxJqEFsmUwIb//+p4QAAAMAAAMA1IAAAAAUQZ7KRRUsK/8AAAiwgXoYi5x4EXEAAAAQAZ7pdEJ/AAADACCtRoA3oQAAABABnutqQn8AAAMAILt94C2hAAAAGEGa8EmoQWyZTAhv//6nhAAAAwAAAwDUgQAAABRBnw5FFSwr/wAACLCBehiLnHgRcAAAABABny10Qn8AAAMAIK1GgDegAAAAEAGfL2pCfwAAAwAgu33gLaEAAAAYQZs0SahBbJlMCG///qeEAAADAAADANSAAAAAFEGfUkUVLCv/AAAIsIF6GIuceBFwAAAAEAGfcXRCfwAAAwAgrUaAN6EAAAAQAZ9zakJ/AAADACC7feAtoQAAABhBm3hJqEFsmUwIb//+p4QAAAMAAAMA1IEAAAAUQZ+WRRUsK/8AAAiwgXoYi5x4EXAAAAAQAZ+1dEJ/AAADACCtRoA3oAAAABABn7dqQn8AAAMAILt94C2hAAAAGEGbvEmoQWyZTAhv//6nhAAAAwAAAwDUgAAAABRBn9pFFSwr/wAACLCBehiLnHgRcAAAABABn/l0Qn8AAAMAIK1GgDehAAAAEAGf+2pCfwAAAwAgu33gLaAAAAAYQZvgSahBbJlMCG///qeEAAADAAADANSBAAAAFEGeHkUVLCv/AAAIsIF6GIuceBFxAAAAEAGePXRCfwAAAwAgrUaAN6AAAAAQAZ4/akJ/AAADACC7feAtoQAAABhBmiRJqEFsmUwIb//+p4QAAAMAAAMA1IAAAAAUQZ5CRRUsK/8AAAiwgXoYi5x4EXEAAAAQAZ5hdEJ/AAADACCtRoA3oQAAABABnmNqQn8AAAMAILt94C2gAAAAGEGaaEmoQWyZTAhv//6nhAAAAwAAAwDUgAAAABRBnoZFFSwr/wAACLCBehiLnHgRcQAAABABnqV0Qn8AAAMAIK1GgDegAAAAEAGep2pCfwAAAwAgu33gLaEAAAAYQZqsSahBbJlMCG///qeEAAADAAADANSAAAAAFEGeykUVLCv/AAAIsIF6GIuceBFxAAAAEAGe6XRCfwAAAwAgrUaAN6EAAAAQAZ7rakJ/AAADACC7feAtoQAAABhBmvBJqEFsmUwIb//+p4QAAAMAAAMA1IEAAAAUQZ8ORRUsK/8AAAiwgXoYi5x4EXAAAAAQAZ8tdEJ/AAADACCtRoA3oAAAABABny9qQn8AAAMAILt94C2hAAAAGEGbNEmoQWyZTAhv//6nhAAAAwAAAwDUgAAAABRBn1JFFSwr/wAACLCBehiLnHgRcAAAABABn3F0Qn8AAAMAIK1GgDehAAAAEAGfc2pCfwAAAwAgu33gLaEAAAAYQZt4SahBbJlMCG///qeEAAADAAADANSBAAAAFEGflkUVLCv/AAAIsIF6GIuceBFwAAAAEAGftXRCfwAAAwAgrUaAN6AAAAAQAZ+3akJ/AAADACC7feAtoQAAABhBm7xJqEFsmUwIb//+p4QAAAMAAAMA1IAAAAAUQZ/aRRUsK/8AAAiwgXoYi5x4EXAAAAAQAZ/5dEJ/AAADACCtRoA3oQAAABABn/tqQn8AAAMAILt94C2gAAAAGEGb4EmoQWyZTAhv//6nhAAAAwAAAwDUgQAAABRBnh5FFSwr/wAACLCBehiLnHgRcQAAABABnj10Qn8AAAMAIK1GgDegAAAAEAGeP2pCfwAAAwAgu33gLaEAAAAYQZokSahBbJlMCG///qeEAAADAAADANSAAAAAFEGeQkUVLCv/AAAIsIF6GIuceBFxAAAAEAGeYXRCfwAAAwAgrUaAN6EAAAAQAZ5jakJ/AAADACC7feAtoAAAABhBmmhJqEFsmUwIb//+p4QAAAMAAAMA1IAAAAAUQZ6GRRUsK/8AAAiwgXoYi5x4EXEAAAAQAZ6ldEJ/AAADACCtRoA3oAAAABABnqdqQn8AAAMAILt94C2hAAAAGEGarEmoQWyZTAhv//6nhAAAAwAAAwDUgAAAABRBnspFFSwr/wAACLCBehiLnHgRcQAAABABnul0Qn8AAAMAIK1GgDehAAAAEAGe62pCfwAAAwAgu33gLaEAAAAYQZrwSahBbJlMCG///qeEAAADAAADANSBAAAAFEGfDkUVLCv/AAAIsIF6GIuceBFwAAAAEAGfLXRCfwAAAwAgrUaAN6AAAAAQAZ8vakJ/AAADACC7feAtoQAAABhBmzRJqEFsmUwIb//+p4QAAAMAAAMA1IAAAAAUQZ9SRRUsK/8AAAiwgXoYi5x4EXAAAAAQAZ9xdEJ/AAADACCtRoA3oQAAABABn3NqQn8AAAMAILt94C2hAAAAGEGbeEmoQWyZTAhv//6nhAAAAwAAAwDUgQAAABRBn5ZFFSwr/wAACLCBehiLnHgRcAAAABABn7V0Qn8AAAMAIK1GgDegAAAAEAGft2pCfwAAAwAgu33gLaEAAAAYQZu8SahBbJlMCG///qeEAAADAAADANSAAAAAFEGf2kUVLCv/AAAIsIF6GIuceBFwAAAAEAGf+XRCfwAAAwAgrUaAN6EAAAAQAZ/7akJ/AAADACC7feAtoAAAABhBm+BJqEFsmUwIb//+p4QAAAMAAAMA1IEAAAAUQZ4eRRUsK/8AAAiwgXoYi5x4EXEAAAAQAZ49dEJ/AAADACCtRoA3oAAAABABnj9qQn8AAAMAILt94C2hAAAAGEGaJEmoQWyZTAhv//6nhAAAAwAAAwDUgAAAABRBnkJFFSwr/wAACLCBehiLnHgRcQAAABABnmF0Qn8AAAMAIK1GgDehAAAAEAGeY2pCfwAAAwAgu33gLaAAAAAYQZpoSahBbJlMCG///qeEAAADAAADANSAAAAAFEGehkUVLCv/AAAIsIF6GIuceBFxAAAAEAGepXRCfwAAAwAgrUaAN6AAAAAQAZ6nakJ/AAADACC7feAtoQAAABhBmqxJqEFsmUwIb//+p4QAAAMAAAMA1IAAAAAUQZ7KRRUsK/8AAAiwgXoYi5x4EXEAAAAQAZ7pdEJ/AAADACCtRoA3oQAAABABnutqQn8AAAMAILt94C2hAAAAGEGa8EmoQWyZTAhv//6nhAAAAwAAAwDUgQAAABRBnw5FFSwr/wAACLCBehiLnHgRcAAAABABny10Qn8AAAMAIK1GgDegAAAAEAGfL2pCfwAAAwAgu33gLaEAAAAYQZs0SahBbJlMCG///qeEAAADAAADANSAAAAAFEGfUkUVLCv/AAAIsIF6GIuceBFwAAAAEAGfcXRCfwAAAwAgrUaAN6EAAAAQAZ9zakJ/AAADACC7feAtoQAAABhBm3hJqEFsmUwIb//+p4QAAAMAAAMA1IEAAAAUQZ+WRRUsK/8AAAiwgXoYi5x4EXAAAAAQAZ+1dEJ/AAADACCtRoA3oAAAABABn7dqQn8AAAMAILt94C2hAAAAGEGbvEmoQWyZTAhv//6nhAAAAwAAAwDUgAAAABRBn9pFFSwr/wAACLCBehiLnHgRcAAAABABn/l0Qn8AAAMAIK1GgDehAAAAEAGf+2pCfwAAAwAgu33gLaAAAAAYQZvgSahBbJlMCG///qeEAAADAAADANSBAAAAFEGeHkUVLCv/AAAIsIF6GIuceBFxAAAAEAGePXRCfwAAAwAgrUaAN6AAAAAQAZ4/akJ/AAADACC7feAtoQAAABhBmiRJqEFsmUwIb//+p4QAAAMAAAMA1IAAAAAUQZ5CRRUsK/8AAAiwgXoYi5x4EXEAAAAQAZ5hdEJ/AAADACCtRoA3oQAAABABnmNqQn8AAAMAILt94C2gAAAAGEGaaEmoQWyZTAhv//6nhAAAAwAAAwDUgAAAABRBnoZFFSwr/wAACLCBehiLnHgRcQAAABABnqV0Qn8AAAMAIK1GgDegAAAAEAGep2pCfwAAAwAgu33gLaEAAAAYQZqsSahBbJlMCG///qeEAAADAAADANSAAAAAFEGeykUVLCv/AAAIsIF6GIuceBFxAAAAEAGe6XRCfwAAAwAgrUaAN6EAAAAQAZ7rakJ/AAADACC7feAtoQAAABhBmvBJqEFsmUwIb//+p4QAAAMAAAMA1IEAAAAUQZ8ORRUsK/8AAAiwgXoYi5x4EXAAAAAQAZ8tdEJ/AAADACCtRoA3oAAAABABny9qQn8AAAMAILt94C2hAAAAGEGbNEmoQWyZTAhv//6nhAAAAwAAAwDUgAAAABRBn1JFFSwr/wAACLCBehiLnHgRcAAAABABn3F0Qn8AAAMAIK1GgDehAAAAEAGfc2pCfwAAAwAgu33gLaEAAAAYQZt4SahBbJlMCG///qeEAAADAAADANSBAAAAFEGflkUVLCv/AAAIsIF6GIuceBFwAAAAEAGftXRCfwAAAwAgrUaAN6AAAAAQAZ+3akJ/AAADACC7feAtoQAAABhBm7xJqEFsmUwIb//+p4QAAAMAAAMA1IAAAAAUQZ/aRRUsK/8AAAiwgXoYi5x4EXAAAAAQAZ/5dEJ/AAADACCtRoA3oQAAABABn/tqQn8AAAMAILt94C2gAAAAGEGb4EmoQWyZTAhv//6nhAAAAwAAAwDUgQAAABRBnh5FFSwr/wAACLCBehiLnHgRcQAAABABnj10Qn8AAAMAIK1GgDegAAAAEAGeP2pCfwAAAwAgu33gLaEAAAAYQZokSahBbJlMCG///qeEAAADAAADANSAAAAAFEGeQkUVLCv/AAAIsIF6GIuceBFxAAAAEAGeYXRCfwAAAwAgrUaAN6EAAAAQAZ5jakJ/AAADACC7feAtoAAAABhBmmhJqEFsmUwIb//+p4QAAAMAAAMA1IAAAAAUQZ6GRRUsK/8AAAiwgXoYi5x4EXEAAAAQAZ6ldEJ/AAADACCtRoA3oAAAABABnqdqQn8AAAMAILt94C2hAAAAGEGarEmoQWyZTAhv//6nhAAAAwAAAwDUgAAAABRBnspFFSwr/wAACLCBehiLnHgRcQAAABABnul0Qn8AAAMAIK1GgDehAAAAEAGe62pCfwAAAwAgu33gLaEAAAAYQZrwSahBbJlMCG///qeEAAADAAADANSBAAAAFEGfDkUVLCv/AAAIsIF6GIuceBFwAAAAEAGfLXRCfwAAAwAgrUaAN6AAAAAQAZ8vakJ/AAADACC7feAtoQAAABdBmzRJqEFsmUwIZ//+nhAAAAMAAAMDPgAAABRBn1JFFSwr/wAACLCBehiLnHgRcAAAABABn3F0Qn8AAAMAIK1GgDehAAAAEAGfc2pCfwAAAwAgu33gLaEAAAAWQZt4SahBbJlMCFf//jhAAAADAAAMqQAAABRBn5ZFFSwr/wAACLCBehiLnHgRcAAAABABn7V0Qn8AAAMAIK1GgDegAAAAEAGft2pCfwAAAwAgu33gLaEAAAAXQZu5SahBbJlMCE///fEAAAMAAAMAHpAAABnvbW9vdgAAAGxtdmhkAAAAAAAAAAAAAAAAAAAD6AAAQRsAAQAAAQAAAAAAAAAAAAAAAAEAAAAAAAAAAAAAAAAAAAABAAAAAAAAAAAAAAAAAABAAAAAAAAAAAAAAAAAAAAAAAAAAAAAAAAAAAAAAAAAAgAAGRl0cmFrAAAAXHRraGQAAAADAAAAAAAAAAAAAAABAAAAAAAAQRsAAAAAAAAAAAAAAAAAAAAAAAEAAAAAAAAAAAAAAAAAAAABAAAAAAAAAAAAAAAAAABAAAAAAlgAAAGQAAAAAAAkZWR0cwAAABxlbHN0AAAAAAAAAAEAAEEbAAAEAAABAAAAABiRbWRpYQAAACBtZGhkAAAAAAAAAAAAAAAAAAA8AAAD6ABVxAAAAAAALWhkbHIAAAAAAAAAAHZpZGUAAAAAAAAAAAAAAABWaWRlb0hhbmRsZXIAAAAYPG1pbmYAAAAUdm1oZAAAAAEAAAAAAAAAAAAAACRkaW5mAAAAHGRyZWYAAAAAAAAAAQAAAAx1cmwgAAAAAQAAF/xzdGJsAAAAmHN0c2QAAAAAAAAAAQAAAIhhdmMxAAAAAAAAAAEAAAAAAAAAAAAAAAAAAAAAAlgBkABIAAAASAAAAAAAAAABAAAAAAAAAAAAAAAAAAAAAAAAAAAAAAAAAAAAAAAAAAAAGP//AAAAMmF2Y0MBZAAe/+EAGWdkAB6s2UCYM+XhAAADAAEAAAMAPA8WLZYBAAZo6+PLIsAAAAAYc3R0cwAAAAAAAAABAAAB9AAAAgAAAAAYc3RzcwAAAAAAAAACAAAAAQAAAPsAAA8YY3R0cwAAAAAAAAHhAAAAAQAABAAAAAABAAAKAAAAAAEAAAQAAAAAAQAAAAAAAAABAAACAAAAAAEAAAQAAAAAAQAABgAAAAABAAACAAAAAAEAAAYAAAAAAQAAAgAAAAABAAAGAAAAAAEAAAIAAAAAAQAACgAAAAABAAAEAAAAAAEAAAAAAAAAAQAAAgAAAAABAAAGAAAAAAEAAAIAAAAAAQAABgAAAAABAAACAAAAAAEAAAYAAAAAAQAAAgAAAAABAAAEAAAAAAEAAAgAAAAAAgAAAgAAAAABAAAIAAAAAAIAAAIAAAAAAQAACgAAAAABAAAEAAAAAAEAAAAAAAAAAQAAAgAAAAABAAAKAAAAAAEAAAQAAAAAAQAAAAAAAAABAAACAAAAAAEAAAoAAAAAAQAABAAAAAABAAAAAAAAAAEAAAIAAAAAAQAACAAAAAACAAACAAAAAAYAAAQAAAAAAQAABgAAAAABAAACAAAAAAEAAAoAAAAAAQAABAAAAAABAAAAAAAAAAEAAAIAAAAAAQAABAAAAAABAAAGAAAAAAEAAAIAAAAAAQAACAAAAAACAAACAAAAAAMAAAQAAAAAAQAABgAAAAABAAACAAAAAAEAAAYAAAAAAQAAAgAAAAABAAAEAAAAAAEAAAgAAAAAAgAAAgAAAAABAAAGAAAAAAEAAAIAAAAAAQAACgAAAAABAAAEAAAAAAEAAAAAAAAAAQAAAgAAAAAGAAAEAAAAAAEAAAYAAAAAAQAAAgAAAAABAAAKAAAAAAEAAAQAAAAAAQAAAAAAAAABAAACAAAAAAEAAAYAAAAAAQAAAgAAAAABAAAIAAAAAAIAAAIAAAAAAQAABgAAAAABAAACAAAAAAEAAAQAAAAAAQAACgAAAAABAAAEAAAAAAEAAAAAAAAAAQAAAgAAAAABAAAKAAAAAAEAAAQAAAAAAQAAAAAAAAABAAACAAAAAAEAAAoAAAAAAQAABAAAAAABAAAAAAAAAAEAAAIAAAAAAQAACgAAAAABAAAEAAAAAAEAAAAAAAAAAQAAAgAAAAABAAAKAAAAAAEAAAQAAAAAAQAAAAAAAAABAAACAAAAAAEAAAoAAAAAAQAABAAAAAABAAAAAAAAAAEAAAIAAAAAAQAACgAAAAABAAAEAAAAAAEAAAAAAAAAAQAAAgAAAAABAAAKAAAAAAEAAAQAAAAAAQAAAAAAAAABAAACAAAAAAEAAAoAAAAAAQAABAAAAAABAAAAAAAAAAEAAAIAAAAAAQAACgAAAAABAAAEAAAAAAEAAAAAAAAAAQAAAgAAAAABAAAKAAAAAAEAAAQAAAAAAQAAAAAAAAABAAACAAAAAAEAAAoAAAAAAQAABAAAAAABAAAAAAAAAAEAAAIAAAAAAQAACgAAAAABAAAEAAAAAAEAAAAAAAAAAQAAAgAAAAABAAAKAAAAAAEAAAQAAAAAAQAAAAAAAAABAAACAAAAAAEAAAoAAAAAAQAABAAAAAABAAAAAAAAAAEAAAIAAAAAAQAACgAAAAABAAAEAAAAAAEAAAAAAAAAAQAAAgAAAAABAAAKAAAAAAEAAAQAAAAAAQAAAAAAAAABAAACAAAAAAEAAAoAAAAAAQAABAAAAAABAAAAAAAAAAEAAAIAAAAAAQAACgAAAAABAAAEAAAAAAEAAAAAAAAAAQAAAgAAAAABAAAKAAAAAAEAAAQAAAAAAQAAAAAAAAABAAACAAAAAAEAAAoAAAAAAQAABAAAAAABAAAAAAAAAAEAAAIAAAAAAQAACgAAAAABAAAEAAAAAAEAAAAAAAAAAQAAAgAAAAABAAAKAAAAAAEAAAQAAAAAAQAAAAAAAAABAAACAAAAAAEAAAoAAAAAAQAABAAAAAABAAAAAAAAAAEAAAIAAAAAAQAACgAAAAABAAAEAAAAAAEAAAAAAAAAAQAAAgAAAAABAAAKAAAAAAEAAAQAAAAAAQAAAAAAAAABAAACAAAAAAEAAAoAAAAAAQAABAAAAAABAAAAAAAAAAEAAAIAAAAAAQAACgAAAAABAAAEAAAAAAEAAAAAAAAAAQAAAgAAAAABAAAKAAAAAAEAAAQAAAAAAQAAAAAAAAABAAACAAAAAAEAAAoAAAAAAQAABAAAAAABAAAAAAAAAAEAAAIAAAAAAQAACgAAAAABAAAEAAAAAAEAAAAAAAAAAQAAAgAAAAABAAAKAAAAAAEAAAQAAAAAAQAAAAAAAAABAAACAAAAAAEAAAoAAAAAAQAABAAAAAABAAAAAAAAAAEAAAIAAAAAAQAACgAAAAABAAAEAAAAAAEAAAAAAAAAAQAAAgAAAAABAAAKAAAAAAEAAAQAAAAAAQAAAAAAAAABAAACAAAAAAEAAAoAAAAAAQAABAAAAAABAAAAAAAAAAEAAAIAAAAAAQAACgAAAAABAAAEAAAAAAEAAAAAAAAAAQAAAgAAAAABAAAIAAAAAAIAAAIAAAAAAQAABAAAAAABAAAKAAAAAAEAAAQAAAAAAQAAAAAAAAABAAACAAAAAAEAAAoAAAAAAQAABAAAAAABAAAAAAAAAAEAAAIAAAAAAQAACgAAAAABAAAEAAAAAAEAAAAAAAAAAQAAAgAAAAABAAAKAAAAAAEAAAQAAAAAAQAAAAAAAAABAAACAAAAAAEAAAoAAAAAAQAABAAAAAABAAAAAAAAAAEAAAIAAAAAAQAACgAAAAABAAAEAAAAAAEAAAAAAAAAAQAAAgAAAAABAAAKAAAAAAEAAAQAAAAAAQAAAAAAAAABAAACAAAAAAEAAAoAAAAAAQAABAAAAAABAAAAAAAAAAEAAAIAAAAAAQAACgAAAAABAAAEAAAAAAEAAAAAAAAAAQAAAgAAAAABAAAKAAAAAAEAAAQAAAAAAQAAAAAAAAABAAACAAAAAAEAAAoAAAAAAQAABAAAAAABAAAAAAAAAAEAAAIAAAAAAQAACgAAAAABAAAEAAAAAAEAAAAAAAAAAQAAAgAAAAABAAAKAAAAAAEAAAQAAAAAAQAAAAAAAAABAAACAAAAAAEAAAoAAAAAAQAABAAAAAABAAAAAAAAAAEAAAIAAAAAAQAACgAAAAABAAAEAAAAAAEAAAAAAAAAAQAAAgAAAAABAAAKAAAAAAEAAAQAAAAAAQAAAAAAAAABAAACAAAAAAEAAAoAAAAAAQAABAAAAAABAAAAAAAAAAEAAAIAAAAAAQAACgAAAAABAAAEAAAAAAEAAAAAAAAAAQAAAgAAAAABAAAKAAAAAAEAAAQAAAAAAQAAAAAAAAABAAACAAAAAAEAAAoAAAAAAQAABAAAAAABAAAAAAAAAAEAAAIAAAAAAQAACgAAAAABAAAEAAAAAAEAAAAAAAAAAQAAAgAAAAABAAAKAAAAAAEAAAQAAAAAAQAAAAAAAAABAAACAAAAAAEAAAoAAAAAAQAABAAAAAABAAAAAAAAAAEAAAIAAAAAAQAACgAAAAABAAAEAAAAAAEAAAAAAAAAAQAAAgAAAAABAAAKAAAAAAEAAAQAAAAAAQAAAAAAAAABAAACAAAAAAEAAAoAAAAAAQAABAAAAAABAAAAAAAAAAEAAAIAAAAAAQAACgAAAAABAAAEAAAAAAEAAAAAAAAAAQAAAgAAAAABAAAKAAAAAAEAAAQAAAAAAQAAAAAAAAABAAACAAAAAAEAAAoAAAAAAQAABAAAAAABAAAAAAAAAAEAAAIAAAAAAQAACgAAAAABAAAEAAAAAAEAAAAAAAAAAQAAAgAAAAABAAAKAAAAAAEAAAQAAAAAAQAAAAAAAAABAAACAAAAAAEAAAoAAAAAAQAABAAAAAABAAAAAAAAAAEAAAIAAAAAAQAACgAAAAABAAAEAAAAAAEAAAAAAAAAAQAAAgAAAAABAAAKAAAAAAEAAAQAAAAAAQAAAAAAAAABAAACAAAAAAEAAAoAAAAAAQAABAAAAAABAAAAAAAAAAEAAAIAAAAAAQAACgAAAAABAAAEAAAAAAEAAAAAAAAAAQAAAgAAAAABAAAKAAAAAAEAAAQAAAAAAQAAAAAAAAABAAACAAAAAAEAAAoAAAAAAQAABAAAAAABAAAAAAAAAAEAAAIAAAAAAQAACgAAAAABAAAEAAAAAAEAAAAAAAAAAQAAAgAAAAABAAAKAAAAAAEAAAQAAAAAAQAAAAAAAAABAAACAAAAAAEAAAoAAAAAAQAABAAAAAABAAAAAAAAAAEAAAIAAAAAAQAACgAAAAABAAAEAAAAAAEAAAAAAAAAAQAAAgAAAAABAAAKAAAAAAEAAAQAAAAAAQAAAAAAAAABAAACAAAAAAEAAAoAAAAAAQAABAAAAAABAAAAAAAAAAEAAAIAAAAAAQAACgAAAAABAAAEAAAAAAEAAAAAAAAAAQAAAgAAAAABAAAKAAAAAAEAAAQAAAAAAQAAAAAAAAABAAACAAAAAAEAAAoAAAAAAQAABAAAAAABAAAAAAAAAAEAAAIAAAAAAQAACgAAAAABAAAEAAAAAAEAAAAAAAAAAQAAAgAAAAABAAAKAAAAAAEAAAQAAAAAAQAAAAAAAAABAAACAAAAAAEAAAoAAAAAAQAABAAAAAABAAAAAAAAAAEAAAIAAAAAAQAACgAAAAABAAAEAAAAAAEAAAAAAAAAAQAAAgAAAAABAAAKAAAAAAEAAAQAAAAAAQAAAAAAAAABAAACAAAAAAEAAAoAAAAAAQAABAAAAAABAAAAAAAAAAEAAAIAAAAAAQAACgAAAAABAAAEAAAAAAEAAAAAAAAAAQAAAgAAAAABAAAKAAAAAAEAAAQAAAAAAQAAAAAAAAABAAACAAAAAAEAAAoAAAAAAQAABAAAAAABAAAAAAAAAAEAAAIAAAAAAQAACgAAAAABAAAEAAAAAAEAAAAAAAAAAQAAAgAAAAABAAAKAAAAAAEAAAQAAAAAAQAAAAAAAAABAAACAAAAAAEAAAoAAAAAAQAABAAAAAABAAAAAAAAAAEAAAIAAAAAAQAACgAAAAABAAAEAAAAAAEAAAAAAAAAAQAAAgAAAAABAAAKAAAAAAEAAAQAAAAAAQAAAAAAAAABAAACAAAAAAEAAAoAAAAAAQAABAAAAAABAAAAAAAAAAEAAAIAAAAAAQAABAAAAAAcc3RzYwAAAAAAAAABAAAAAQAAAfQAAAABAAAH5HN0c3oAAAAAAAAAAAAAAfQAABN+AAACVwAAAN0AAACWAAAAjAAAANEAAAD7AAAAhwAAAQAAAACAAAABBgAAAIoAAAFxAAAA0gAAAKMAAAChAAABLQAAAKYAAAErAAAAugAAAT0AAACaAAABDwAAAVoAAAC6AAAArgAAARUAAACjAAAAgwAAARcAAACjAAAAewAAAIoAAADYAAAAhgAAAFMAAACOAAAAygAAAJoAAACAAAAAiQAAAR0AAACvAAAApwAAASYAAADyAAAA9gAAAQoAAAEmAAABDwAAAQYAAADBAAABmAAAASkAAAC7AAAA5QAAATIAAAF4AAAAywAAAaYAAADbAAAAwAAAAQYAAADuAAABFgAAAUwAAACUAAABdQAAALIAAAEJAAABoQAAAMoAAAC1AAAA7gAAAKEAAAFrAAAA2AAAAKEAAAClAAAA9wAAANgAAAEJAAAAygAAAMIAAAD3AAABEwAAAKwAAAE3AAAA8gAAAJgAAACzAAABOwAAAKsAAAEHAAAArQAAAIkAAADZAAAAiQAAAJ8AAADMAAAAJwAAABoAAAAVAAAAHQAAACIAAAATAAAAEwAAABwAAAAhAAAAEwAAABMAAAAcAAAAIQAAABMAAAATAAAAHAAAACEAAAATAAAAEwAAABwAAAAhAAAAEwAAABMAAAAcAAAAIQAAABMAAAATAAAAHAAAACEAAAATAAAAEwAAABwAAAAhAAAAEwAAABMAAAAcAAAAIQAAABMAAAATAAAAHAAAACEAAAATAAAAEwAAABwAAAAhAAAAEwAAABMAAAAcAAAAIQAAABMAAAATAAAAHAAAACEAAAATAAAAEwAAABwAAAAhAAAAEwAAABMAAAAcAAAAIQAAABMAAAATAAAAHAAAACEAAAATAAAAEwAAABwAAAAhAAAAEwAAABMAAAAcAAAAIQAAABMAAAATAAAAHAAAACEAAAATAAAAEwAAABwAAAAhAAAAEwAAABMAAAAcAAAAIQAAABMAAAATAAAAHAAAACEAAAATAAAAEwAAABwAAAAhAAAAEwAAABMAAAAcAAAAIQAAABMAAAATAAAAHAAAACEAAAATAAAAEwAAABwAAAAhAAAAEwAAABMAAAAcAAAAIQAAABMAAAATAAAAHAAAACEAAAATAAAAEwAAABwAAAAhAAAAEwAAABMAAAAcAAAAIQAAABMAAAATAAAAHAAAACEAAAATAAAAEwAAABwAAAAhAAAAEwAAABMAAAAcAAAAIQAAABMAAAATAAAAHAAAACEAAAATAAAAEwAAABwAAAAhAAAAEwAAABMAAAAcAAAAIQAAABMAAAATAAAAGwAAABgAAAATAAASTgAAAS8AAAA2AAAAMwAAABkAAAAjAAAAHQAAABkAAAAUAAAAHAAAABgAAAAUAAAAFAAAABwAAAAYAAAAFAAAABQAAAAcAAAAGAAAABQAAAAUAAAAHAAAABgAAAAUAAAAFAAAABwAAAAYAAAAFAAAABQAAAAcAAAAGAAAABQAAAAUAAAAHAAAABgAAAAUAAAAFAAAABwAAAAYAAAAFAAAABQAAAAcAAAAGAAAABQAAAAUAAAAHAAAABgAAAAUAAAAFAAAABwAAAAYAAAAFAAAABQAAAAcAAAAGAAAABQAAAAUAAAAHAAAABgAAAAUAAAAFAAAABwAAAAYAAAAFAAAABQAAAAcAAAAGAAAABQAAAAUAAAAHAAAABgAAAAUAAAAFAAAABwAAAAYAAAAFAAAABQAAAAcAAAAGAAAABQAAAAUAAAAHAAAABgAAAAUAAAAFAAAABwAAAAYAAAAFAAAABQAAAAcAAAAGAAAABQAAAAUAAAAHAAAABgAAAAUAAAAFAAAABwAAAAYAAAAFAAAABQAAAAcAAAAGAAAABQAAAAUAAAAHAAAABgAAAAUAAAAFAAAABwAAAAYAAAAFAAAABQAAAAcAAAAGAAAABQAAAAUAAAAHAAAABgAAAAUAAAAFAAAABwAAAAYAAAAFAAAABQAAAAcAAAAGAAAABQAAAAUAAAAHAAAABgAAAAUAAAAFAAAABwAAAAYAAAAFAAAABQAAAAcAAAAGAAAABQAAAAUAAAAHAAAABgAAAAUAAAAFAAAABwAAAAYAAAAFAAAABQAAAAcAAAAGAAAABQAAAAUAAAAHAAAABgAAAAUAAAAFAAAABwAAAAYAAAAFAAAABQAAAAcAAAAGAAAABQAAAAUAAAAHAAAABgAAAAUAAAAFAAAABwAAAAYAAAAFAAAABQAAAAcAAAAGAAAABQAAAAUAAAAHAAAABgAAAAUAAAAFAAAABwAAAAYAAAAFAAAABQAAAAcAAAAGAAAABQAAAAUAAAAHAAAABgAAAAUAAAAFAAAABwAAAAYAAAAFAAAABQAAAAcAAAAGAAAABQAAAAUAAAAHAAAABgAAAAUAAAAFAAAABwAAAAYAAAAFAAAABQAAAAcAAAAGAAAABQAAAAUAAAAHAAAABgAAAAUAAAAFAAAABwAAAAYAAAAFAAAABQAAAAcAAAAGAAAABQAAAAUAAAAHAAAABgAAAAUAAAAFAAAABwAAAAYAAAAFAAAABQAAAAcAAAAGAAAABQAAAAUAAAAHAAAABgAAAAUAAAAFAAAABsAAAAYAAAAFAAAABQAAAAaAAAAGAAAABQAAAAUAAAAGwAAABRzdGNvAAAAAAAAAAEAAAAwAAAAYnVkdGEAAABabWV0YQAAAAAAAAAhaGRscgAAAAAAAAAAbWRpcmFwcGwAAAAAAAAAAAAAAAAtaWxzdAAAACWpdG9vAAAAHWRhdGEAAAABAAAAAExhdmY1Ny44My4xMDA=\" type=\"video/mp4\"></video>"
      ],
      "text/plain": [
       "<IPython.core.display.HTML object>"
      ]
     },
     "execution_count": 17,
     "metadata": {},
     "output_type": "execute_result"
    }
   ],
   "source": [
    "# file = file = \"rendering-notrain.mp4\"\n",
    "file = file = \"rendering-train.mp4\"\n",
    "from IPython.display import HTML\n",
    "html = render_mp4(file)\n",
    "HTML(html)"
   ]
  },
  {
   "cell_type": "code",
   "execution_count": null,
   "id": "758f4fc5",
   "metadata": {
    "id": "uGfUx9viJ5AT"
   },
   "outputs": [],
   "source": []
  }
 ],
 "metadata": {
  "accelerator": "GPU",
  "colab": {
   "name": "130_DQN_ExperienceReplay_TargetNN.ipynb",
   "provenance": []
  },
  "kernelspec": {
   "display_name": "Python 3",
   "language": "python",
   "name": "python3"
  },
  "language_info": {
   "codemirror_mode": {
    "name": "ipython",
    "version": 3
   },
   "file_extension": ".py",
   "mimetype": "text/x-python",
   "name": "python",
   "nbconvert_exporter": "python",
   "pygments_lexer": "ipython3",
   "version": "3.7.3"
  }
 },
 "nbformat": 4,
 "nbformat_minor": 5
}
