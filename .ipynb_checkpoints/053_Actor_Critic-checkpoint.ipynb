{
 "cells": [
  {
   "cell_type": "markdown",
   "metadata": {},
   "source": [
    "# Actor-Critic 알고리즘"
   ]
  },
  {
   "cell_type": "code",
   "execution_count": 1,
   "metadata": {},
   "outputs": [],
   "source": [
    "import numpy as np\n",
    "import torch as T\n",
    "import torch.nn as nn\n",
    "import torch.optim as optim\n",
    "import torch.nn.functional as F\n",
    "from torch.distributions import Categorical\n",
    "import gym\n",
    "from IPython import display\n",
    "import matplotlib.pyplot as plt\n",
    "#%matplotlib inline"
   ]
  },
  {
   "cell_type": "code",
   "execution_count": 2,
   "metadata": {},
   "outputs": [
    {
     "data": {
      "text/plain": [
       "device(type='cuda', index=0)"
      ]
     },
     "execution_count": 2,
     "metadata": {},
     "output_type": "execute_result"
    }
   ],
   "source": [
    "device = T.device(\"cuda:0\" if T.cuda.is_available() else \"cpu\")\n",
    "device"
   ]
  },
  {
   "cell_type": "markdown",
   "metadata": {},
   "source": [
    "- Select step-size parameters 0<alpha<=1\n",
    "- Choose discount rate 0<gamma<=1\n",
    "- Choose max number of episodes N\n",
    "- Choose number of episodes to batch together for an update K >= 1"
   ]
  },
  {
   "cell_type": "code",
   "execution_count": 3,
   "metadata": {},
   "outputs": [],
   "source": [
    "# env = gym.make('CartPole-v0')\n",
    "# alpha = 0.001\n",
    "# gamma = 0.99\n",
    "# num_episodes = 2000\n",
    "# batch_size = 10\n",
    "env = gym.make('LunarLander-v2')\n",
    "alpha = 0.0001\n",
    "gamma = 0.99\n",
    "num_episodes = 300\n",
    "batch_size = 10"
   ]
  },
  {
   "cell_type": "code",
   "execution_count": 4,
   "metadata": {},
   "outputs": [],
   "source": [
    "class ActorCritic_network(nn.Module):\n",
    "    def __init__(self, env, fc1_dims=256):\n",
    "        super(ActorCritic_network, self).__init__()\n",
    "        self.n_inputs = env.observation_space.shape[0]\n",
    "        self.n_outputs = env.action_space.n\n",
    "        self.fc1 = nn.Linear(self.n_inputs, fc1_dims)\n",
    "        self.fc_pi = nn.Linear(fc1_dims, self.n_outputs)\n",
    "        self.fc_v = nn.Linear(fc1_dims, 1)\n",
    "        \n",
    "        self.data = []\n",
    "        \n",
    "    def pi(self, state):\n",
    "        x = F.relu(self.fc1(state))\n",
    "        x = self.fc_pi(x)\n",
    "        prob = F.softmax(x, dim=-1)\n",
    "        \n",
    "        return prob\n",
    "    \n",
    "    def v(self, state):\n",
    "        x = F.relu(self.fc1(state))\n",
    "        v = self.fc_v(x)   \n",
    "        return v"
   ]
  },
  {
   "cell_type": "code",
   "execution_count": 5,
   "metadata": {},
   "outputs": [
    {
     "data": {
      "text/plain": [
       "ActorCritic_network(\n",
       "  (fc1): Linear(in_features=8, out_features=256, bias=True)\n",
       "  (fc_pi): Linear(in_features=256, out_features=4, bias=True)\n",
       "  (fc_v): Linear(in_features=256, out_features=1, bias=True)\n",
       ")"
      ]
     },
     "execution_count": 5,
     "metadata": {},
     "output_type": "execute_result"
    }
   ],
   "source": [
    "net = ActorCritic_network(env).to(device)\n",
    "optimizer = optim.Adam(net.parameters(), lr=alpha)\n",
    "net"
   ]
  },
  {
   "cell_type": "markdown",
   "metadata": {},
   "source": [
    "$\\delta^{\\pi\\theta}= r + \\gamma V^{\\pi\\theta}(S^{\\prime}) - V^{\\pi\\theta}(S)$ \n",
    "\n",
    "Actor의 Loss --> $\\log{\\pi\\theta(s,a)}\\delta^{\\pi\\theta}$ 를 maximize\n",
    "\n",
    "Critic의 Loss -->$\\delta^{\\pi\\theta}$ 를 minimize"
   ]
  },
  {
   "cell_type": "code",
   "execution_count": 6,
   "metadata": {},
   "outputs": [],
   "source": [
    "def make_batch():\n",
    "    s_lst, a_lst, r_lst, s_prime_lst, done_lst = [], [], [], [], []\n",
    "    for s, a, r, s_prime, done in batch_data:\n",
    "        s_lst.append(s)\n",
    "        a_lst.append([a])\n",
    "        r_lst.append([r/100.0])\n",
    "        s_prime_lst.append(s_prime)\n",
    "        done_lst.append([done])\n",
    "        \n",
    "    s_tensor = T.FloatTensor(s_lst).to(device)\n",
    "    a_tensor = T.LongTensor(a_lst).to(device)\n",
    "    r_tensor = T.FloatTensor(r_lst).to(device)\n",
    "    s_prime_tensor = T.FloatTensor(s_prime_lst).to(device)\n",
    "    done_tensor = T.LongTensor(done_lst).to(device)\n",
    "    \n",
    "    return s_tensor, a_tensor, r_tensor, s_prime_tensor, done_tensor"
   ]
  },
  {
   "cell_type": "code",
   "execution_count": null,
   "metadata": {
    "scrolled": true
   },
   "outputs": [
    {
     "data": {
      "image/png": "[encoded data removed]",
      "text/plain": [
       "<Figure size 432x288 with 1 Axes>"
      ]
     },
     "metadata": {},
     "output_type": "display_data"
    }
   ],
   "source": [
    "#to visualize last 100 episode\n",
    "total_rewards = []\n",
    "# for batch update\n",
    "batch_data = []\n",
    "batch_counter = 0\n",
    "screen = None\n",
    "\n",
    "for episode in range(num_episodes):\n",
    "    cur_state = env.reset()\n",
    "    done = False\n",
    "    rewards = []\n",
    "    \n",
    "    while not done:\n",
    "        prob = net.pi(T.FloatTensor(cur_state).to(device))\n",
    "        m = Categorical(prob)\n",
    "        action = m.sample().item()\n",
    "        \n",
    "        next_state, reward, done, _ = env.step(action)\n",
    "        \n",
    "#         if episode > num_episodes * 0.98:\n",
    "#             if screen is None:\n",
    "#                 plt.figure(figsize=(6,4))\n",
    "#                 screen = env.render(mode='rgb_array')\n",
    "#                 img = plt.imshow(screen) # only call this once\n",
    "                \n",
    "#             img.set_data(env.render(mode='rgb_array')) # just update the data\n",
    "#             display.display(plt.gcf())\n",
    "#             display.clear_output(wait=True)\n",
    "\n",
    "        batch_data.append((cur_state, action, reward, next_state, done))\n",
    "        \n",
    "        rewards.append(reward)\n",
    "        cur_state = next_state\n",
    "        \n",
    "        if done: # one episode terminated\n",
    "            batch_counter += 1\n",
    "            total_rewards.append(sum(rewards))\n",
    "            \n",
    "            if batch_counter % batch_size == 0:\n",
    "                s, a, r, s_prime, d = make_batch()\n",
    "                \n",
    "                td_target = r + gamma * net.v(s_prime) * d   # terminal state의 value=0\n",
    "                delta = td_target - net.v(s)\n",
    "                \n",
    "                pi = net.pi(s)\n",
    "                pi_a = pi.gather(1, a)\n",
    "                loss = -T.log(pi_a) * delta.detach() #+ delta * delta #F.smooth_l1_loss(net.v(s), td_target.detach())\n",
    "                              \n",
    "                optimizer.zero_grad()\n",
    "                loss.mean().backward()\n",
    "                optimizer.step()\n",
    "\n",
    "                batch_data = []\n",
    "                \n",
    "                avg_rewards = np.mean(total_rewards[-100:])\n",
    "                print(\"Episode {} - average of last 100: {:.2f}\".format(episode, avg_rewards))"
   ]
  },
  {
   "cell_type": "code",
   "execution_count": null,
   "metadata": {},
   "outputs": [],
   "source": [
    "mean_rewards = [np.mean(total_rewards[i+100:i+200]) for i in range(len(total_rewards)-100)]\n",
    "\n",
    "plt.figure(figsize=(6,4))\n",
    "\n",
    "plt.plot(total_rewards, label='rewards for episode')\n",
    "plt.plot(mean_rewards, label='average reward of last 100 episodes')\n",
    "plt.xlabel(\"Episodes\")\n",
    "plt.ylabel(\"Total Rewards\")\n",
    "plt.legend()\n",
    "plt.show()\n",
    "\n",
    "env.close()"
   ]
  },
  {
   "cell_type": "code",
   "execution_count": null,
   "metadata": {},
   "outputs": [],
   "source": []
  }
 ],
 "metadata": {
  "kernelspec": {
   "display_name": "tf20",
   "language": "python",
   "name": "tf20"
  },
  "language_info": {
   "codemirror_mode": {
    "name": "ipython",
    "version": 3
   },
   "file_extension": ".py",
   "mimetype": "text/x-python",
   "name": "python",
   "nbconvert_exporter": "python",
   "pygments_lexer": "ipython3",
   "version": "3.7.6"
  }
 },
 "nbformat": 4,
 "nbformat_minor": 4
}
