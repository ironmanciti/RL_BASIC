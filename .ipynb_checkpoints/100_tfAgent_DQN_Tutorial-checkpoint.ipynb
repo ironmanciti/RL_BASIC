{
 "cells": [
  {
   "cell_type": "markdown",
   "metadata": {
    "id": "pmDI-h7cI0tI"
   },
   "source": [
    "# TF 에이전트로 Deep Q 네트워크 훈련"
   ]
  },
  {
   "cell_type": "markdown",
   "metadata": {
    "id": "lsaQlK8fFQqH"
   },
   "source": [
    "## Introduction\n"
   ]
  },
  {
   "cell_type": "markdown",
   "metadata": {
    "id": "cKOCZlhUgXVK"
   },
   "source": [
    "이 예에서는 TF-Agents 라이브러리를 사용하여 Cartpole 환경에서 [DQN(Deep Q Networks)](https://storage.googleapis.com/deepmind-media/dqn/DQNNaturePaper.pdf) 에이전트를 훈련하는 방법을 보여줍니다.\n",
    "\n",
    "교육, 평가 및 데이터 수집을 위한 강화 학습(RL) 파이프라인의 모든 구성 요소를 안내합니다."
   ]
  },
  {
   "cell_type": "code",
   "execution_count": null,
   "metadata": {
    "id": "KEHR2Ui-lo8O"
   },
   "outputs": [],
   "source": [
    "!sudo apt-get update\n",
    "!sudo apt-get install -y xvfb ffmpeg freeglut3-dev\n",
    "!pip install -q 'imageio==2.4.0'\n",
    "!pip install -q pyvirtualdisplay\n",
    "!pip install -q tf-agents[reverb]\n",
    "!pip install -q pyglet"
   ]
  },
  {
   "cell_type": "code",
   "execution_count": null,
   "metadata": {
    "id": "sMitx5qSgJk1"
   },
   "outputs": [],
   "source": [
    "import base64\n",
    "import imageio\n",
    "import IPython\n",
    "import matplotlib\n",
    "import matplotlib.pyplot as plt\n",
    "import numpy as np\n",
    "import PIL.Image\n",
    "import pyvirtualdisplay\n",
    "import reverb\n",
    "\n",
    "import tensorflow as tf\n",
    "\n",
    "from tf_agents.agents.dqn import dqn_agent\n",
    "from tf_agents.drivers import py_driver\n",
    "from tf_agents.environments import suite_gym\n",
    "from tf_agents.environments import tf_py_environment\n",
    "from tf_agents.eval import metric_utils\n",
    "from tf_agents.metrics import tf_metrics\n",
    "from tf_agents.networks import sequential\n",
    "from tf_agents.policies import py_tf_eager_policy\n",
    "from tf_agents.policies import random_tf_policy\n",
    "from tf_agents.replay_buffers import reverb_replay_buffer\n",
    "from tf_agents.replay_buffers import reverb_utils\n",
    "from tf_agents.trajectories import trajectory\n",
    "from tf_agents.specs import tensor_spec\n",
    "from tf_agents.utils import common"
   ]
  },
  {
   "cell_type": "code",
   "execution_count": null,
   "metadata": {
    "id": "J6HsdS5GbSjd"
   },
   "outputs": [],
   "source": [
    "# OpenAI gym 환경을 렌더링하기 위한 가상 디스플레이를 설정합니다.\n",
    "display = pyvirtualdisplay.Display(visible=0, size=(1400, 900)).start()"
   ]
  },
  {
   "cell_type": "markdown",
   "metadata": {
    "id": "LmC0NDhdLIKY"
   },
   "source": [
    "## Hyperparameters"
   ]
  },
  {
   "cell_type": "code",
   "execution_count": null,
   "metadata": {
    "id": "HC1kNrOsLSIZ"
   },
   "outputs": [],
   "source": [
    "num_iterations = 20000 # @param {type:\"integer\"}\n",
    "\n",
    "initial_collect_steps = 100  # @param {type:\"integer\"}\n",
    "collect_steps_per_iteration =   1# @param {type:\"integer\"}\n",
    "replay_buffer_max_length = 100000  # @param {type:\"integer\"}\n",
    "\n",
    "batch_size = 64  # @param {type:\"integer\"}\n",
    "learning_rate = 1e-3  # @param {type:\"number\"}\n",
    "log_interval = 200  # @param {type:\"integer\"}\n",
    "\n",
    "num_eval_episodes = 10  # @param {type:\"integer\"}\n",
    "eval_interval = 1000  # @param {type:\"integer\"}"
   ]
  },
  {
   "cell_type": "markdown",
   "metadata": {
    "id": "VMsJC3DEgI0x"
   },
   "source": [
    "## Environment\n",
    "\n",
    "강화 학습(RL)에서 환경은 해결해야 할 작업이나 문제를 represent 합니다. 표준 환경은 `tf_agents.environments` 제품군을 사용하여 TF-Agents에서 만들 수 있습니다. TF-Agents에는 OpenAI Gym, Atari 및 DM Control과 같은 소스에서 환경을 로드하기 위한 제품군이 있습니다.\n",
    "\n",
    "OpenAI Gym 제품군에서 CartPole 환경을 로드합니다."
   ]
  },
  {
   "cell_type": "code",
   "execution_count": null,
   "metadata": {
    "id": "pYEz-S9gEv2-"
   },
   "outputs": [],
   "source": [
    "env_name = 'CartPole-v0'\n",
    "env = suite_gym.load(env_name)"
   ]
  },
  {
   "cell_type": "markdown",
   "metadata": {
    "id": "IIHYVBkuvPNw"
   },
   "source": [
    "이 환경을 렌더링하여 어떻게 보이는지 확인할 수 있습니다. 자유롭게 흔들리는 기둥이 카트에 부착되어 있습니다. 목표는 막대가 위로 향하도록 카트를 오른쪽이나 왼쪽으로 움직이는 것입니다."
   ]
  },
  {
   "cell_type": "code",
   "execution_count": null,
   "metadata": {
    "colab": {
     "base_uri": "https://localhost:8080/",
     "height": 417
    },
    "id": "RlO7WIQHu_7D",
    "outputId": "d7b2fb74-7dc8-46a4-dcd4-61978cef0e5c"
   },
   "outputs": [],
   "source": [
    "env.reset()\n",
    "PIL.Image.fromarray(env.render())"
   ]
  },
  {
   "cell_type": "markdown",
   "metadata": {
    "id": "B9_lskPOey18"
   },
   "source": [
    "`environment.step`메서드는 환경에서 'action'을 취하고 환경에 대한 다음 observation과 해당 작업에 대한 보상을 포함하는`'TimeStep` 튜플을 반환합니다.\n",
    "\n",
    "`time_step_spec()` 메서드는 `TimeStep` 튜플에 대한 사양을 반환합니다. `observation` 속성은 observation의 모양, 데이터 유형 및 허용되는 값의 범위를 보여줍니다. 'reward' 속성은 보상에 대해 동일한 세부정보를 보여줍니다.\n"
   ]
  },
  {
   "cell_type": "code",
   "execution_count": null,
   "metadata": {
    "colab": {
     "base_uri": "https://localhost:8080/"
    },
    "id": "exDv57iHfwQV",
    "outputId": "ead5322e-3fe7-458a-986b-f7d8c72d0413"
   },
   "outputs": [],
   "source": [
    "print('Observation Spec:')\n",
    "print(env.time_step_spec().observation)"
   ]
  },
  {
   "cell_type": "code",
   "execution_count": null,
   "metadata": {
    "colab": {
     "base_uri": "https://localhost:8080/"
    },
    "id": "UxiSyCbBUQPi",
    "outputId": "6cc0a3fb-1236-4e25-ea22-8efb228f785a"
   },
   "outputs": [],
   "source": [
    "print('Reward Spec:')\n",
    "print(env.time_step_spec().reward)"
   ]
  },
  {
   "cell_type": "markdown",
   "metadata": {
    "id": "b_lHcIcqUaqB"
   },
   "source": [
    "`action_spec()` 메서드는 shape, 데이터 유형 및 valid한 action의 허용 값을 반환합니다."
   ]
  },
  {
   "cell_type": "code",
   "execution_count": null,
   "metadata": {
    "colab": {
     "base_uri": "https://localhost:8080/"
    },
    "id": "bttJ4uxZUQBr",
    "outputId": "bb3c1cb7-9453-4f62-bcfc-150b4319fec3"
   },
   "outputs": [],
   "source": [
    "print('Action Spec:')\n",
    "print(env.action_spec())"
   ]
  },
  {
   "cell_type": "markdown",
   "metadata": {
    "id": "eJCgJnx3g0yY"
   },
   "source": [
    "Cartpole 환경에서:\n",
    "\n",
    "-   `observation`  4개의 floats array 이다: \n",
    "    -   카트의 위치와 속도\n",
    "    -   막대의 각도 위치와 각속도 \n",
    "-   `reward` 는 scalar float value\n",
    "-   `action` 은 scalar integer:\n",
    "    -   `0` — \"move left\"\n",
    "    -   `1` — \"move right\"\n"
   ]
  },
  {
   "cell_type": "code",
   "execution_count": null,
   "metadata": {
    "colab": {
     "base_uri": "https://localhost:8080/"
    },
    "id": "V2UGR5t_iZX-",
    "outputId": "908c365a-a879-4660-fc89-609152a6122d"
   },
   "outputs": [],
   "source": [
    "time_step = env.reset()\n",
    "print('Time step:')\n",
    "print(time_step)\n",
    "\n",
    "action = np.array(1, dtype=np.int32)\n",
    "\n",
    "next_time_step = env.step(action)\n",
    "print('Next time step:')\n",
    "print(next_time_step)"
   ]
  },
  {
   "cell_type": "markdown",
   "metadata": {
    "id": "4JSc9GviWUBK"
   },
   "source": [
    "일반적으로 두 가지 환경이 인스턴스화됩니다. 하나는 train용이고 다른 하나는 평가용입니다."
   ]
  },
  {
   "cell_type": "code",
   "execution_count": null,
   "metadata": {
    "id": "N7brXNIGWXjC"
   },
   "outputs": [],
   "source": [
    "train_py_env = suite_gym.load(env_name)\n",
    "eval_py_env = suite_gym.load(env_name)"
   ]
  },
  {
   "cell_type": "markdown",
   "metadata": {
    "id": "zuUqXAVmecTU"
   },
   "source": [
    "Cartpole 환경은 대부분의 환경과 마찬가지로 순수한 Python으로 작성되었습니다. 이것은 `TFPyEnvironment` 래퍼를 사용하여 TensorFlow로 변환됩니다.\n",
    "\n",
    "원래 환경의 API는 Numpy 배열을 사용합니다. 'TFPyEnvironment'는 이를 'Tensor'로 변환하여 Tensorflow agents 및 policy와 호환되도록 합니다.\n"
   ]
  },
  {
   "cell_type": "code",
   "execution_count": null,
   "metadata": {
    "id": "Xp-Y4mD6eDhF"
   },
   "outputs": [],
   "source": [
    "train_env = tf_py_environment.TFPyEnvironment(train_py_env)\n",
    "eval_env = tf_py_environment.TFPyEnvironment(eval_py_env)"
   ]
  },
  {
   "cell_type": "markdown",
   "metadata": {
    "id": "E9lW_OZYFR8A"
   },
   "source": [
    "## Agent\n",
    "\n",
    "RL 문제를 해결하는 데 사용되는 알고리즘은 `Agent`로 표시됩니다. TF-Agents는 다음을 포함하여 다양한 `Agents`의 표준 구현을 제공합니다.\n",
    "-   [DQN](https://storage.googleapis.com/deepmind-media/dqn/DQNNaturePaper.pdf) (이 튜토리얼에서 사용)\n",
    "-   [REINFORCE](https://www-anw.cs.umass.edu/~barto/courses/cs687/williams92simple.pdf)\n",
    "-   [DDPG](https://arxiv.org/pdf/1509.02971.pdf)\n",
    "-   [TD3](https://arxiv.org/pdf/1802.09477.pdf)\n",
    "-   [PPO](https://arxiv.org/abs/1707.06347)\n",
    "-   [SAC](https://arxiv.org/abs/1801.01290)\n",
    "\n",
    "\n",
    "DQN 에이전트는 discrete action space를 가진 모든 환경에서 사용할 수 있습니다.\n",
    "\n",
    "DQN 에이전트의 핵심은 환경에서 observation 이 주어졌을 때 모든 action에 대한 `QValues`(expected returns)를 예측하는 방법을 학습할 수 있는 신경망 모델인 `QNetwork`입니다.\n",
    "\n",
    "`tf_agents.networks.`를 사용하여 `QNetwork`를 생성합니다. 네트워크는 일련의 `tf.keras.layers.Dense` 레이어로 구성되며, 최종 레이어는 각 가능한 action에 대해 1개의 출력을 갖게 됩니다.\n",
    "\n"
   ]
  },
  {
   "cell_type": "code",
   "execution_count": null,
   "metadata": {
    "id": "TgkdEPg_muzV"
   },
   "outputs": [],
   "source": [
    "fc_layer_params = (100, 50)\n",
    "action_tensor_spec = tensor_spec.from_spec(env.action_spec())\n",
    "num_actions = action_tensor_spec.maximum - action_tensor_spec.minimum + 1\n",
    "\n",
    "# 올바른 activation 및 kernel initializer로 구성된 Dense 계층을 생성하는 도우미 함수를 정의합니다.\n",
    "def dense_layer(num_units):\n",
    "  return tf.keras.layers.Dense(\n",
    "      num_units,\n",
    "      activation=tf.keras.activations.relu,\n",
    "      kernel_initializer=tf.keras.initializers.VarianceScaling(\n",
    "          scale=2.0, mode='fan_in', distribution='truncated_normal'))\n",
    "\n",
    "# QNetwork는 Dense Layer 들과  action 하나당 하나의 q_value를 생성하기 위해 \n",
    "# num_actions unit가 있는 output 레이어로 구성됩니다.\n",
    "dense_layers = [dense_layer(num_units) for num_units in fc_layer_params]\n",
    "q_values_layer = tf.keras.layers.Dense(\n",
    "    num_actions,\n",
    "    activation=None,\n",
    "    kernel_initializer=tf.keras.initializers.RandomUniform(\n",
    "        minval=-0.03, maxval=0.03),\n",
    "    bias_initializer=tf.keras.initializers.Constant(-0.2))\n",
    "q_net = sequential.Sequential(dense_layers + [q_values_layer])"
   ]
  },
  {
   "cell_type": "markdown",
   "metadata": {
    "id": "z62u55hSmviJ"
   },
   "source": [
    "이제 `tf_agents.agents.dqn.dqn_agent`를 사용하여 `DqnAgent`를 인스턴스화합니다. `time_step_spec`, `action_spec` 및 QNetwork 외에도 에이전트 생성자는 옵티마이저(이 경우 `AdamOptimizer`), 손실 함수 및 integer step counter도 필요합니다."
   ]
  },
  {
   "cell_type": "code",
   "execution_count": null,
   "metadata": {
    "id": "jbY4yrjTEyc9"
   },
   "outputs": [],
   "source": [
    "optimizer = tf.keras.optimizers.Adam(learning_rate=learning_rate)\n",
    "\n",
    "train_step_counter = tf.Variable(0)\n",
    "\n",
    "agent = dqn_agent.DqnAgent(\n",
    "    train_env.time_step_spec(),\n",
    "    train_env.action_spec(),\n",
    "    q_network=q_net,\n",
    "    optimizer=optimizer,\n",
    "    td_errors_loss_fn=common.element_wise_squared_loss,\n",
    "    train_step_counter=train_step_counter)\n",
    "\n",
    "agent.initialize()"
   ]
  },
  {
   "cell_type": "markdown",
   "metadata": {
    "id": "I0KLrEPwkn5x"
   },
   "source": [
    "## Policies\n",
    "\n",
    "정책은 에이전트가 환경에서 작동하는 방식을 정의합니다. 일반적으로 강화 학습의 목표는 정책이 원하는 결과를 생성할 때까지 기본 모델을 훈련하는 것입니다.\n",
    "\n",
    "이 튜토리얼에서:\n",
    "\n",
    "- 원하는 결과는 장대가 카트 위에서 수직으로 균형을 유지하도록 하는 것입니다.\n",
    "- 정책은 각 `time_step` 관찰에 대해 작업(왼쪽 또는 오른쪽)을 반환합니다.\n",
    "\n",
    "에이전트에는 두 가지 정책이 있습니다.\n",
    "\n",
    "- `agent.policy` — 평가 및 배포에 사용되는 기본 정책입니다.\n",
    "- `agent.collect_policy` — 데이터 수집에 사용되는 두 번째 정책입니다."
   ]
  },
  {
   "cell_type": "code",
   "execution_count": null,
   "metadata": {
    "id": "BwY7StuMkuV4"
   },
   "outputs": [],
   "source": [
    "eval_policy = agent.policy\n",
    "collect_policy = agent.collect_policy"
   ]
  },
  {
   "cell_type": "markdown",
   "metadata": {
    "id": "2Qs1Fl3dV0ae"
   },
   "source": [
    "정책은 에이전트와 독립적으로 생성할 수 있습니다. 예를 들어 `tf_agents.policies.random_tf_policy`를 사용하여 각 `time_step`에 대한 작업을 무작위로 선택하는 정책을 만듭니다."
   ]
  },
  {
   "cell_type": "code",
   "execution_count": null,
   "metadata": {
    "id": "HE37-UCIrE69"
   },
   "outputs": [],
   "source": [
    "random_policy = random_tf_policy.RandomTFPolicy(train_env.time_step_spec(),\n",
    "                                                train_env.action_spec())"
   ]
  },
  {
   "cell_type": "markdown",
   "metadata": {
    "id": "dOlnlRRsUbxP"
   },
   "source": [
    "정책에서 action을 가져오려면 `policy.action(time_step)` 메서드를 호출하세요. `time_step`에는 환경에서 관찰한 observation이 포함됩니다. 이 메서드는 세 가지 구성 요소가 있는 named Tuple인 `PolicyStep`을 반환합니다.\n",
    "\n",
    "- `action` — 취할 action(이 경우 `0` 또는 `1`)\n",
    "- `state` — stateful (즉, RNN 기반) 정책에 사용됩니다.\n",
    "- `info` — action의 로그 확률과 같은 보조 데이터"
   ]
  },
  {
   "cell_type": "code",
   "execution_count": null,
   "metadata": {
    "id": "5gCcpXswVAxk"
   },
   "outputs": [],
   "source": [
    "example_environment = tf_py_environment.TFPyEnvironment(\n",
    "    suite_gym.load('CartPole-v0'))"
   ]
  },
  {
   "cell_type": "code",
   "execution_count": null,
   "metadata": {
    "id": "D4DHZtq3Ndis"
   },
   "outputs": [],
   "source": [
    "time_step = example_environment.reset()"
   ]
  },
  {
   "cell_type": "code",
   "execution_count": null,
   "metadata": {
    "colab": {
     "base_uri": "https://localhost:8080/"
    },
    "id": "PRFqAUzpNaAW",
    "outputId": "707a4f6f-c82f-483a-cb66-608b9a32a112"
   },
   "outputs": [],
   "source": [
    "random_policy.action(time_step)"
   ]
  },
  {
   "cell_type": "markdown",
   "metadata": {
    "id": "94rCXQtbUbXv"
   },
   "source": [
    "## Metrics and Evaluation\n",
    "\n",
    "정책을 평가하는 데 사용되는 가장 일반적인 지표는 평균 return입니다. return은 에피소드에 대한 환경에서 정책을 실행하는 동안 얻은 보상의 합계입니다. 여러 에피소드가 실행되어 평균 return을 창출합니다.\n",
    "\n",
    "다음 함수는 정책, 환경 및 에피소드 수를 고려하여 정책의 평균 return을 계산합니다.\n"
   ]
  },
  {
   "cell_type": "code",
   "execution_count": null,
   "metadata": {
    "id": "bitzHo5_UbXy"
   },
   "outputs": [],
   "source": [
    "def compute_avg_return(environment, policy, num_episodes=10):\n",
    "\n",
    "  total_return = 0.0\n",
    "  for _ in range(num_episodes):\n",
    "\n",
    "    time_step = environment.reset()\n",
    "    episode_return = 0.0\n",
    "\n",
    "    while not time_step.is_last():\n",
    "      action_step = policy.action(time_step)\n",
    "      time_step = environment.step(action_step.action)\n",
    "      episode_return += time_step.reward\n",
    "    total_return += episode_return\n",
    "\n",
    "  avg_return = total_return / num_episodes\n",
    "  return avg_return.numpy()[0]\n",
    "\n",
    "\n",
    "# See also the metrics module for standard implementations of different metrics.\n",
    "# https://github.com/tensorflow/agents/tree/master/tf_agents/metrics"
   ]
  },
  {
   "cell_type": "markdown",
   "metadata": {
    "id": "_snCVvq5Z8lJ"
   },
   "source": [
    "`random_policy`에서 이 계산을 실행하면 환경의 baseline performance가 표시됩니다."
   ]
  },
  {
   "cell_type": "code",
   "execution_count": null,
   "metadata": {
    "colab": {
     "base_uri": "https://localhost:8080/"
    },
    "id": "9bgU6Q6BZ8Bp",
    "outputId": "72e4832b-176c-4dcf-9e11-6c1dc334a5a7"
   },
   "outputs": [],
   "source": [
    "compute_avg_return(eval_env, random_policy, num_eval_episodes)"
   ]
  },
  {
   "cell_type": "markdown",
   "metadata": {
    "id": "NLva6g2jdWgr"
   },
   "source": [
    "## Replay Buffer\n",
    "\n",
    "환경에서 수집된 데이터를 추적하기 위해 Deepmind 가 만든 효율적이고 확장 가능하며 사용하기 쉬운 재생 시스템인 [Reverb](https://deepmind.com/research/open-source/Reverb)를 사용할 것입니다.  궤적을 수집할 때 경험 데이터를 저장하고 훈련 중에 소비합니다.\n",
    "\n",
    "이 replay 버퍼는 저장될 텐서를 설명하는 사양을 사용하여 구성되며 이는 agent.collect_data_spec을 사용하여 에이전트에서 얻을 수 있습니다."
   ]
  },
  {
   "cell_type": "code",
   "execution_count": null,
   "metadata": {
    "id": "vX2zGUWJGWAl"
   },
   "outputs": [],
   "source": [
    "table_name = 'uniform_table'\n",
    "replay_buffer_signature = tensor_spec.from_spec(\n",
    "      agent.collect_data_spec)\n",
    "replay_buffer_signature = tensor_spec.add_outer_dim(\n",
    "    replay_buffer_signature)\n",
    "\n",
    "table = reverb.Table(\n",
    "    table_name,\n",
    "    max_size=replay_buffer_max_length,\n",
    "    sampler=reverb.selectors.Uniform(),\n",
    "    remover=reverb.selectors.Fifo(),\n",
    "    rate_limiter=reverb.rate_limiters.MinSize(1),\n",
    "    signature=replay_buffer_signature)\n",
    "\n",
    "reverb_server = reverb.Server([table])\n",
    "\n",
    "replay_buffer = reverb_replay_buffer.ReverbReplayBuffer(\n",
    "    agent.collect_data_spec,\n",
    "    table_name=table_name,\n",
    "    sequence_length=2,\n",
    "    local_server=reverb_server)\n",
    "\n",
    "rb_observer = reverb_utils.ReverbAddTrajectoryObserver(\n",
    "  replay_buffer.py_client,\n",
    "  table_name,\n",
    "  sequence_length=2)"
   ]
  },
  {
   "cell_type": "markdown",
   "metadata": {
    "id": "ZGNTDJpZs4NN"
   },
   "source": [
    "대부분의 에이전트에서 `collect_data_spec`은 observations, actions,  reward 및 기타 항목에 대한 사양을 포함하는 `Trajectory`라 명명된 튜플입니다."
   ]
  },
  {
   "cell_type": "code",
   "execution_count": null,
   "metadata": {
    "colab": {
     "base_uri": "https://localhost:8080/"
    },
    "id": "_IZ-3HcqgE1z",
    "outputId": "be976ebc-eff9-4c4c-98de-84c735a18ea0"
   },
   "outputs": [],
   "source": [
    "agent.collect_data_spec"
   ]
  },
  {
   "cell_type": "code",
   "execution_count": null,
   "metadata": {
    "colab": {
     "base_uri": "https://localhost:8080/"
    },
    "id": "sy6g1tGcfRlw",
    "outputId": "c7654952-eb0e-4466-f02c-2aa8488be504"
   },
   "outputs": [],
   "source": [
    "agent.collect_data_spec._fields"
   ]
  },
  {
   "cell_type": "markdown",
   "metadata": {
    "id": "rVD5nQ9ZGo8_"
   },
   "source": [
    "## Data Collection\n",
    "\n",
    "이제 몇 단계 동안 환경에서 임의 정책을 실행하여 재생 버퍼에 데이터를 기록합니다.\n",
    "\n",
    "여기서 우리는 경험 수집 루프를 실행하기 위해 'PyDriver'를 사용하고 있습니다. [드라이버 자습서](https://www.tensorflow.org/agents/tutorials/4_drivers_tutorial)에서 TF Agents driver에 대해 자세히 알아볼 수 있습니다."
   ]
  },
  {
   "cell_type": "code",
   "execution_count": null,
   "metadata": {
    "colab": {
     "base_uri": "https://localhost:8080/"
    },
    "id": "wr1KSAEGG4h9",
    "outputId": "2ea24e30-eafe-435e-e031-582c9ebbce43"
   },
   "outputs": [],
   "source": [
    "py_driver.PyDriver(\n",
    "    env,\n",
    "    py_tf_eager_policy.PyTFEagerPolicy(\n",
    "      random_policy, use_tf_function=True),\n",
    "    [rb_observer],\n",
    "    max_steps=initial_collect_steps).run(train_py_env.reset())"
   ]
  },
  {
   "cell_type": "markdown",
   "metadata": {
    "id": "84z5pQJdoKxo"
   },
   "source": [
    "replay buffer 는 이제 collection of Trajectories 입니다."
   ]
  },
  {
   "cell_type": "code",
   "execution_count": null,
   "metadata": {
    "colab": {
     "base_uri": "https://localhost:8080/"
    },
    "id": "4wZnLu2ViO4E",
    "outputId": "d8a0a832-3f8c-4b92-d1d7-04c6967f2b73"
   },
   "outputs": [],
   "source": [
    "# For the curious:\n",
    "# Uncomment to peel one of these off and inspect it.\n",
    "iter(replay_buffer.as_dataset()).next()"
   ]
  },
  {
   "cell_type": "markdown",
   "metadata": {
    "id": "TujU-PMUsKjS"
   },
   "source": [
    "agent는 replay buffer에 액세스해야 합니다. 이는 에이전트에 데이터를 공급할 반복 가능한 `tf.data.Dataset` 파이프라인을 생성하여 제공됩니다.\n",
    "\n",
    "replay buffer의 각 행은 single observation step만 저장합니다. 그러나 DQN Agent는 손실을 계산하기 위해 현재 및 다음 observation이 모두 필요하므로 데이터 세트 파이프라인은 배치의 각 항목에 대해 인접한 두 행을 샘플링합니다(`num_steps=2`).\n",
    "\n",
    "이 데이터 세트는 병렬 호출을 실행하고 데이터를 prefetch 함으로써 최적화됩니다."
   ]
  },
  {
   "cell_type": "code",
   "execution_count": null,
   "metadata": {
    "colab": {
     "base_uri": "https://localhost:8080/"
    },
    "id": "ba7bilizt_qW",
    "outputId": "1dce71df-203d-4262-9ce2-79883e8f3e9d"
   },
   "outputs": [],
   "source": [
    "# Dataset generates trajectories with shape [Bx2x...]\n",
    "dataset = replay_buffer.as_dataset(\n",
    "    num_parallel_calls=3,\n",
    "    sample_batch_size=batch_size,\n",
    "    num_steps=2).prefetch(3)\n",
    "\n",
    "dataset"
   ]
  },
  {
   "cell_type": "code",
   "execution_count": null,
   "metadata": {
    "colab": {
     "base_uri": "https://localhost:8080/"
    },
    "id": "K13AST-2ppOq",
    "outputId": "d8353115-f6df-4378-9194-5dac53a681c5"
   },
   "outputs": [],
   "source": [
    "iterator = iter(dataset)\n",
    "print(iterator)"
   ]
  },
  {
   "cell_type": "code",
   "execution_count": null,
   "metadata": {
    "id": "Th5w5Sff0b16"
   },
   "outputs": [],
   "source": [
    "# For the curious:\n",
    "# Uncomment to see what the dataset iterator is feeding to the agent.\n",
    "# Compare this representation of replay data \n",
    "# to the collection of individual trajectories shown earlier.\n",
    "\n",
    "# iterator.next()"
   ]
  },
  {
   "cell_type": "markdown",
   "metadata": {
    "id": "hBc9lj9VWWtZ"
   },
   "source": [
    "## agent 훈련\n",
    "\n",
    "훈련 루프 동안 두 가지 일이 발생해야 합니다.\n",
    "\n",
    "- 환경에서 데이터 수집\n",
    "- 해당 데이터를 사용하여 에이전트의 신경망 훈련\n",
    "\n",
    "이 예에서는 정기적으로 정책을 평가하고 현재 점수를 인쇄합니다.\n",
    "\n",
    "다음은 실행하는 데 5분 정도 걸립니다."
   ]
  },
  {
   "cell_type": "code",
   "execution_count": null,
   "metadata": {
    "colab": {
     "base_uri": "https://localhost:8080/"
    },
    "id": "0pTbJ3PeyF-u",
    "outputId": "b3254c6f-445b-4087-c381-4c10b0e09295"
   },
   "outputs": [],
   "source": [
    "try:\n",
    "  %%time\n",
    "except:\n",
    "  pass\n",
    "\n",
    "# (Optional) Optimize by wrapping some of the code in a graph using TF function.\n",
    "agent.train = common.function(agent.train)\n",
    "\n",
    "# Reset the train step.\n",
    "agent.train_step_counter.assign(0)\n",
    "\n",
    "# Evaluate the agent's policy once before training.\n",
    "avg_return = compute_avg_return(eval_env, agent.policy, num_eval_episodes)\n",
    "returns = [avg_return]\n",
    "\n",
    "# Reset the environment.\n",
    "time_step = train_py_env.reset()\n",
    "\n",
    "# Create a driver to collect experience.\n",
    "collect_driver = py_driver.PyDriver(\n",
    "    env,\n",
    "    py_tf_eager_policy.PyTFEagerPolicy(\n",
    "      agent.collect_policy, use_tf_function=True),\n",
    "    [rb_observer],\n",
    "    max_steps=collect_steps_per_iteration)\n",
    "\n",
    "for _ in range(num_iterations):\n",
    "\n",
    "  # Collect a few steps and save to the replay buffer.\n",
    "  time_step, _ = collect_driver.run(time_step)\n",
    "\n",
    "  # Sample a batch of data from the buffer and update the agent's network.\n",
    "  experience, unused_info = next(iterator)\n",
    "  train_loss = agent.train(experience).loss\n",
    "\n",
    "  step = agent.train_step_counter.numpy()\n",
    "\n",
    "  if step % log_interval == 0:\n",
    "    print('step = {0}: loss = {1}'.format(step, train_loss))\n",
    "\n",
    "  if step % eval_interval == 0:\n",
    "    avg_return = compute_avg_return(eval_env, agent.policy, num_eval_episodes)\n",
    "    print('step = {0}: Average Return = {1}'.format(step, avg_return))\n",
    "    returns.append(avg_return)"
   ]
  },
  {
   "cell_type": "markdown",
   "metadata": {
    "id": "68jNcA_TiJDq"
   },
   "source": [
    "## 시각화\n"
   ]
  },
  {
   "cell_type": "markdown",
   "metadata": {
    "id": "aO-LWCdbbOIC"
   },
   "source": [
    "### Plots\n",
    "\n",
    "'matplotlib.pyplot'을 사용하여 train 중에 정책이 어떻게 개선되었는지 차트로 표시합니다.\n",
    "\n",
    "'Cartpole-v0'의 1회 반복은 200개의 시간 단계로 구성됩니다. 환경은 pole 이 유지되는 각 단계에 대해 '+1'의 보상을 제공하므로 한 에피소드에 대한 최대 수익은 200입니다. 차트는 훈련 중에 평가될 때마다 최대 return을 향해 증가하는 return을 보여줍니다. (조금 불안정하고 매번 단조 증가하지 않을 수 있습니다.)"
   ]
  },
  {
   "cell_type": "code",
   "execution_count": null,
   "metadata": {
    "colab": {
     "base_uri": "https://localhost:8080/",
     "height": 301
    },
    "id": "NxtL1mbOYCVO",
    "outputId": "0e11373b-8244-43d7-e27b-618fb58de058"
   },
   "outputs": [],
   "source": [
    "iterations = range(0, num_iterations + 1, eval_interval)\n",
    "plt.plot(iterations, returns)\n",
    "plt.ylabel('Average Return')\n",
    "plt.xlabel('Iterations')\n",
    "plt.ylim(top=250)"
   ]
  },
  {
   "cell_type": "markdown",
   "metadata": {
    "id": "M7-XpPP99Cy7"
   },
   "source": [
    "### 동영상"
   ]
  },
  {
   "cell_type": "markdown",
   "metadata": {
    "id": "9pGfGxSH32gn"
   },
   "source": [
    "차트가 좋습니다. 그러나 더 흥미로운 것은 에이전트가 실제로 환경에서 작업을 수행하는 것을 보는 것입니다.\n",
    "\n",
    "먼저 노트북에 동영상을 삽입하는 함수를 만듭니다."
   ]
  },
  {
   "cell_type": "code",
   "execution_count": null,
   "metadata": {
    "id": "ULaGr8pvOKbl"
   },
   "outputs": [],
   "source": [
    "def embed_mp4(filename):\n",
    "  \"\"\"Embeds an mp4 file in the notebook.\"\"\"\n",
    "  video = open(filename,'rb').read()\n",
    "  b64 = base64.b64encode(video)\n",
    "  tag = '''\n",
    "  <video width=\"640\" height=\"480\" controls>\n",
    "    <source src=\"data:video/mp4;base64,{0}\" type=\"video/mp4\">\n",
    "  Your browser does not support the video tag.\n",
    "  </video>'''.format(b64.decode())\n",
    "\n",
    "  return IPython.display.HTML(tag)"
   ]
  },
  {
   "cell_type": "markdown",
   "metadata": {
    "id": "9c_PH-pX4Pr5"
   },
   "source": [
    "이제 에이전트와 함께 Cartpole 게임의 몇 가지 에피소드를 반복합니다. 기본 Python 환경(TensorFlow 환경 래퍼 \"내부\")은 환경 상태의 이미지를 출력하는 `render()` 메서드를 제공합니다. 이것들은 비디오로 수집될 수 있습니다."
   ]
  },
  {
   "cell_type": "code",
   "execution_count": null,
   "metadata": {
    "colab": {
     "base_uri": "https://localhost:8080/",
     "height": 539
    },
    "id": "owOVWB158NlF",
    "outputId": "475d0169-8109-4b38-dec9-791d61b56435"
   },
   "outputs": [],
   "source": [
    "def create_policy_eval_video(policy, filename, num_episodes=5, fps=30):\n",
    "  filename = filename + \".mp4\"\n",
    "  with imageio.get_writer(filename, fps=fps) as video:\n",
    "    for _ in range(num_episodes):\n",
    "      time_step = eval_env.reset()\n",
    "      video.append_data(eval_py_env.render())\n",
    "      while not time_step.is_last():\n",
    "        action_step = policy.action(time_step)\n",
    "        time_step = eval_env.step(action_step.action)\n",
    "        video.append_data(eval_py_env.render())\n",
    "  return embed_mp4(filename)\n",
    "\n",
    "create_policy_eval_video(agent.policy, \"trained-agent\")"
   ]
  },
  {
   "cell_type": "markdown",
   "metadata": {
    "id": "povaAOcZygLw"
   },
   "source": [
    "재미를 위해 훈련된 에이전트(위)를 무작위로 움직이는 에이전트와 비교하십시오."
   ]
  },
  {
   "cell_type": "code",
   "execution_count": null,
   "metadata": {
    "colab": {
     "base_uri": "https://localhost:8080/",
     "height": 539
    },
    "id": "pJZIdC37yNH4",
    "outputId": "ccc8598a-1f8f-4bdf-9813-a93aae74ac11"
   },
   "outputs": [],
   "source": [
    "create_policy_eval_video(random_policy, \"random-agent\")"
   ]
  },
  {
   "cell_type": "code",
   "execution_count": null,
   "metadata": {
    "id": "dkpKFGoQmJgk"
   },
   "outputs": [],
   "source": []
  }
 ],
 "metadata": {
  "accelerator": "GPU",
  "colab": {
   "collapsed_sections": [],
   "name": "100_tfAgent_DQN_Tutorial.ipynb",
   "provenance": []
  },
  "kernelspec": {
   "display_name": "Python 3 (ipykernel)",
   "language": "python",
   "name": "python3"
  },
  "language_info": {
   "codemirror_mode": {
    "name": "ipython",
    "version": 3
   },
   "file_extension": ".py",
   "mimetype": "text/x-python",
   "name": "python",
   "nbconvert_exporter": "python",
   "pygments_lexer": "ipython3",
   "version": "3.8.0"
  },
  "pycharm": {
   "stem_cell": {
    "cell_type": "raw",
    "metadata": {
     "collapsed": false
    },
    "source": []
   }
  }
 },
 "nbformat": 4,
 "nbformat_minor": 1
}
