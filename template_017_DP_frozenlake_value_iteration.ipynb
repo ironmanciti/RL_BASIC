{
 "cells": [
  {
   "cell_type": "markdown",
   "id": "efbf2894",
   "metadata": {},
   "source": [
    "# 017_DP_frozenlake_value_iteration\n",
    "\n",
    "# Value Iteration\n",
    "```\n",
    "SFFF       (S: starting point, safe)\n",
    "FHFH       (F: frozen surface, safe)\n",
    "FFFH       (H: hole, fall to your doom)\n",
    "HFFG       (G: goal, where the frisbee is located)\n",
    "\n",
    "LEFT = 0\n",
    "DOWN = 1\n",
    "RIGHT = 2\n",
    "UP = 3\n",
    "\n",
    "nA = 4\n",
    "nS = 4*4 = 16\n",
    "P = {s: {a: [] for a in range(nA)} for s in range(nS)}\n",
    "env.P[0][0] \n",
    "{0: {0: [(0.3333333333333333, 0, 0.0, False), --> (P[s'], s', r, done)\n",
    "         (0.3333333333333333, 0, 0.0, False),\n",
    "         (0.3333333333333333, 4, 0.0, False)],\n",
    "```"
   ]
  },
  {
   "cell_type": "markdown",
   "id": "8110e5b5",
   "metadata": {},
   "source": [
    "<img src=\"https://jaydottechdotblog.files.wordpress.com/2016/12/rl-value-iteration-algorithm.png\" width=600 />"
   ]
  },
  {
   "cell_type": "markdown",
   "id": "5ac76d02",
   "metadata": {},
   "source": [
    "action 값을 이용하여 결정론적 최적 정책 추출"
   ]
  }
 ],
 "metadata": {
  "kernelspec": {
   "display_name": "Python 3",
   "language": "python",
   "name": "python3"
  },
  "language_info": {
   "codemirror_mode": {
    "name": "ipython",
    "version": 3
   },
   "file_extension": ".py",
   "mimetype": "text/x-python",
   "name": "python",
   "nbconvert_exporter": "python",
   "pygments_lexer": "ipython3",
   "version": "3.9.7"
  }
 },
 "nbformat": 4,
 "nbformat_minor": 5
}
