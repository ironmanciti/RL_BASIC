{
 "cells": [
  {
   "attachments": {},
   "cell_type": "markdown",
   "id": "dbc339de",
   "metadata": {},
   "source": [
    "# 035_TD_qlearning_taxi\n",
    "## Q-Learning (off-policy TD control) for estimating $\\pi = \\pi^*$\n",
    "```\n",
    "6 discrete deterministic actions:\n",
    "    - 0: move south\n",
    "    - 1: move north\n",
    "    - 2: move east\n",
    "    - 3: move west\n",
    "    - 4: pickup passenger\n",
    "    - 5: drop off passenger\n",
    "    \n",
    "5 Passenger locations:\n",
    "    - 0: R\n",
    "    - 1: G\n",
    "    - 2: Y\n",
    "    - 3: B\n",
    "    - 4: in taxi\n",
    "\n",
    "4 Destimations:\n",
    "    - 0: R\n",
    "    - 1: G\n",
    "    - 2: Y\n",
    "    - 3: B\n",
    "    \n",
    "state space is represented by:\n",
    "        (taxi_row, taxi_col, passenger_location, destination)\n",
    "          5 * 5 * 5 * 4 = 500\n",
    "\n",
    "Rewards:\n",
    "    per-step : -1,\n",
    "    승객을 배달 : +20,\n",
    "    \"픽업\" 및 \"하차\" 행위를 불법으로 실행 : -10\n",
    "    \n",
    "파란색: 승객 - 4 개의 위치 중 승객이 기다리는 곳 표시\n",
    "마젠타색: 목적지\n",
    "노란색: 빈 택시 - 승객을 내려주고 난 빈 택시 표시\n",
    "녹색: - 승객이 탑승한 택시 표시\n",
    "```\n",
    "<img src=\"https://miro.medium.com/max/1260/1*toX5ZWcYxXtsaXE6hQJ1ag.png\" width=500 />"
   ]
  },
  {
   "cell_type": "markdown",
   "id": "85bab53c",
   "metadata": {},
   "source": [
    "<img src=\"https://blog.kakaocdn.net/dn/Xmyub/btqydBg48hF/4ZwGr1XshIOWO10P95WZKK/img.jpg\" />"
   ]
  }
 ],
 "metadata": {
  "kernelspec": {
   "display_name": "Python 3",
   "language": "python",
   "name": "python3"
  },
  "language_info": {
   "codemirror_mode": {
    "name": "ipython",
    "version": 3
   },
   "file_extension": ".py",
   "mimetype": "text/x-python",
   "name": "python",
   "nbconvert_exporter": "python",
   "pygments_lexer": "ipython3",
   "version": "3.9.7"
  }
 },
 "nbformat": 4,
 "nbformat_minor": 5
}
