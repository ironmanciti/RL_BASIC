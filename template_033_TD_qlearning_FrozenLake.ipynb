{
 "cells": [
  {
   "cell_type": "markdown",
   "id": "f7bd43ce",
   "metadata": {},
   "source": [
    "# 033_TD_qlearning_FrozenLake\n",
    "## Q-Learning (off-policy TD control) for estimating $\\pi = \\pi^*$\n",
    "\n",
    "```\n",
    "LEFT - 0, DOWN - 1, RIGHT - 2, UP - 3\n",
    "\n",
    "SFFF       (S: starting point, safe)\n",
    "FHFH       (F: frozen surface, safe)\n",
    "FFFH       (H: hole, fall to your doom)\n",
    "HFFG       (G: goal, where the frisbee is located)\n",
    "```\n",
    "\n",
    "<img src=\"https://t1.daumcdn.net/cfile/tistory/257E064858A982E612\" width=400 />"
   ]
  },
  {
   "cell_type": "markdown",
   "id": "312d2814",
   "metadata": {},
   "source": [
    "<img src=\"https://blog.kakaocdn.net/dn/Xmyub/btqydBg48hF/4ZwGr1XshIOWO10P95WZKK/img.jpg\" />"
   ]
  }
 ],
 "metadata": {
  "kernelspec": {
   "display_name": "Python 3",
   "language": "python",
   "name": "python3"
  },
  "language_info": {
   "codemirror_mode": {
    "name": "ipython",
    "version": 3
   },
   "file_extension": ".py",
   "mimetype": "text/x-python",
   "name": "python",
   "nbconvert_exporter": "python",
   "pygments_lexer": "ipython3",
   "version": "3.9.7"
  }
 },
 "nbformat": 4,
 "nbformat_minor": 5
}
