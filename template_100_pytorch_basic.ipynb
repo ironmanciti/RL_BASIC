{
 "cells": [
  {
   "cell_type": "markdown",
   "metadata": {
    "id": "o4W863y11yuG"
   },
   "source": [
    "# PyTorch basic for Reinforcement Learning"
   ]
  },
  {
   "cell_type": "markdown",
   "metadata": {
    "id": "sKJGLgfS1yuK"
   },
   "source": [
    "## 1D Tensor Operation\n",
    "\n",
    "- tensor 생성"
   ]
  },
  {
   "cell_type": "markdown",
   "metadata": {
    "id": "3mHiZV4A1yuP"
   },
   "source": [
    "- 초기화되지 않은 5x3 행렬을 생성"
   ]
  },
  {
   "cell_type": "markdown",
   "metadata": {
    "id": "LzLNfI-_1yuR"
   },
   "source": [
    "- 무작위로 초기화된 행렬을 생성"
   ]
  },
  {
   "cell_type": "markdown",
   "metadata": {
    "id": "Zgi8yqae1yuT"
   },
   "source": [
    "- dtype이 long이고 0으로 채워진 행렬을 생성합니다:"
   ]
  },
  {
   "cell_type": "markdown",
   "metadata": {
    "id": "GKhiLB171yuV"
   },
   "source": [
    "- python list로 부터 tensor 생성"
   ]
  },
  {
   "cell_type": "markdown",
   "metadata": {
    "id": "cCj9wt2K1yuX"
   },
   "source": [
    "- tensor type 명시적 지정 방법"
   ]
  },
  {
   "cell_type": "markdown",
   "metadata": {
    "id": "2Xq79ZIp1yuZ"
   },
   "source": [
    "- 참고 : torch.Tensor 는 torch.FloatTensor 의 alias"
   ]
  },
  {
   "cell_type": "markdown",
   "metadata": {
    "id": "-E1nbc511yub"
   },
   "source": [
    "- 기존 tensor와 같은 shape의 tensor 생성\n",
    "- 기존 tensor의 dtype을 오버라이드(Override)"
   ]
  },
  {
   "cell_type": "markdown",
   "metadata": {
    "id": "tNDLW36x1yuc"
   },
   "source": [
    "## Tensor 의 shape "
   ]
  },
  {
   "cell_type": "markdown",
   "metadata": {
    "id": "YJVq1BDR1yuc"
   },
   "source": [
    "- shape"
   ]
  },
  {
   "cell_type": "markdown",
   "metadata": {
    "id": "upyp2bni1yud"
   },
   "source": [
    "## reshape\n",
    "- 크기 변경: tensor의 크기(size)나 모양(shape)을 변경하고 싶다면 torch.view 를 사용"
   ]
  },
  {
   "cell_type": "markdown",
   "metadata": {
    "id": "NGnygPTw1yue"
   },
   "source": [
    "## numpy 와 tensor 간의 호환성\n",
    "\n",
    "- memory 를 공유하므로 하나를 수정하면 나머지에 모두 반영  "
   ]
  },
  {
   "cell_type": "markdown",
   "metadata": {
    "id": "P6ZyENuB1yue"
   },
   "source": [
    "## Scalar value \n",
    "\n",
    "- 만약 tensor에 하나의 값만 존재한다면, ``.item()`` method를 사용하여 숫자 값을 얻을 수 있습니다.  "
   ]
  },
  {
   "cell_type": "markdown",
   "metadata": {
    "id": "XHZXymdD1yuf"
   },
   "source": [
    "## torch tensor를 Python list, Numpy array 로 변환 \n",
    "- tolist()"
   ]
  },
  {
   "cell_type": "markdown",
   "metadata": {
    "id": "VPJ1Xk4W1yug"
   },
   "source": [
    "## Mean 과 Standard Deviation"
   ]
  },
  {
   "cell_type": "markdown",
   "metadata": {
    "id": "immio7TT1yuh"
   },
   "source": [
    "## torch.linspace 와 np.linspace 비교"
   ]
  },
  {
   "cell_type": "markdown",
   "metadata": {
    "id": "t9kWOhNc1yuh"
   },
   "source": [
    "## torch.arange 와 np.arange 비교"
   ]
  },
  {
   "cell_type": "markdown",
   "metadata": {
    "id": "cqNDAtUE1yui"
   },
   "source": [
    "## tensor 연산"
   ]
  },
  {
   "cell_type": "markdown",
   "metadata": {
    "id": "DG4ZPazE1yum"
   },
   "source": [
    "## 2D Tensor Operation"
   ]
  },
  {
   "cell_type": "markdown",
   "metadata": {
    "id": "3NvhpWu71yum"
   },
   "source": [
    "- ndimension  \n",
    "- shape  \n",
    "- size()  \n",
    "- numel (number of elements)"
   ]
  },
  {
   "cell_type": "markdown",
   "metadata": {
    "id": "qfiHN2_c1yun"
   },
   "source": [
    "## Numpy 와 Tensor 간 호환성은 1D Tensor 와 동일"
   ]
  },
  {
   "cell_type": "markdown",
   "metadata": {
    "id": "B5_jxdjB1yun"
   },
   "source": [
    "## matrix 간의 연산"
   ]
  },
  {
   "cell_type": "markdown",
   "metadata": {
    "id": "BfcC5LDs1yuo"
   },
   "source": [
    "- element-wise 연산"
   ]
  },
  {
   "cell_type": "markdown",
   "metadata": {
    "id": "GkD-opRY1yuo"
   },
   "source": [
    "## matrix multiplication"
   ]
  },
  {
   "cell_type": "markdown",
   "metadata": {
    "id": "X2WcEebC1yuo"
   },
   "source": [
    "### Concatenation\n",
    "\n",
    "- default - first axis(row 단위)로 concatenate\n",
    "- column 단위로 concatenate 하려면 axis=1 로 지정"
   ]
  },
  {
   "cell_type": "markdown",
   "metadata": {
    "id": "KNkuwRCg1yup"
   },
   "source": [
    "### torch.max, torch.argmax"
   ]
  },
  {
   "cell_type": "markdown",
   "metadata": {
    "id": "-qACLgvI1yuq"
   },
   "source": [
    "## PyTorch 를 이용한 미분\n",
    "\n",
    "- autograd 패키지는 Tensor의 모든 연산에 대해 자동 미분을 제공   \n",
    "\n",
    "- ``.requires_grad`` 속성을 True 로 설정하면, 그 tensor에서 이뤄진 모든 연산들을 추적(track)하기 시작  \n",
    "\n",
    "- 계산이 완료된 후 ``.backward()`` 를 호출하여 모든 변화도(gradient)를 자동으로 계산  \n",
    "\n",
    "- 이 Tensor의 변화도는 ``.grad`` 속성에 누적  \n",
    "\n",
    "- Tensor가 기록을 추적하는 것을 중단하게 하려면, ``.detach()`` 를 호출하여 연산 기록으로부터 분리(detach)하여 이후 연산들이 추적되는 것을 방지\n",
    "\n",
    "- 도함수를 계산하기 위해서는 Tensor 의 ``.backward()`` 를 호출"
   ]
  },
  {
   "cell_type": "markdown",
   "metadata": {
    "id": "mDU9VJgy1yur"
   },
   "source": [
    "y 를 x 에 대하여 미분  \n",
    "$$y(x)=x^2$$ \n",
    "\n",
    "$$\\frac{dy(x=3)}{dx}=2x=6$$"
   ]
  },
  {
   "cell_type": "markdown",
   "metadata": {
    "id": "aeySdfaz1yur"
   },
   "source": [
    "## 편미분 \n",
    "$$f(u, v) = uv + u^2$$\n",
    "\n",
    "$$\\frac{\\partial{f(u, v)}}{\\partial {u}}=v+2u$$\n",
    "$$\\frac{\\partial{f(u, v)}}{\\partial {v}}=u$$"
   ]
  },
  {
   "cell_type": "markdown",
   "metadata": {
    "id": "nbKutzAX1yus"
   },
   "source": [
    "### CUDA Tensors\n",
    "\n",
    "- .to 메소드를 사용하여 Tensor를 어떠한 장치로도 옮길 수 있습니다."
   ]
  }
 ],
 "metadata": {
  "colab": {
   "name": "000_pytorch_basic.ipynb",
   "provenance": []
  },
  "kernelspec": {
   "display_name": "Python 3",
   "language": "python",
   "name": "python3"
  },
  "language_info": {
   "codemirror_mode": {
    "name": "ipython",
    "version": 3
   },
   "file_extension": ".py",
   "mimetype": "text/x-python",
   "name": "python",
   "nbconvert_exporter": "python",
   "pygments_lexer": "ipython3",
   "version": "3.9.7"
  }
 },
 "nbformat": 4,
 "nbformat_minor": 1
}
