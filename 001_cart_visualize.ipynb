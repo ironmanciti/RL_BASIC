{
 "cells": [
  {
   "cell_type": "code",
   "execution_count": 2,
   "id": "bca5e1f3",
   "metadata": {},
   "outputs": [],
   "source": [
    "from IPython import display\n",
    "import matplotlib.pyplot as plt\n",
    "import gym"
   ]
  },
  {
   "cell_type": "markdown",
   "id": "45765d5e",
   "metadata": {},
   "source": [
    "- Environment 초기화"
   ]
  },
  {
   "cell_type": "code",
   "execution_count": 3,
   "id": "5b9678c8",
   "metadata": {},
   "outputs": [
    {
     "data": {
      "text/plain": [
       "array([ 0.01711815, -0.04773219, -0.04771344, -0.02498272], dtype=float32)"
      ]
     },
     "execution_count": 3,
     "metadata": {},
     "output_type": "execute_result"
    }
   ],
   "source": [
    "env = gym.make('CartPole-v1')\n",
    "env.reset()"
   ]
  },
  {
   "cell_type": "markdown",
   "id": "f84b0e9b",
   "metadata": {},
   "source": [
    "## 시각화\n",
    "\n",
    "- env.render : 환경을 렌더링합니다."
   ]
  },
  {
   "cell_type": "code",
   "execution_count": 4,
   "id": "dd601096",
   "metadata": {},
   "outputs": [
    {
     "name": "stdout",
     "output_type": "stream",
     "text": [
      "[-0.9562197 -0.5771228  4.2268224  8.121133 ]\n",
      "0.0\n",
      "True\n"
     ]
    },
    {
     "data": {
      "image/png": "[encoded data removed]",
      "text/plain": [
       "<Figure size 432x288 with 1 Axes>"
      ]
     },
     "metadata": {
      "needs_background": "light"
     },
     "output_type": "display_data"
    }
   ],
   "source": [
    "plt.figure(figsize=(6, 4))\n",
    "screen = env.render(mode='rgb_array')\n",
    "img = plt.imshow(screen)\n",
    "\n",
    "# 시각화\n",
    "for _ in range(50):\n",
    "    img.set_data(env.render(mode='rgb_array'))\n",
    "    display.display(plt.gcf())\n",
    "    display.clear_output(wait=True)\n",
    "    \n",
    "    # take a random action\n",
    "    obs, reward, done, _ = env.step(env.action_space.sample())\n",
    "\n",
    "env.close()\n",
    "print(obs)\n",
    "print(reward)\n",
    "print(done)"
   ]
  },
  {
   "attachments": {},
   "cell_type": "markdown",
   "id": "420e894f",
   "metadata": {},
   "source": [
    "### 자신의 computer 에서 available 한 environment "
   ]
  },
  {
   "cell_type": "code",
   "execution_count": 5,
   "id": "16c17166",
   "metadata": {},
   "outputs": [
    {
     "data": {
      "text/plain": [
       "ValuesView(├──CartPole: [ v0, v1  ]\n",
       "├──MountainCar: [ v0  ]\n",
       "├──MountainCarContinuous: [ v0  ]\n",
       "├──Pendulum: [ v1  ]\n",
       "├──Acrobot: [ v1  ]\n",
       "├──LunarLander: [ v2  ]\n",
       "├──LunarLanderContinuous: [ v2  ]\n",
       "├──BipedalWalker: [ v3  ]\n",
       "├──BipedalWalkerHardcore: [ v3  ]\n",
       "├──CarRacing: [ v0  ]\n",
       "├──Blackjack: [ v1  ]\n",
       "├──FrozenLake: [ v1  ]\n",
       "├──FrozenLake8x8: [ v1  ]\n",
       "├──CliffWalking: [ v0  ]\n",
       "├──Taxi: [ v3  ]\n",
       "├──Reacher: [ v2  ]\n",
       "├──Pusher: [ v2  ]\n",
       "├──Thrower: [ v2  ]\n",
       "├──Striker: [ v2  ]\n",
       "├──InvertedPendulum: [ v2  ]\n",
       "├──InvertedDoublePendulum: [ v2  ]\n",
       "├──HalfCheetah: [ v2, v3  ]\n",
       "├──Hopper: [ v2, v3  ]\n",
       "├──Swimmer: [ v2, v3  ]\n",
       "├──Walker2d: [ v2, v3  ]\n",
       "├──Ant: [ v2, v3  ]\n",
       "├──Humanoid: [ v2, v3  ]\n",
       "├──HumanoidStandup: [ v2  ]\n",
       "├──CubeCrash: [ v0  ]\n",
       "├──CubeCrashSparse: [ v0  ]\n",
       "├──CubeCrashScreenBecomesBlack: [ v0  ]\n",
       "└──MemorizeDigits: [ v0  ]\n",
       ")"
      ]
     },
     "execution_count": 5,
     "metadata": {},
     "output_type": "execute_result"
    }
   ],
   "source": [
    "from gym import envs\n",
    "envs.registry.all()"
   ]
  },
  {
   "cell_type": "code",
   "execution_count": null,
   "id": "dba6790f",
   "metadata": {},
   "outputs": [],
   "source": []
  }
 ],
 "metadata": {
  "kernelspec": {
   "display_name": "Python 3",
   "language": "python",
   "name": "python3"
  },
  "language_info": {
   "codemirror_mode": {
    "name": "ipython",
    "version": 3
   },
   "file_extension": ".py",
   "mimetype": "text/x-python",
   "name": "python",
   "nbconvert_exporter": "python",
   "pygments_lexer": "ipython3",
   "version": "3.9.7"
  }
 },
 "nbformat": 4,
 "nbformat_minor": 5
}
