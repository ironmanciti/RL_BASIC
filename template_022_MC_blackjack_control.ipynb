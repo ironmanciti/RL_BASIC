{
 "cells": [
  {
   "attachments": {},
   "cell_type": "markdown",
   "id": "c46d28cd",
   "metadata": {},
   "source": [
    "# 022_MC_blackjack_control\n",
    "## Suntton p.101 \n",
    "### On-Policy First-Visit MC control(for e-soft policies) for optimum policy pi*\n",
    "\n",
    "<img src=\"https://t1.daumcdn.net/cfile/tistory/9985DE425C7C66AD28\" width=600 />\n",
    "\n",
    "- e-soft policy $\\pi$, state-action value Q(s, a) 를 random 하게 초기화   \n",
    "\n",
    "- 각 state-action pair  로 부터의 return 을 저장할 Returns(s, a) empty list 생성  \n",
    "\n",
    "- Policy $\\pi$ 를 이용하여 episode 생성\n",
    "- 각 state-action pair 에 대해, first occurrence 이후의 return 들을 더함. Q(s, a) = first occurrence 이후의 모든 return 의 평균.\n",
    "- 각 state 에 대하여 Policy 가 해당 state 의 가장 valuable 한 action을 선택할 확률 증가시킴"
   ]
  }
 ],
 "metadata": {
  "kernelspec": {
   "display_name": "Python 3",
   "language": "python",
   "name": "python3"
  },
  "language_info": {
   "codemirror_mode": {
    "name": "ipython",
    "version": 3
   },
   "file_extension": ".py",
   "mimetype": "text/x-python",
   "name": "python",
   "nbconvert_exporter": "python",
   "pygments_lexer": "ipython3",
   "version": "3.9.7"
  }
 },
 "nbformat": 4,
 "nbformat_minor": 5
}
