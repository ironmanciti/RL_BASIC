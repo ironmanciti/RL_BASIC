{
 "cells": [
  {
   "cell_type": "markdown",
   "id": "45765d5e",
   "metadata": {},
   "source": [
    "- Environment 초기화"
   ]
  },
  {
   "cell_type": "markdown",
   "id": "f84b0e9b",
   "metadata": {},
   "source": [
    "## 시각화\n",
    "\n",
    "- env.render : 환경을 렌더링합니다."
   ]
  },
  {
   "attachments": {},
   "cell_type": "markdown",
   "id": "420e894f",
   "metadata": {},
   "source": [
    "### 자신의 computer 에서 available 한 environment "
   ]
  }
 ],
 "metadata": {
  "kernelspec": {
   "display_name": "Python 3",
   "language": "python",
   "name": "python3"
  },
  "language_info": {
   "codemirror_mode": {
    "name": "ipython",
    "version": 3
   },
   "file_extension": ".py",
   "mimetype": "text/x-python",
   "name": "python",
   "nbconvert_exporter": "python",
   "pygments_lexer": "ipython3",
   "version": "3.9.7"
  }
 },
 "nbformat": 4,
 "nbformat_minor": 5
}
