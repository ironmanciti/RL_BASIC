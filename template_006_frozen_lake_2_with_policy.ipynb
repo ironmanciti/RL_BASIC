{
 "cells": [
  {
   "cell_type": "markdown",
   "id": "b7a35059",
   "metadata": {},
   "source": [
    "# 006_frozen_lake_2_with_policy"
   ]
  },
  {
   "cell_type": "markdown",
   "id": "2f177971",
   "metadata": {},
   "source": [
    "```\n",
    "LEFT - 0, DOWN - 1, RIGHT - 2, UP - 3\n",
    "\n",
    "SFFF       (S: starting point, safe)\n",
    "FHFH       (F: frozen surface, safe)\n",
    "FFFH       (H: hole, fall to your doom)\n",
    "HFFG       (G: goal, where the frisbee is located)\n",
    "```"
   ]
  },
  {
   "attachments": {},
   "cell_type": "markdown",
   "id": "4c8a4237",
   "metadata": {},
   "source": [
    "### Stochastic 한 환경에서 policy 없이 찾아가는 경우의 성공률이 10% 미만이었던데 반하여 policy 가 있으면 30% 미만, deterministic 한 환경의 경우는 100% 성공."
   ]
  }
 ],
 "metadata": {
  "kernelspec": {
   "display_name": "Python 3",
   "language": "python",
   "name": "python3"
  },
  "language_info": {
   "codemirror_mode": {
    "name": "ipython",
    "version": 3
   },
   "file_extension": ".py",
   "mimetype": "text/x-python",
   "name": "python",
   "nbconvert_exporter": "python",
   "pygments_lexer": "ipython3",
   "version": "3.9.7"
  }
 },
 "nbformat": 4,
 "nbformat_minor": 5
}
