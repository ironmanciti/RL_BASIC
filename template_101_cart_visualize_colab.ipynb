{
 "cells": [
  {
   "cell_type": "markdown",
   "id": "c8a59218",
   "metadata": {
    "id": "c8a59218"
   },
   "source": [
    "# 101. Colab 에서 Cart 시각화"
   ]
  },
  {
   "cell_type": "markdown",
   "id": "45765d5e",
   "metadata": {
    "id": "45765d5e"
   },
   "source": [
    "- Environment 초기화"
   ]
  },
  {
   "cell_type": "markdown",
   "id": "f84b0e9b",
   "metadata": {
    "id": "f84b0e9b"
   },
   "source": [
    "## 시각화\n",
    "\n",
    "- env.render : 환경을 렌더링합니다."
   ]
  },
  {
   "cell_type": "markdown",
   "id": "420e894f",
   "metadata": {
    "id": "420e894f"
   },
   "source": [
    "### 자신의 computer 에서 available 한 environment "
   ]
  }
 ],
 "metadata": {
  "accelerator": "GPU",
  "colab": {
   "name": "101_cart_visualize_colab.ipynb",
   "provenance": []
  },
  "kernelspec": {
   "display_name": "Python 3",
   "language": "python",
   "name": "python3"
  },
  "language_info": {
   "codemirror_mode": {
    "name": "ipython",
    "version": 3
   },
   "file_extension": ".py",
   "mimetype": "text/x-python",
   "name": "python",
   "nbconvert_exporter": "python",
   "pygments_lexer": "ipython3",
   "version": "3.9.7"
  }
 },
 "nbformat": 4,
 "nbformat_minor": 5
}
